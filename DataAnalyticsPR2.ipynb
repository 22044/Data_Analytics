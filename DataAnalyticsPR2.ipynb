{
  "nbformat": 4,
  "nbformat_minor": 0,
  "metadata": {
    "colab": {
      "provenance": [],
      "collapsed_sections": [],
      "authorship_tag": "ABX9TyMD2Qm69VOhBRHGD//3wH+q",
      "include_colab_link": true
    },
    "kernelspec": {
      "name": "python3",
      "display_name": "Python 3"
    },
    "language_info": {
      "name": "python"
    }
  },
  "cells": [
    {
      "cell_type": "markdown",
      "metadata": {
        "id": "view-in-github",
        "colab_type": "text"
      },
      "source": [
        "<a href=\"https://colab.research.google.com/github/harshil1030/Data_Analytics/blob/main/DataAnalyticsPR2.ipynb\" target=\"_parent\"><img src=\"https://colab.research.google.com/assets/colab-badge.svg\" alt=\"Open In Colab\"/></a>"
      ]
    },
    {
      "cell_type": "markdown",
      "source": [
        "#Practical - 2\n",
        "#Name    : Savaj Harshil\n",
        "#Subject :CDA\n",
        "#Enroll  :20012531030\n",
        "#Batch   :AI1"
      ],
      "metadata": {
        "id": "adoJq94XkOQt"
      }
    },
    {
      "cell_type": "code",
      "source": [
        "import pandas as pd\n",
        "import numpy as np\n",
        "import matplotlib.pyplot as plt\n",
        "import seaborn as sns\n",
        "import statistics \n",
        "import matplotlib.pyplot as plt\n",
        "import numpy as np\n",
        "from scipy import stats\n",
        "from sklearn.linear_model import LinearRegression\n",
        "import scipy.stats as stats\n",
        "from scipy.stats import kurtosis\n",
        "from scipy.stats import skew"
      ],
      "metadata": {
        "id": "W5Wh2c4hkNyk"
      },
      "execution_count": 65,
      "outputs": []
    },
    {
      "cell_type": "code",
      "source": [
        "from google.colab import drive\n",
        "drive.mount('/content/drive')"
      ],
      "metadata": {
        "colab": {
          "base_uri": "https://localhost:8080/",
          "height": 0
        },
        "id": "xA142ydbk8P7",
        "outputId": "59b1929e-d5c7-4b88-ca9c-605c82119776"
      },
      "execution_count": 2,
      "outputs": [
        {
          "output_type": "stream",
          "name": "stdout",
          "text": [
            "Mounted at /content/drive\n"
          ]
        }
      ]
    },
    {
      "cell_type": "code",
      "source": [
        "df=pd.read_csv(\"/content/drive/MyDrive/Dataset/PC_Export_2016_2017.csv\")"
      ],
      "metadata": {
        "id": "4l1xmFyDkNuj"
      },
      "execution_count": 3,
      "outputs": []
    },
    {
      "cell_type": "code",
      "source": [
        "df"
      ],
      "metadata": {
        "colab": {
          "base_uri": "https://localhost:8080/",
          "height": 424
        },
        "id": "a13vSiU-kNsQ",
        "outputId": "516b033c-cc86-45b5-b268-fbe9e196ce2e"
      },
      "execution_count": 4,
      "outputs": [
        {
          "output_type": "execute_result",
          "data": {
            "text/plain": [
              "      pc_code      pc_description unit  country_code  country_name   quantity  \\\n",
              "0          99   Other Commodities   Na           599   Unspecified        NaN   \n",
              "1          99   Other Commodities   Na          1213         Kenya        NaN   \n",
              "2          99   Other Commodities   Na          1395  Tanzania Rep        NaN   \n",
              "3          99   Other Commodities   Na          1417        Uganda        NaN   \n",
              "4          99   Other Commodities   Na          2035         Benin        NaN   \n",
              "...       ...                 ...  ...           ...           ...        ...   \n",
              "20839      S6  Petroleum Products  Ton         15430    Uzbekistan        2.0   \n",
              "20840      S6  Petroleum Products  Ton         16095        Cyprus    36194.0   \n",
              "20841      S6  Petroleum Products  Ton         16151     Gibraltar  2920254.0   \n",
              "20842      S6  Petroleum Products  Ton         16251         Malta    68267.0   \n",
              "20843      S6  Petroleum Products  Ton         16409        Turkey  2832785.0   \n",
              "\n",
              "             value  \n",
              "0       270.889542  \n",
              "1        17.159452  \n",
              "2         8.896539  \n",
              "3         5.181412  \n",
              "4         2.476015  \n",
              "...            ...  \n",
              "20839     0.001904  \n",
              "20840    20.474253  \n",
              "20841  1285.651148  \n",
              "20842    24.206703  \n",
              "20843  1225.807950  \n",
              "\n",
              "[20844 rows x 7 columns]"
            ],
            "text/html": [
              "\n",
              "  <div id=\"df-fbf21ff9-f5f6-426f-abb2-77bf27398c8c\">\n",
              "    <div class=\"colab-df-container\">\n",
              "      <div>\n",
              "<style scoped>\n",
              "    .dataframe tbody tr th:only-of-type {\n",
              "        vertical-align: middle;\n",
              "    }\n",
              "\n",
              "    .dataframe tbody tr th {\n",
              "        vertical-align: top;\n",
              "    }\n",
              "\n",
              "    .dataframe thead th {\n",
              "        text-align: right;\n",
              "    }\n",
              "</style>\n",
              "<table border=\"1\" class=\"dataframe\">\n",
              "  <thead>\n",
              "    <tr style=\"text-align: right;\">\n",
              "      <th></th>\n",
              "      <th>pc_code</th>\n",
              "      <th>pc_description</th>\n",
              "      <th>unit</th>\n",
              "      <th>country_code</th>\n",
              "      <th>country_name</th>\n",
              "      <th>quantity</th>\n",
              "      <th>value</th>\n",
              "    </tr>\n",
              "  </thead>\n",
              "  <tbody>\n",
              "    <tr>\n",
              "      <th>0</th>\n",
              "      <td>99</td>\n",
              "      <td>Other Commodities</td>\n",
              "      <td>Na</td>\n",
              "      <td>599</td>\n",
              "      <td>Unspecified</td>\n",
              "      <td>NaN</td>\n",
              "      <td>270.889542</td>\n",
              "    </tr>\n",
              "    <tr>\n",
              "      <th>1</th>\n",
              "      <td>99</td>\n",
              "      <td>Other Commodities</td>\n",
              "      <td>Na</td>\n",
              "      <td>1213</td>\n",
              "      <td>Kenya</td>\n",
              "      <td>NaN</td>\n",
              "      <td>17.159452</td>\n",
              "    </tr>\n",
              "    <tr>\n",
              "      <th>2</th>\n",
              "      <td>99</td>\n",
              "      <td>Other Commodities</td>\n",
              "      <td>Na</td>\n",
              "      <td>1395</td>\n",
              "      <td>Tanzania Rep</td>\n",
              "      <td>NaN</td>\n",
              "      <td>8.896539</td>\n",
              "    </tr>\n",
              "    <tr>\n",
              "      <th>3</th>\n",
              "      <td>99</td>\n",
              "      <td>Other Commodities</td>\n",
              "      <td>Na</td>\n",
              "      <td>1417</td>\n",
              "      <td>Uganda</td>\n",
              "      <td>NaN</td>\n",
              "      <td>5.181412</td>\n",
              "    </tr>\n",
              "    <tr>\n",
              "      <th>4</th>\n",
              "      <td>99</td>\n",
              "      <td>Other Commodities</td>\n",
              "      <td>Na</td>\n",
              "      <td>2035</td>\n",
              "      <td>Benin</td>\n",
              "      <td>NaN</td>\n",
              "      <td>2.476015</td>\n",
              "    </tr>\n",
              "    <tr>\n",
              "      <th>...</th>\n",
              "      <td>...</td>\n",
              "      <td>...</td>\n",
              "      <td>...</td>\n",
              "      <td>...</td>\n",
              "      <td>...</td>\n",
              "      <td>...</td>\n",
              "      <td>...</td>\n",
              "    </tr>\n",
              "    <tr>\n",
              "      <th>20839</th>\n",
              "      <td>S6</td>\n",
              "      <td>Petroleum Products</td>\n",
              "      <td>Ton</td>\n",
              "      <td>15430</td>\n",
              "      <td>Uzbekistan</td>\n",
              "      <td>2.0</td>\n",
              "      <td>0.001904</td>\n",
              "    </tr>\n",
              "    <tr>\n",
              "      <th>20840</th>\n",
              "      <td>S6</td>\n",
              "      <td>Petroleum Products</td>\n",
              "      <td>Ton</td>\n",
              "      <td>16095</td>\n",
              "      <td>Cyprus</td>\n",
              "      <td>36194.0</td>\n",
              "      <td>20.474253</td>\n",
              "    </tr>\n",
              "    <tr>\n",
              "      <th>20841</th>\n",
              "      <td>S6</td>\n",
              "      <td>Petroleum Products</td>\n",
              "      <td>Ton</td>\n",
              "      <td>16151</td>\n",
              "      <td>Gibraltar</td>\n",
              "      <td>2920254.0</td>\n",
              "      <td>1285.651148</td>\n",
              "    </tr>\n",
              "    <tr>\n",
              "      <th>20842</th>\n",
              "      <td>S6</td>\n",
              "      <td>Petroleum Products</td>\n",
              "      <td>Ton</td>\n",
              "      <td>16251</td>\n",
              "      <td>Malta</td>\n",
              "      <td>68267.0</td>\n",
              "      <td>24.206703</td>\n",
              "    </tr>\n",
              "    <tr>\n",
              "      <th>20843</th>\n",
              "      <td>S6</td>\n",
              "      <td>Petroleum Products</td>\n",
              "      <td>Ton</td>\n",
              "      <td>16409</td>\n",
              "      <td>Turkey</td>\n",
              "      <td>2832785.0</td>\n",
              "      <td>1225.807950</td>\n",
              "    </tr>\n",
              "  </tbody>\n",
              "</table>\n",
              "<p>20844 rows × 7 columns</p>\n",
              "</div>\n",
              "      <button class=\"colab-df-convert\" onclick=\"convertToInteractive('df-fbf21ff9-f5f6-426f-abb2-77bf27398c8c')\"\n",
              "              title=\"Convert this dataframe to an interactive table.\"\n",
              "              style=\"display:none;\">\n",
              "        \n",
              "  <svg xmlns=\"http://www.w3.org/2000/svg\" height=\"24px\"viewBox=\"0 0 24 24\"\n",
              "       width=\"24px\">\n",
              "    <path d=\"M0 0h24v24H0V0z\" fill=\"none\"/>\n",
              "    <path d=\"M18.56 5.44l.94 2.06.94-2.06 2.06-.94-2.06-.94-.94-2.06-.94 2.06-2.06.94zm-11 1L8.5 8.5l.94-2.06 2.06-.94-2.06-.94L8.5 2.5l-.94 2.06-2.06.94zm10 10l.94 2.06.94-2.06 2.06-.94-2.06-.94-.94-2.06-.94 2.06-2.06.94z\"/><path d=\"M17.41 7.96l-1.37-1.37c-.4-.4-.92-.59-1.43-.59-.52 0-1.04.2-1.43.59L10.3 9.45l-7.72 7.72c-.78.78-.78 2.05 0 2.83L4 21.41c.39.39.9.59 1.41.59.51 0 1.02-.2 1.41-.59l7.78-7.78 2.81-2.81c.8-.78.8-2.07 0-2.86zM5.41 20L4 18.59l7.72-7.72 1.47 1.35L5.41 20z\"/>\n",
              "  </svg>\n",
              "      </button>\n",
              "      \n",
              "  <style>\n",
              "    .colab-df-container {\n",
              "      display:flex;\n",
              "      flex-wrap:wrap;\n",
              "      gap: 12px;\n",
              "    }\n",
              "\n",
              "    .colab-df-convert {\n",
              "      background-color: #E8F0FE;\n",
              "      border: none;\n",
              "      border-radius: 50%;\n",
              "      cursor: pointer;\n",
              "      display: none;\n",
              "      fill: #1967D2;\n",
              "      height: 32px;\n",
              "      padding: 0 0 0 0;\n",
              "      width: 32px;\n",
              "    }\n",
              "\n",
              "    .colab-df-convert:hover {\n",
              "      background-color: #E2EBFA;\n",
              "      box-shadow: 0px 1px 2px rgba(60, 64, 67, 0.3), 0px 1px 3px 1px rgba(60, 64, 67, 0.15);\n",
              "      fill: #174EA6;\n",
              "    }\n",
              "\n",
              "    [theme=dark] .colab-df-convert {\n",
              "      background-color: #3B4455;\n",
              "      fill: #D2E3FC;\n",
              "    }\n",
              "\n",
              "    [theme=dark] .colab-df-convert:hover {\n",
              "      background-color: #434B5C;\n",
              "      box-shadow: 0px 1px 3px 1px rgba(0, 0, 0, 0.15);\n",
              "      filter: drop-shadow(0px 1px 2px rgba(0, 0, 0, 0.3));\n",
              "      fill: #FFFFFF;\n",
              "    }\n",
              "  </style>\n",
              "\n",
              "      <script>\n",
              "        const buttonEl =\n",
              "          document.querySelector('#df-fbf21ff9-f5f6-426f-abb2-77bf27398c8c button.colab-df-convert');\n",
              "        buttonEl.style.display =\n",
              "          google.colab.kernel.accessAllowed ? 'block' : 'none';\n",
              "\n",
              "        async function convertToInteractive(key) {\n",
              "          const element = document.querySelector('#df-fbf21ff9-f5f6-426f-abb2-77bf27398c8c');\n",
              "          const dataTable =\n",
              "            await google.colab.kernel.invokeFunction('convertToInteractive',\n",
              "                                                     [key], {});\n",
              "          if (!dataTable) return;\n",
              "\n",
              "          const docLinkHtml = 'Like what you see? Visit the ' +\n",
              "            '<a target=\"_blank\" href=https://colab.research.google.com/notebooks/data_table.ipynb>data table notebook</a>'\n",
              "            + ' to learn more about interactive tables.';\n",
              "          element.innerHTML = '';\n",
              "          dataTable['output_type'] = 'display_data';\n",
              "          await google.colab.output.renderOutput(dataTable, element);\n",
              "          const docLink = document.createElement('div');\n",
              "          docLink.innerHTML = docLinkHtml;\n",
              "          element.appendChild(docLink);\n",
              "        }\n",
              "      </script>\n",
              "    </div>\n",
              "  </div>\n",
              "  "
            ]
          },
          "metadata": {},
          "execution_count": 4
        }
      ]
    },
    {
      "cell_type": "code",
      "source": [
        "df.shape  #7 rows and 20844 cols "
      ],
      "metadata": {
        "colab": {
          "base_uri": "https://localhost:8080/",
          "height": 0
        },
        "id": "xHeXiD1XkNpw",
        "outputId": "96e49a44-70d8-4482-e83d-62904c0fae26"
      },
      "execution_count": 5,
      "outputs": [
        {
          "output_type": "execute_result",
          "data": {
            "text/plain": [
              "(20844, 7)"
            ]
          },
          "metadata": {},
          "execution_count": 5
        }
      ]
    },
    {
      "cell_type": "code",
      "source": [
        "df.info()\n"
      ],
      "metadata": {
        "colab": {
          "base_uri": "https://localhost:8080/",
          "height": 0
        },
        "id": "UdK08zZhkNnh",
        "outputId": "7e29cc7c-a2f0-4eb7-b199-1e23f46088ce"
      },
      "execution_count": 33,
      "outputs": [
        {
          "output_type": "stream",
          "name": "stdout",
          "text": [
            "<class 'pandas.core.frame.DataFrame'>\n",
            "RangeIndex: 20844 entries, 0 to 20843\n",
            "Data columns (total 7 columns):\n",
            " #   Column          Non-Null Count  Dtype  \n",
            "---  ------          --------------  -----  \n",
            " 0   pc_code         20844 non-null  object \n",
            " 1   pc_description  20844 non-null  object \n",
            " 2   unit            20844 non-null  object \n",
            " 3   country_code    20844 non-null  int64  \n",
            " 4   country_name    20844 non-null  object \n",
            " 5   quantity        10065 non-null  float64\n",
            " 6   value           20844 non-null  float64\n",
            "dtypes: float64(2), int64(1), object(4)\n",
            "memory usage: 1.1+ MB\n"
          ]
        }
      ]
    },
    {
      "cell_type": "code",
      "execution_count": 7,
      "metadata": {
        "colab": {
          "base_uri": "https://localhost:8080/",
          "height": 300
        },
        "id": "N55WUYP3i2U1",
        "outputId": "5da8c228-cee5-45b9-ac20-0a5d0a2bc61c"
      },
      "outputs": [
        {
          "output_type": "execute_result",
          "data": {
            "text/plain": [
              "       country_code      quantity         value\n",
              "count  20844.000000  1.006500e+04  20844.000000\n",
              "mean    9053.099645  3.903794e+06     13.267463\n",
              "std     4495.312603  7.484555e+07    136.903421\n",
              "min        2.000000  0.000000e+00      0.000000\n",
              "25%     4365.000000  1.360000e+02      0.024924\n",
              "50%    10179.000000  5.175000e+03      0.299185\n",
              "75%    13101.000000  1.690850e+05      2.788682\n",
              "max    16409.000000  5.710303e+09   9599.857922"
            ],
            "text/html": [
              "\n",
              "  <div id=\"df-9fd7d8cd-bf27-4b16-bbec-2008e8801078\">\n",
              "    <div class=\"colab-df-container\">\n",
              "      <div>\n",
              "<style scoped>\n",
              "    .dataframe tbody tr th:only-of-type {\n",
              "        vertical-align: middle;\n",
              "    }\n",
              "\n",
              "    .dataframe tbody tr th {\n",
              "        vertical-align: top;\n",
              "    }\n",
              "\n",
              "    .dataframe thead th {\n",
              "        text-align: right;\n",
              "    }\n",
              "</style>\n",
              "<table border=\"1\" class=\"dataframe\">\n",
              "  <thead>\n",
              "    <tr style=\"text-align: right;\">\n",
              "      <th></th>\n",
              "      <th>country_code</th>\n",
              "      <th>quantity</th>\n",
              "      <th>value</th>\n",
              "    </tr>\n",
              "  </thead>\n",
              "  <tbody>\n",
              "    <tr>\n",
              "      <th>count</th>\n",
              "      <td>20844.000000</td>\n",
              "      <td>1.006500e+04</td>\n",
              "      <td>20844.000000</td>\n",
              "    </tr>\n",
              "    <tr>\n",
              "      <th>mean</th>\n",
              "      <td>9053.099645</td>\n",
              "      <td>3.903794e+06</td>\n",
              "      <td>13.267463</td>\n",
              "    </tr>\n",
              "    <tr>\n",
              "      <th>std</th>\n",
              "      <td>4495.312603</td>\n",
              "      <td>7.484555e+07</td>\n",
              "      <td>136.903421</td>\n",
              "    </tr>\n",
              "    <tr>\n",
              "      <th>min</th>\n",
              "      <td>2.000000</td>\n",
              "      <td>0.000000e+00</td>\n",
              "      <td>0.000000</td>\n",
              "    </tr>\n",
              "    <tr>\n",
              "      <th>25%</th>\n",
              "      <td>4365.000000</td>\n",
              "      <td>1.360000e+02</td>\n",
              "      <td>0.024924</td>\n",
              "    </tr>\n",
              "    <tr>\n",
              "      <th>50%</th>\n",
              "      <td>10179.000000</td>\n",
              "      <td>5.175000e+03</td>\n",
              "      <td>0.299185</td>\n",
              "    </tr>\n",
              "    <tr>\n",
              "      <th>75%</th>\n",
              "      <td>13101.000000</td>\n",
              "      <td>1.690850e+05</td>\n",
              "      <td>2.788682</td>\n",
              "    </tr>\n",
              "    <tr>\n",
              "      <th>max</th>\n",
              "      <td>16409.000000</td>\n",
              "      <td>5.710303e+09</td>\n",
              "      <td>9599.857922</td>\n",
              "    </tr>\n",
              "  </tbody>\n",
              "</table>\n",
              "</div>\n",
              "      <button class=\"colab-df-convert\" onclick=\"convertToInteractive('df-9fd7d8cd-bf27-4b16-bbec-2008e8801078')\"\n",
              "              title=\"Convert this dataframe to an interactive table.\"\n",
              "              style=\"display:none;\">\n",
              "        \n",
              "  <svg xmlns=\"http://www.w3.org/2000/svg\" height=\"24px\"viewBox=\"0 0 24 24\"\n",
              "       width=\"24px\">\n",
              "    <path d=\"M0 0h24v24H0V0z\" fill=\"none\"/>\n",
              "    <path d=\"M18.56 5.44l.94 2.06.94-2.06 2.06-.94-2.06-.94-.94-2.06-.94 2.06-2.06.94zm-11 1L8.5 8.5l.94-2.06 2.06-.94-2.06-.94L8.5 2.5l-.94 2.06-2.06.94zm10 10l.94 2.06.94-2.06 2.06-.94-2.06-.94-.94-2.06-.94 2.06-2.06.94z\"/><path d=\"M17.41 7.96l-1.37-1.37c-.4-.4-.92-.59-1.43-.59-.52 0-1.04.2-1.43.59L10.3 9.45l-7.72 7.72c-.78.78-.78 2.05 0 2.83L4 21.41c.39.39.9.59 1.41.59.51 0 1.02-.2 1.41-.59l7.78-7.78 2.81-2.81c.8-.78.8-2.07 0-2.86zM5.41 20L4 18.59l7.72-7.72 1.47 1.35L5.41 20z\"/>\n",
              "  </svg>\n",
              "      </button>\n",
              "      \n",
              "  <style>\n",
              "    .colab-df-container {\n",
              "      display:flex;\n",
              "      flex-wrap:wrap;\n",
              "      gap: 12px;\n",
              "    }\n",
              "\n",
              "    .colab-df-convert {\n",
              "      background-color: #E8F0FE;\n",
              "      border: none;\n",
              "      border-radius: 50%;\n",
              "      cursor: pointer;\n",
              "      display: none;\n",
              "      fill: #1967D2;\n",
              "      height: 32px;\n",
              "      padding: 0 0 0 0;\n",
              "      width: 32px;\n",
              "    }\n",
              "\n",
              "    .colab-df-convert:hover {\n",
              "      background-color: #E2EBFA;\n",
              "      box-shadow: 0px 1px 2px rgba(60, 64, 67, 0.3), 0px 1px 3px 1px rgba(60, 64, 67, 0.15);\n",
              "      fill: #174EA6;\n",
              "    }\n",
              "\n",
              "    [theme=dark] .colab-df-convert {\n",
              "      background-color: #3B4455;\n",
              "      fill: #D2E3FC;\n",
              "    }\n",
              "\n",
              "    [theme=dark] .colab-df-convert:hover {\n",
              "      background-color: #434B5C;\n",
              "      box-shadow: 0px 1px 3px 1px rgba(0, 0, 0, 0.15);\n",
              "      filter: drop-shadow(0px 1px 2px rgba(0, 0, 0, 0.3));\n",
              "      fill: #FFFFFF;\n",
              "    }\n",
              "  </style>\n",
              "\n",
              "      <script>\n",
              "        const buttonEl =\n",
              "          document.querySelector('#df-9fd7d8cd-bf27-4b16-bbec-2008e8801078 button.colab-df-convert');\n",
              "        buttonEl.style.display =\n",
              "          google.colab.kernel.accessAllowed ? 'block' : 'none';\n",
              "\n",
              "        async function convertToInteractive(key) {\n",
              "          const element = document.querySelector('#df-9fd7d8cd-bf27-4b16-bbec-2008e8801078');\n",
              "          const dataTable =\n",
              "            await google.colab.kernel.invokeFunction('convertToInteractive',\n",
              "                                                     [key], {});\n",
              "          if (!dataTable) return;\n",
              "\n",
              "          const docLinkHtml = 'Like what you see? Visit the ' +\n",
              "            '<a target=\"_blank\" href=https://colab.research.google.com/notebooks/data_table.ipynb>data table notebook</a>'\n",
              "            + ' to learn more about interactive tables.';\n",
              "          element.innerHTML = '';\n",
              "          dataTable['output_type'] = 'display_data';\n",
              "          await google.colab.output.renderOutput(dataTable, element);\n",
              "          const docLink = document.createElement('div');\n",
              "          docLink.innerHTML = docLinkHtml;\n",
              "          element.appendChild(docLink);\n",
              "        }\n",
              "      </script>\n",
              "    </div>\n",
              "  </div>\n",
              "  "
            ]
          },
          "metadata": {},
          "execution_count": 7
        }
      ],
      "source": [
        "df.describe()"
      ]
    },
    {
      "cell_type": "markdown",
      "source": [
        "Finding Terms Without Using Function\n",
        "1.Mean\n"
      ],
      "metadata": {
        "id": "MLl6ZfFMNV_g"
      }
    },
    {
      "cell_type": "code",
      "source": [
        "manual_mean=df['value']\n",
        "manual_mean"
      ],
      "metadata": {
        "colab": {
          "base_uri": "https://localhost:8080/",
          "height": 0
        },
        "id": "MXMAOyUmNahs",
        "outputId": "1b747673-d433-45ea-9eae-2917910d548a"
      },
      "execution_count": 38,
      "outputs": [
        {
          "output_type": "execute_result",
          "data": {
            "text/plain": [
              "0         270.889542\n",
              "1          17.159452\n",
              "2           8.896539\n",
              "3           5.181412\n",
              "4           2.476015\n",
              "            ...     \n",
              "20839       0.001904\n",
              "20840      20.474253\n",
              "20841    1285.651148\n",
              "20842      24.206703\n",
              "20843    1225.807950\n",
              "Name: value, Length: 20844, dtype: float64"
            ]
          },
          "metadata": {},
          "execution_count": 38
        }
      ]
    },
    {
      "cell_type": "code",
      "source": [
        "get_sum = sum(manual_mean)\n",
        "mean = get_sum / 20843\n",
        "\n",
        "mean"
      ],
      "metadata": {
        "colab": {
          "base_uri": "https://localhost:8080/",
          "height": 0
        },
        "id": "yq5WJt7NOLD8",
        "outputId": "c81f4611-3140-44d7-bb0b-28efb0118bc4"
      },
      "execution_count": 44,
      "outputs": [
        {
          "output_type": "execute_result",
          "data": {
            "text/plain": [
              "13.268099660749472"
            ]
          },
          "metadata": {},
          "execution_count": 44
        }
      ]
    },
    {
      "cell_type": "markdown",
      "source": [
        "2.Median"
      ],
      "metadata": {
        "id": "X0P8vb2bOhEB"
      }
    },
    {
      "cell_type": "code",
      "source": [
        "s=df['value']\n",
        "s"
      ],
      "metadata": {
        "colab": {
          "base_uri": "https://localhost:8080/",
          "height": 0
        },
        "id": "40sLF54lQAWl",
        "outputId": "354ad2cf-191a-49b8-f4fa-7b032efcbbea"
      },
      "execution_count": 52,
      "outputs": [
        {
          "output_type": "execute_result",
          "data": {
            "text/plain": [
              "0         270.889542\n",
              "1          17.159452\n",
              "2           8.896539\n",
              "3           5.181412\n",
              "4           2.476015\n",
              "            ...     \n",
              "20839       0.001904\n",
              "20840      20.474253\n",
              "20841    1285.651148\n",
              "20842      24.206703\n",
              "20843    1225.807950\n",
              "Name: value, Length: 20844, dtype: float64"
            ]
          },
          "metadata": {},
          "execution_count": 52
        }
      ]
    },
    {
      "cell_type": "code",
      "source": [
        "sorted_meadianval=s.sort_values(ascending=True)"
      ],
      "metadata": {
        "colab": {
          "base_uri": "https://localhost:8080/",
          "height": 0
        },
        "id": "WG40agdDQbz4",
        "outputId": "a6915ab7-5330-4877-cfd3-ddbfeaf925da"
      },
      "execution_count": 53,
      "outputs": [
        {
          "output_type": "execute_result",
          "data": {
            "text/plain": [
              "5592       0.000000\n",
              "206        0.000000\n",
              "9611       0.000000\n",
              "7898       0.000000\n",
              "5516       0.000000\n",
              "           ...     \n",
              "7044    5071.013981\n",
              "5822    5352.101600\n",
              "5993    5959.752313\n",
              "5715    7507.233775\n",
              "5745    9599.857922\n",
              "Name: value, Length: 20844, dtype: float64"
            ]
          },
          "metadata": {},
          "execution_count": 53
        }
      ]
    },
    {
      "cell_type": "code",
      "source": [
        "n_num=df['value']\n",
        "n = len(n_num)\n",
        "sorted_meadianval=s.sort_values(ascending=True)\n",
        "\n",
        "  \n",
        "if n % 2 == 0:\n",
        "    median1 = n_num[n//2]\n",
        "    median2 = n_num[n//2 - 1]\n",
        "    median = (median1 + median2)/2\n",
        "else:\n",
        "    median = n_num[n//2]\n",
        "print(\"Median is: \" + str(median))"
      ],
      "metadata": {
        "colab": {
          "base_uri": "https://localhost:8080/",
          "height": 0
        },
        "id": "F53vTeiTOgG3",
        "outputId": "d251e1c7-3705-4f64-a9cf-c610bfd7c6ab"
      },
      "execution_count": 61,
      "outputs": [
        {
          "output_type": "stream",
          "name": "stdout",
          "text": [
            "Median is: 0.000371\n"
          ]
        }
      ]
    },
    {
      "cell_type": "markdown",
      "source": [
        "Mean of Exported Quantity"
      ],
      "metadata": {
        "id": "ZKZa0-ZOm7FM"
      }
    },
    {
      "cell_type": "code",
      "source": [
        "x1=df[\"value\"].mean()\n",
        "x1"
      ],
      "metadata": {
        "id": "F--RxLKTm6h5",
        "colab": {
          "base_uri": "https://localhost:8080/",
          "height": 0
        },
        "outputId": "3bfabadd-922a-4820-8e4e-5367722277bb"
      },
      "execution_count": 41,
      "outputs": [
        {
          "output_type": "execute_result",
          "data": {
            "text/plain": [
              "13.267463117875646"
            ]
          },
          "metadata": {},
          "execution_count": 41
        }
      ]
    },
    {
      "cell_type": "code",
      "source": [
        "mean1=df['quantity'].mean()\n",
        "mean1"
      ],
      "metadata": {
        "colab": {
          "base_uri": "https://localhost:8080/",
          "height": 0
        },
        "id": "_qfOhABXMCek",
        "outputId": "64b7f497-f11a-4707-9077-b96ab144eda0"
      },
      "execution_count": 43,
      "outputs": [
        {
          "output_type": "execute_result",
          "data": {
            "text/plain": [
              "3903794.277496274"
            ]
          },
          "metadata": {},
          "execution_count": 43
        }
      ]
    },
    {
      "cell_type": "code",
      "source": [
        "mean=df.mean()  \n",
        "mean"
      ],
      "metadata": {
        "colab": {
          "base_uri": "https://localhost:8080/",
          "height": 0
        },
        "id": "asGVjtrMmvTd",
        "outputId": "ee6df7ba-d910-4fbc-e3d0-b999d9b65af1"
      },
      "execution_count": 9,
      "outputs": [
        {
          "output_type": "stream",
          "name": "stderr",
          "text": [
            "/usr/local/lib/python3.7/dist-packages/ipykernel_launcher.py:1: FutureWarning: Dropping of nuisance columns in DataFrame reductions (with 'numeric_only=None') is deprecated; in a future version this will raise TypeError.  Select only valid columns before calling the reduction.\n",
            "  \"\"\"Entry point for launching an IPython kernel.\n"
          ]
        },
        {
          "output_type": "execute_result",
          "data": {
            "text/plain": [
              "country_code    9.053100e+03\n",
              "quantity        3.903794e+06\n",
              "value           1.326746e+01\n",
              "dtype: float64"
            ]
          },
          "metadata": {},
          "execution_count": 9
        }
      ]
    },
    {
      "cell_type": "code",
      "source": [
        "#df.style.format({'quantity':'{:,5f}'.format,'value':'{:,.3f}'.format})\n",
        "#df\n",
        "#used to remove last decimals in the specific cols "
      ],
      "metadata": {
        "id": "G-Mdr08soTwU"
      },
      "execution_count": 10,
      "outputs": []
    },
    {
      "cell_type": "code",
      "source": [
        "median=df.median(axis=0,skipna=True) #axis=0 means rows\n",
        "median"
      ],
      "metadata": {
        "colab": {
          "base_uri": "https://localhost:8080/",
          "height": 0
        },
        "id": "8Xy43D0opa6-",
        "outputId": "c9d5de96-633f-4d7d-ea2a-4f9aec1a1893"
      },
      "execution_count": 11,
      "outputs": [
        {
          "output_type": "stream",
          "name": "stderr",
          "text": [
            "/usr/local/lib/python3.7/dist-packages/ipykernel_launcher.py:1: FutureWarning: Dropping of nuisance columns in DataFrame reductions (with 'numeric_only=None') is deprecated; in a future version this will raise TypeError.  Select only valid columns before calling the reduction.\n",
            "  \"\"\"Entry point for launching an IPython kernel.\n"
          ]
        },
        {
          "output_type": "execute_result",
          "data": {
            "text/plain": [
              "country_code    10179.000000\n",
              "quantity         5175.000000\n",
              "value               0.299185\n",
              "dtype: float64"
            ]
          },
          "metadata": {},
          "execution_count": 11
        }
      ]
    },
    {
      "cell_type": "code",
      "source": [
        "mode=df.mode()\n",
        "mode"
      ],
      "metadata": {
        "colab": {
          "base_uri": "https://localhost:8080/",
          "height": 112
        },
        "id": "4ZZZSpo_qFaX",
        "outputId": "e0c5ba35-d739-4320-a6aa-35a526bca2d0"
      },
      "execution_count": 12,
      "outputs": [
        {
          "output_type": "execute_result",
          "data": {
            "text/plain": [
              "  pc_code                  pc_description unit  country_code country_name  \\\n",
              "0      99  Drug Formulations, Biologicals   Na        5423.0        U S A   \n",
              "1      H8               Other Commodities  NaN           NaN          NaN   \n",
              "\n",
              "   quantity    value  \n",
              "0       0.0  0.00001  \n",
              "1       NaN      NaN  "
            ],
            "text/html": [
              "\n",
              "  <div id=\"df-d6fe9a8c-3220-47c6-b8eb-6f021bfe9be3\">\n",
              "    <div class=\"colab-df-container\">\n",
              "      <div>\n",
              "<style scoped>\n",
              "    .dataframe tbody tr th:only-of-type {\n",
              "        vertical-align: middle;\n",
              "    }\n",
              "\n",
              "    .dataframe tbody tr th {\n",
              "        vertical-align: top;\n",
              "    }\n",
              "\n",
              "    .dataframe thead th {\n",
              "        text-align: right;\n",
              "    }\n",
              "</style>\n",
              "<table border=\"1\" class=\"dataframe\">\n",
              "  <thead>\n",
              "    <tr style=\"text-align: right;\">\n",
              "      <th></th>\n",
              "      <th>pc_code</th>\n",
              "      <th>pc_description</th>\n",
              "      <th>unit</th>\n",
              "      <th>country_code</th>\n",
              "      <th>country_name</th>\n",
              "      <th>quantity</th>\n",
              "      <th>value</th>\n",
              "    </tr>\n",
              "  </thead>\n",
              "  <tbody>\n",
              "    <tr>\n",
              "      <th>0</th>\n",
              "      <td>99</td>\n",
              "      <td>Drug Formulations, Biologicals</td>\n",
              "      <td>Na</td>\n",
              "      <td>5423.0</td>\n",
              "      <td>U S A</td>\n",
              "      <td>0.0</td>\n",
              "      <td>0.00001</td>\n",
              "    </tr>\n",
              "    <tr>\n",
              "      <th>1</th>\n",
              "      <td>H8</td>\n",
              "      <td>Other Commodities</td>\n",
              "      <td>NaN</td>\n",
              "      <td>NaN</td>\n",
              "      <td>NaN</td>\n",
              "      <td>NaN</td>\n",
              "      <td>NaN</td>\n",
              "    </tr>\n",
              "  </tbody>\n",
              "</table>\n",
              "</div>\n",
              "      <button class=\"colab-df-convert\" onclick=\"convertToInteractive('df-d6fe9a8c-3220-47c6-b8eb-6f021bfe9be3')\"\n",
              "              title=\"Convert this dataframe to an interactive table.\"\n",
              "              style=\"display:none;\">\n",
              "        \n",
              "  <svg xmlns=\"http://www.w3.org/2000/svg\" height=\"24px\"viewBox=\"0 0 24 24\"\n",
              "       width=\"24px\">\n",
              "    <path d=\"M0 0h24v24H0V0z\" fill=\"none\"/>\n",
              "    <path d=\"M18.56 5.44l.94 2.06.94-2.06 2.06-.94-2.06-.94-.94-2.06-.94 2.06-2.06.94zm-11 1L8.5 8.5l.94-2.06 2.06-.94-2.06-.94L8.5 2.5l-.94 2.06-2.06.94zm10 10l.94 2.06.94-2.06 2.06-.94-2.06-.94-.94-2.06-.94 2.06-2.06.94z\"/><path d=\"M17.41 7.96l-1.37-1.37c-.4-.4-.92-.59-1.43-.59-.52 0-1.04.2-1.43.59L10.3 9.45l-7.72 7.72c-.78.78-.78 2.05 0 2.83L4 21.41c.39.39.9.59 1.41.59.51 0 1.02-.2 1.41-.59l7.78-7.78 2.81-2.81c.8-.78.8-2.07 0-2.86zM5.41 20L4 18.59l7.72-7.72 1.47 1.35L5.41 20z\"/>\n",
              "  </svg>\n",
              "      </button>\n",
              "      \n",
              "  <style>\n",
              "    .colab-df-container {\n",
              "      display:flex;\n",
              "      flex-wrap:wrap;\n",
              "      gap: 12px;\n",
              "    }\n",
              "\n",
              "    .colab-df-convert {\n",
              "      background-color: #E8F0FE;\n",
              "      border: none;\n",
              "      border-radius: 50%;\n",
              "      cursor: pointer;\n",
              "      display: none;\n",
              "      fill: #1967D2;\n",
              "      height: 32px;\n",
              "      padding: 0 0 0 0;\n",
              "      width: 32px;\n",
              "    }\n",
              "\n",
              "    .colab-df-convert:hover {\n",
              "      background-color: #E2EBFA;\n",
              "      box-shadow: 0px 1px 2px rgba(60, 64, 67, 0.3), 0px 1px 3px 1px rgba(60, 64, 67, 0.15);\n",
              "      fill: #174EA6;\n",
              "    }\n",
              "\n",
              "    [theme=dark] .colab-df-convert {\n",
              "      background-color: #3B4455;\n",
              "      fill: #D2E3FC;\n",
              "    }\n",
              "\n",
              "    [theme=dark] .colab-df-convert:hover {\n",
              "      background-color: #434B5C;\n",
              "      box-shadow: 0px 1px 3px 1px rgba(0, 0, 0, 0.15);\n",
              "      filter: drop-shadow(0px 1px 2px rgba(0, 0, 0, 0.3));\n",
              "      fill: #FFFFFF;\n",
              "    }\n",
              "  </style>\n",
              "\n",
              "      <script>\n",
              "        const buttonEl =\n",
              "          document.querySelector('#df-d6fe9a8c-3220-47c6-b8eb-6f021bfe9be3 button.colab-df-convert');\n",
              "        buttonEl.style.display =\n",
              "          google.colab.kernel.accessAllowed ? 'block' : 'none';\n",
              "\n",
              "        async function convertToInteractive(key) {\n",
              "          const element = document.querySelector('#df-d6fe9a8c-3220-47c6-b8eb-6f021bfe9be3');\n",
              "          const dataTable =\n",
              "            await google.colab.kernel.invokeFunction('convertToInteractive',\n",
              "                                                     [key], {});\n",
              "          if (!dataTable) return;\n",
              "\n",
              "          const docLinkHtml = 'Like what you see? Visit the ' +\n",
              "            '<a target=\"_blank\" href=https://colab.research.google.com/notebooks/data_table.ipynb>data table notebook</a>'\n",
              "            + ' to learn more about interactive tables.';\n",
              "          element.innerHTML = '';\n",
              "          dataTable['output_type'] = 'display_data';\n",
              "          await google.colab.output.renderOutput(dataTable, element);\n",
              "          const docLink = document.createElement('div');\n",
              "          docLink.innerHTML = docLinkHtml;\n",
              "          element.appendChild(docLink);\n",
              "        }\n",
              "      </script>\n",
              "    </div>\n",
              "  </div>\n",
              "  "
            ]
          },
          "metadata": {},
          "execution_count": 12
        }
      ]
    },
    {
      "cell_type": "markdown",
      "source": [
        "Creating New Dataframe for the Hiostogram Preparation"
      ],
      "metadata": {
        "id": "Qh4nY4-64FLi"
      }
    },
    {
      "cell_type": "code",
      "source": [
        "df1=pd.DataFrame(df)\n"
      ],
      "metadata": {
        "id": "veGT9Y-nrbEH"
      },
      "execution_count": 13,
      "outputs": []
    },
    {
      "cell_type": "code",
      "source": [
        "df2=df1.dropna()  ## Dropping all the null values in the Following Dataset \n",
        "df2"
      ],
      "metadata": {
        "colab": {
          "base_uri": "https://localhost:8080/",
          "height": 424
        },
        "id": "mC6A1eHn3JPp",
        "outputId": "f7ea9869-ba62-4b3e-fa58-cb85bcfe2e6d"
      },
      "execution_count": 14,
      "outputs": [
        {
          "output_type": "execute_result",
          "data": {
            "text/plain": [
              "      pc_code      pc_description unit  country_code  country_name   quantity  \\\n",
              "209        A1                 Tea  Kgs           599   Unspecified    15000.0   \n",
              "210        A1                 Tea  Kgs          1213         Kenya  1115410.0   \n",
              "211        A1                 Tea  Kgs          1395  Tanzania Rep     3959.0   \n",
              "212        A1                 Tea  Kgs          1417        Uganda      683.0   \n",
              "213        A1                 Tea  Kgs          2035         Benin    70041.0   \n",
              "...       ...                 ...  ...           ...           ...        ...   \n",
              "20839      S6  Petroleum Products  Ton         15430    Uzbekistan        2.0   \n",
              "20840      S6  Petroleum Products  Ton         16095        Cyprus    36194.0   \n",
              "20841      S6  Petroleum Products  Ton         16151     Gibraltar  2920254.0   \n",
              "20842      S6  Petroleum Products  Ton         16251         Malta    68267.0   \n",
              "20843      S6  Petroleum Products  Ton         16409        Turkey  2832785.0   \n",
              "\n",
              "             value  \n",
              "209       0.110679  \n",
              "210       2.216985  \n",
              "211       0.017712  \n",
              "212       0.002199  \n",
              "213       0.323173  \n",
              "...            ...  \n",
              "20839     0.001904  \n",
              "20840    20.474253  \n",
              "20841  1285.651148  \n",
              "20842    24.206703  \n",
              "20843  1225.807950  \n",
              "\n",
              "[10065 rows x 7 columns]"
            ],
            "text/html": [
              "\n",
              "  <div id=\"df-a1f7f204-2504-4ab8-9f3c-9d599c42de1a\">\n",
              "    <div class=\"colab-df-container\">\n",
              "      <div>\n",
              "<style scoped>\n",
              "    .dataframe tbody tr th:only-of-type {\n",
              "        vertical-align: middle;\n",
              "    }\n",
              "\n",
              "    .dataframe tbody tr th {\n",
              "        vertical-align: top;\n",
              "    }\n",
              "\n",
              "    .dataframe thead th {\n",
              "        text-align: right;\n",
              "    }\n",
              "</style>\n",
              "<table border=\"1\" class=\"dataframe\">\n",
              "  <thead>\n",
              "    <tr style=\"text-align: right;\">\n",
              "      <th></th>\n",
              "      <th>pc_code</th>\n",
              "      <th>pc_description</th>\n",
              "      <th>unit</th>\n",
              "      <th>country_code</th>\n",
              "      <th>country_name</th>\n",
              "      <th>quantity</th>\n",
              "      <th>value</th>\n",
              "    </tr>\n",
              "  </thead>\n",
              "  <tbody>\n",
              "    <tr>\n",
              "      <th>209</th>\n",
              "      <td>A1</td>\n",
              "      <td>Tea</td>\n",
              "      <td>Kgs</td>\n",
              "      <td>599</td>\n",
              "      <td>Unspecified</td>\n",
              "      <td>15000.0</td>\n",
              "      <td>0.110679</td>\n",
              "    </tr>\n",
              "    <tr>\n",
              "      <th>210</th>\n",
              "      <td>A1</td>\n",
              "      <td>Tea</td>\n",
              "      <td>Kgs</td>\n",
              "      <td>1213</td>\n",
              "      <td>Kenya</td>\n",
              "      <td>1115410.0</td>\n",
              "      <td>2.216985</td>\n",
              "    </tr>\n",
              "    <tr>\n",
              "      <th>211</th>\n",
              "      <td>A1</td>\n",
              "      <td>Tea</td>\n",
              "      <td>Kgs</td>\n",
              "      <td>1395</td>\n",
              "      <td>Tanzania Rep</td>\n",
              "      <td>3959.0</td>\n",
              "      <td>0.017712</td>\n",
              "    </tr>\n",
              "    <tr>\n",
              "      <th>212</th>\n",
              "      <td>A1</td>\n",
              "      <td>Tea</td>\n",
              "      <td>Kgs</td>\n",
              "      <td>1417</td>\n",
              "      <td>Uganda</td>\n",
              "      <td>683.0</td>\n",
              "      <td>0.002199</td>\n",
              "    </tr>\n",
              "    <tr>\n",
              "      <th>213</th>\n",
              "      <td>A1</td>\n",
              "      <td>Tea</td>\n",
              "      <td>Kgs</td>\n",
              "      <td>2035</td>\n",
              "      <td>Benin</td>\n",
              "      <td>70041.0</td>\n",
              "      <td>0.323173</td>\n",
              "    </tr>\n",
              "    <tr>\n",
              "      <th>...</th>\n",
              "      <td>...</td>\n",
              "      <td>...</td>\n",
              "      <td>...</td>\n",
              "      <td>...</td>\n",
              "      <td>...</td>\n",
              "      <td>...</td>\n",
              "      <td>...</td>\n",
              "    </tr>\n",
              "    <tr>\n",
              "      <th>20839</th>\n",
              "      <td>S6</td>\n",
              "      <td>Petroleum Products</td>\n",
              "      <td>Ton</td>\n",
              "      <td>15430</td>\n",
              "      <td>Uzbekistan</td>\n",
              "      <td>2.0</td>\n",
              "      <td>0.001904</td>\n",
              "    </tr>\n",
              "    <tr>\n",
              "      <th>20840</th>\n",
              "      <td>S6</td>\n",
              "      <td>Petroleum Products</td>\n",
              "      <td>Ton</td>\n",
              "      <td>16095</td>\n",
              "      <td>Cyprus</td>\n",
              "      <td>36194.0</td>\n",
              "      <td>20.474253</td>\n",
              "    </tr>\n",
              "    <tr>\n",
              "      <th>20841</th>\n",
              "      <td>S6</td>\n",
              "      <td>Petroleum Products</td>\n",
              "      <td>Ton</td>\n",
              "      <td>16151</td>\n",
              "      <td>Gibraltar</td>\n",
              "      <td>2920254.0</td>\n",
              "      <td>1285.651148</td>\n",
              "    </tr>\n",
              "    <tr>\n",
              "      <th>20842</th>\n",
              "      <td>S6</td>\n",
              "      <td>Petroleum Products</td>\n",
              "      <td>Ton</td>\n",
              "      <td>16251</td>\n",
              "      <td>Malta</td>\n",
              "      <td>68267.0</td>\n",
              "      <td>24.206703</td>\n",
              "    </tr>\n",
              "    <tr>\n",
              "      <th>20843</th>\n",
              "      <td>S6</td>\n",
              "      <td>Petroleum Products</td>\n",
              "      <td>Ton</td>\n",
              "      <td>16409</td>\n",
              "      <td>Turkey</td>\n",
              "      <td>2832785.0</td>\n",
              "      <td>1225.807950</td>\n",
              "    </tr>\n",
              "  </tbody>\n",
              "</table>\n",
              "<p>10065 rows × 7 columns</p>\n",
              "</div>\n",
              "      <button class=\"colab-df-convert\" onclick=\"convertToInteractive('df-a1f7f204-2504-4ab8-9f3c-9d599c42de1a')\"\n",
              "              title=\"Convert this dataframe to an interactive table.\"\n",
              "              style=\"display:none;\">\n",
              "        \n",
              "  <svg xmlns=\"http://www.w3.org/2000/svg\" height=\"24px\"viewBox=\"0 0 24 24\"\n",
              "       width=\"24px\">\n",
              "    <path d=\"M0 0h24v24H0V0z\" fill=\"none\"/>\n",
              "    <path d=\"M18.56 5.44l.94 2.06.94-2.06 2.06-.94-2.06-.94-.94-2.06-.94 2.06-2.06.94zm-11 1L8.5 8.5l.94-2.06 2.06-.94-2.06-.94L8.5 2.5l-.94 2.06-2.06.94zm10 10l.94 2.06.94-2.06 2.06-.94-2.06-.94-.94-2.06-.94 2.06-2.06.94z\"/><path d=\"M17.41 7.96l-1.37-1.37c-.4-.4-.92-.59-1.43-.59-.52 0-1.04.2-1.43.59L10.3 9.45l-7.72 7.72c-.78.78-.78 2.05 0 2.83L4 21.41c.39.39.9.59 1.41.59.51 0 1.02-.2 1.41-.59l7.78-7.78 2.81-2.81c.8-.78.8-2.07 0-2.86zM5.41 20L4 18.59l7.72-7.72 1.47 1.35L5.41 20z\"/>\n",
              "  </svg>\n",
              "      </button>\n",
              "      \n",
              "  <style>\n",
              "    .colab-df-container {\n",
              "      display:flex;\n",
              "      flex-wrap:wrap;\n",
              "      gap: 12px;\n",
              "    }\n",
              "\n",
              "    .colab-df-convert {\n",
              "      background-color: #E8F0FE;\n",
              "      border: none;\n",
              "      border-radius: 50%;\n",
              "      cursor: pointer;\n",
              "      display: none;\n",
              "      fill: #1967D2;\n",
              "      height: 32px;\n",
              "      padding: 0 0 0 0;\n",
              "      width: 32px;\n",
              "    }\n",
              "\n",
              "    .colab-df-convert:hover {\n",
              "      background-color: #E2EBFA;\n",
              "      box-shadow: 0px 1px 2px rgba(60, 64, 67, 0.3), 0px 1px 3px 1px rgba(60, 64, 67, 0.15);\n",
              "      fill: #174EA6;\n",
              "    }\n",
              "\n",
              "    [theme=dark] .colab-df-convert {\n",
              "      background-color: #3B4455;\n",
              "      fill: #D2E3FC;\n",
              "    }\n",
              "\n",
              "    [theme=dark] .colab-df-convert:hover {\n",
              "      background-color: #434B5C;\n",
              "      box-shadow: 0px 1px 3px 1px rgba(0, 0, 0, 0.15);\n",
              "      filter: drop-shadow(0px 1px 2px rgba(0, 0, 0, 0.3));\n",
              "      fill: #FFFFFF;\n",
              "    }\n",
              "  </style>\n",
              "\n",
              "      <script>\n",
              "        const buttonEl =\n",
              "          document.querySelector('#df-a1f7f204-2504-4ab8-9f3c-9d599c42de1a button.colab-df-convert');\n",
              "        buttonEl.style.display =\n",
              "          google.colab.kernel.accessAllowed ? 'block' : 'none';\n",
              "\n",
              "        async function convertToInteractive(key) {\n",
              "          const element = document.querySelector('#df-a1f7f204-2504-4ab8-9f3c-9d599c42de1a');\n",
              "          const dataTable =\n",
              "            await google.colab.kernel.invokeFunction('convertToInteractive',\n",
              "                                                     [key], {});\n",
              "          if (!dataTable) return;\n",
              "\n",
              "          const docLinkHtml = 'Like what you see? Visit the ' +\n",
              "            '<a target=\"_blank\" href=https://colab.research.google.com/notebooks/data_table.ipynb>data table notebook</a>'\n",
              "            + ' to learn more about interactive tables.';\n",
              "          element.innerHTML = '';\n",
              "          dataTable['output_type'] = 'display_data';\n",
              "          await google.colab.output.renderOutput(dataTable, element);\n",
              "          const docLink = document.createElement('div');\n",
              "          docLink.innerHTML = docLinkHtml;\n",
              "          element.appendChild(docLink);\n",
              "        }\n",
              "      </script>\n",
              "    </div>\n",
              "  </div>\n",
              "  "
            ]
          },
          "metadata": {},
          "execution_count": 14
        }
      ]
    },
    {
      "cell_type": "code",
      "source": [
        "df2.describe()"
      ],
      "metadata": {
        "colab": {
          "base_uri": "https://localhost:8080/",
          "height": 300
        },
        "id": "q3sycMt93Jsg",
        "outputId": "59a98cbe-e015-4b47-90a2-874624555710"
      },
      "execution_count": 15,
      "outputs": [
        {
          "output_type": "execute_result",
          "data": {
            "text/plain": [
              "       country_code      quantity         value\n",
              "count  10065.000000  1.006500e+04  10065.000000\n",
              "mean    9105.736513  3.903794e+06     14.043209\n",
              "std     4467.240484  7.484555e+07    119.876005\n",
              "min        2.000000  0.000000e+00      0.000000\n",
              "25%     4381.000000  1.360000e+02      0.020275\n",
              "50%    10189.000000  5.175000e+03      0.261256\n",
              "75%    13101.000000  1.690850e+05      2.786516\n",
              "max    16409.000000  5.710303e+09   5352.101600"
            ],
            "text/html": [
              "\n",
              "  <div id=\"df-63b7ba2e-0853-4c27-b331-1dd9f931a481\">\n",
              "    <div class=\"colab-df-container\">\n",
              "      <div>\n",
              "<style scoped>\n",
              "    .dataframe tbody tr th:only-of-type {\n",
              "        vertical-align: middle;\n",
              "    }\n",
              "\n",
              "    .dataframe tbody tr th {\n",
              "        vertical-align: top;\n",
              "    }\n",
              "\n",
              "    .dataframe thead th {\n",
              "        text-align: right;\n",
              "    }\n",
              "</style>\n",
              "<table border=\"1\" class=\"dataframe\">\n",
              "  <thead>\n",
              "    <tr style=\"text-align: right;\">\n",
              "      <th></th>\n",
              "      <th>country_code</th>\n",
              "      <th>quantity</th>\n",
              "      <th>value</th>\n",
              "    </tr>\n",
              "  </thead>\n",
              "  <tbody>\n",
              "    <tr>\n",
              "      <th>count</th>\n",
              "      <td>10065.000000</td>\n",
              "      <td>1.006500e+04</td>\n",
              "      <td>10065.000000</td>\n",
              "    </tr>\n",
              "    <tr>\n",
              "      <th>mean</th>\n",
              "      <td>9105.736513</td>\n",
              "      <td>3.903794e+06</td>\n",
              "      <td>14.043209</td>\n",
              "    </tr>\n",
              "    <tr>\n",
              "      <th>std</th>\n",
              "      <td>4467.240484</td>\n",
              "      <td>7.484555e+07</td>\n",
              "      <td>119.876005</td>\n",
              "    </tr>\n",
              "    <tr>\n",
              "      <th>min</th>\n",
              "      <td>2.000000</td>\n",
              "      <td>0.000000e+00</td>\n",
              "      <td>0.000000</td>\n",
              "    </tr>\n",
              "    <tr>\n",
              "      <th>25%</th>\n",
              "      <td>4381.000000</td>\n",
              "      <td>1.360000e+02</td>\n",
              "      <td>0.020275</td>\n",
              "    </tr>\n",
              "    <tr>\n",
              "      <th>50%</th>\n",
              "      <td>10189.000000</td>\n",
              "      <td>5.175000e+03</td>\n",
              "      <td>0.261256</td>\n",
              "    </tr>\n",
              "    <tr>\n",
              "      <th>75%</th>\n",
              "      <td>13101.000000</td>\n",
              "      <td>1.690850e+05</td>\n",
              "      <td>2.786516</td>\n",
              "    </tr>\n",
              "    <tr>\n",
              "      <th>max</th>\n",
              "      <td>16409.000000</td>\n",
              "      <td>5.710303e+09</td>\n",
              "      <td>5352.101600</td>\n",
              "    </tr>\n",
              "  </tbody>\n",
              "</table>\n",
              "</div>\n",
              "      <button class=\"colab-df-convert\" onclick=\"convertToInteractive('df-63b7ba2e-0853-4c27-b331-1dd9f931a481')\"\n",
              "              title=\"Convert this dataframe to an interactive table.\"\n",
              "              style=\"display:none;\">\n",
              "        \n",
              "  <svg xmlns=\"http://www.w3.org/2000/svg\" height=\"24px\"viewBox=\"0 0 24 24\"\n",
              "       width=\"24px\">\n",
              "    <path d=\"M0 0h24v24H0V0z\" fill=\"none\"/>\n",
              "    <path d=\"M18.56 5.44l.94 2.06.94-2.06 2.06-.94-2.06-.94-.94-2.06-.94 2.06-2.06.94zm-11 1L8.5 8.5l.94-2.06 2.06-.94-2.06-.94L8.5 2.5l-.94 2.06-2.06.94zm10 10l.94 2.06.94-2.06 2.06-.94-2.06-.94-.94-2.06-.94 2.06-2.06.94z\"/><path d=\"M17.41 7.96l-1.37-1.37c-.4-.4-.92-.59-1.43-.59-.52 0-1.04.2-1.43.59L10.3 9.45l-7.72 7.72c-.78.78-.78 2.05 0 2.83L4 21.41c.39.39.9.59 1.41.59.51 0 1.02-.2 1.41-.59l7.78-7.78 2.81-2.81c.8-.78.8-2.07 0-2.86zM5.41 20L4 18.59l7.72-7.72 1.47 1.35L5.41 20z\"/>\n",
              "  </svg>\n",
              "      </button>\n",
              "      \n",
              "  <style>\n",
              "    .colab-df-container {\n",
              "      display:flex;\n",
              "      flex-wrap:wrap;\n",
              "      gap: 12px;\n",
              "    }\n",
              "\n",
              "    .colab-df-convert {\n",
              "      background-color: #E8F0FE;\n",
              "      border: none;\n",
              "      border-radius: 50%;\n",
              "      cursor: pointer;\n",
              "      display: none;\n",
              "      fill: #1967D2;\n",
              "      height: 32px;\n",
              "      padding: 0 0 0 0;\n",
              "      width: 32px;\n",
              "    }\n",
              "\n",
              "    .colab-df-convert:hover {\n",
              "      background-color: #E2EBFA;\n",
              "      box-shadow: 0px 1px 2px rgba(60, 64, 67, 0.3), 0px 1px 3px 1px rgba(60, 64, 67, 0.15);\n",
              "      fill: #174EA6;\n",
              "    }\n",
              "\n",
              "    [theme=dark] .colab-df-convert {\n",
              "      background-color: #3B4455;\n",
              "      fill: #D2E3FC;\n",
              "    }\n",
              "\n",
              "    [theme=dark] .colab-df-convert:hover {\n",
              "      background-color: #434B5C;\n",
              "      box-shadow: 0px 1px 3px 1px rgba(0, 0, 0, 0.15);\n",
              "      filter: drop-shadow(0px 1px 2px rgba(0, 0, 0, 0.3));\n",
              "      fill: #FFFFFF;\n",
              "    }\n",
              "  </style>\n",
              "\n",
              "      <script>\n",
              "        const buttonEl =\n",
              "          document.querySelector('#df-63b7ba2e-0853-4c27-b331-1dd9f931a481 button.colab-df-convert');\n",
              "        buttonEl.style.display =\n",
              "          google.colab.kernel.accessAllowed ? 'block' : 'none';\n",
              "\n",
              "        async function convertToInteractive(key) {\n",
              "          const element = document.querySelector('#df-63b7ba2e-0853-4c27-b331-1dd9f931a481');\n",
              "          const dataTable =\n",
              "            await google.colab.kernel.invokeFunction('convertToInteractive',\n",
              "                                                     [key], {});\n",
              "          if (!dataTable) return;\n",
              "\n",
              "          const docLinkHtml = 'Like what you see? Visit the ' +\n",
              "            '<a target=\"_blank\" href=https://colab.research.google.com/notebooks/data_table.ipynb>data table notebook</a>'\n",
              "            + ' to learn more about interactive tables.';\n",
              "          element.innerHTML = '';\n",
              "          dataTable['output_type'] = 'display_data';\n",
              "          await google.colab.output.renderOutput(dataTable, element);\n",
              "          const docLink = document.createElement('div');\n",
              "          docLink.innerHTML = docLinkHtml;\n",
              "          element.appendChild(docLink);\n",
              "        }\n",
              "      </script>\n",
              "    </div>\n",
              "  </div>\n",
              "  "
            ]
          },
          "metadata": {},
          "execution_count": 15
        }
      ]
    },
    {
      "cell_type": "code",
      "source": [
        "df2.info()"
      ],
      "metadata": {
        "colab": {
          "base_uri": "https://localhost:8080/",
          "height": 0
        },
        "id": "9tWM8OYG3XU9",
        "outputId": "39b6b43b-fce0-49cc-b0a8-1c6266a71cb2"
      },
      "execution_count": 16,
      "outputs": [
        {
          "output_type": "stream",
          "name": "stdout",
          "text": [
            "<class 'pandas.core.frame.DataFrame'>\n",
            "Int64Index: 10065 entries, 209 to 20843\n",
            "Data columns (total 7 columns):\n",
            " #   Column          Non-Null Count  Dtype  \n",
            "---  ------          --------------  -----  \n",
            " 0   pc_code         10065 non-null  object \n",
            " 1   pc_description  10065 non-null  object \n",
            " 2   unit            10065 non-null  object \n",
            " 3   country_code    10065 non-null  int64  \n",
            " 4   country_name    10065 non-null  object \n",
            " 5   quantity        10065 non-null  float64\n",
            " 6   value           10065 non-null  float64\n",
            "dtypes: float64(2), int64(1), object(4)\n",
            "memory usage: 629.1+ KB\n"
          ]
        }
      ]
    },
    {
      "cell_type": "code",
      "source": [
        "rows = len(df2.axes[0]) # No of rows in the Dataframe\n",
        "rows"
      ],
      "metadata": {
        "colab": {
          "base_uri": "https://localhost:8080/",
          "height": 0
        },
        "id": "GYFYroTx3Z2o",
        "outputId": "ab39d69c-9220-43e9-d80d-4d90b099ebe0"
      },
      "execution_count": 17,
      "outputs": [
        {
          "output_type": "execute_result",
          "data": {
            "text/plain": [
              "10065"
            ]
          },
          "metadata": {},
          "execution_count": 17
        }
      ]
    },
    {
      "cell_type": "code",
      "source": [
        "cols = len(df2.axes[1]) #No of Cols in Dataframe \n",
        "cols "
      ],
      "metadata": {
        "colab": {
          "base_uri": "https://localhost:8080/",
          "height": 0
        },
        "id": "sFwbtE393bsL",
        "outputId": "cce20ee9-e0b2-4935-a090-d0d2b27b05bb"
      },
      "execution_count": 18,
      "outputs": [
        {
          "output_type": "execute_result",
          "data": {
            "text/plain": [
              "7"
            ]
          },
          "metadata": {},
          "execution_count": 18
        }
      ]
    },
    {
      "cell_type": "code",
      "source": [
        "frame=df2['quantity']\n",
        "frame "
      ],
      "metadata": {
        "colab": {
          "base_uri": "https://localhost:8080/",
          "height": 0
        },
        "id": "7_ZBJuWz3peY",
        "outputId": "8dbe3d11-d7f2-4f76-e8f4-49dd49deac5e"
      },
      "execution_count": 19,
      "outputs": [
        {
          "output_type": "execute_result",
          "data": {
            "text/plain": [
              "209        15000.0\n",
              "210      1115410.0\n",
              "211         3959.0\n",
              "212          683.0\n",
              "213        70041.0\n",
              "           ...    \n",
              "20839          2.0\n",
              "20840      36194.0\n",
              "20841    2920254.0\n",
              "20842      68267.0\n",
              "20843    2832785.0\n",
              "Name: quantity, Length: 10065, dtype: float64"
            ]
          },
          "metadata": {},
          "execution_count": 19
        }
      ]
    },
    {
      "cell_type": "code",
      "source": [
        "ax = df2.hist(column='quantity', bins=25, grid=False, figsize=(12,8), color='#86bf91', zorder=2)\n",
        "ax"
      ],
      "metadata": {
        "colab": {
          "base_uri": "https://localhost:8080/",
          "height": 547
        },
        "id": "2FDBTEcn4MFS",
        "outputId": "ffddbc88-8719-49a3-e53c-89fe6caad4bf"
      },
      "execution_count": 20,
      "outputs": [
        {
          "output_type": "execute_result",
          "data": {
            "text/plain": [
              "array([[<matplotlib.axes._subplots.AxesSubplot object at 0x7fe730abc850>]],\n",
              "      dtype=object)"
            ]
          },
          "metadata": {},
          "execution_count": 20
        },
        {
          "output_type": "display_data",
          "data": {
            "text/plain": [
              "<Figure size 864x576 with 1 Axes>"
            ],
            "image/png": "[encoded data removed]"
          },
          "metadata": {
            "needs_background": "light"
          }
        }
      ]
    },
    {
      "cell_type": "markdown",
      "source": [
        "Variance"
      ],
      "metadata": {
        "id": "b-QMc9zNaBlT"
      }
    },
    {
      "cell_type": "code",
      "source": [
        "n=len(frame)"
      ],
      "metadata": {
        "id": "g_3mVe7N4MD3"
      },
      "execution_count": 21,
      "outputs": []
    },
    {
      "cell_type": "code",
      "source": [
        "meean=sum(frame)/n\n",
        "meean"
      ],
      "metadata": {
        "id": "wdfXNl_s4MBe",
        "colab": {
          "base_uri": "https://localhost:8080/",
          "height": 0
        },
        "outputId": "b14669df-55bd-45c5-a479-e59580dcaed4"
      },
      "execution_count": 22,
      "outputs": [
        {
          "output_type": "execute_result",
          "data": {
            "text/plain": [
              "3903794.277496274"
            ]
          },
          "metadata": {},
          "execution_count": 22
        }
      ]
    },
    {
      "cell_type": "code",
      "source": [
        "deviations=[(x - meean) ** 2 for x in frame]\n",
        "variance=sum(deviations)/n\n",
        "variance"
      ],
      "metadata": {
        "id": "u8pHN_bd4L9t",
        "colab": {
          "base_uri": "https://localhost:8080/",
          "height": 0
        },
        "outputId": "ca5d6a8e-a18e-4864-a3b1-366a654fcd76"
      },
      "execution_count": 23,
      "outputs": [
        {
          "output_type": "execute_result",
          "data": {
            "text/plain": [
              "5601299140736364.0"
            ]
          },
          "metadata": {},
          "execution_count": 23
        }
      ]
    },
    {
      "cell_type": "code",
      "source": [],
      "metadata": {
        "id": "0i2zmE53b18i"
      },
      "execution_count": 23,
      "outputs": []
    },
    {
      "cell_type": "markdown",
      "source": [
        "Standard Deviantion\n"
      ],
      "metadata": {
        "id": "_wt5TlBQaIx_"
      }
    },
    {
      "cell_type": "code",
      "source": [
        "std_dev = variance ** 0.5\n",
        "std_dev"
      ],
      "metadata": {
        "id": "GQul__Ze4L7t",
        "colab": {
          "base_uri": "https://localhost:8080/",
          "height": 0
        },
        "outputId": "1059890d-0a77-4c58-87bd-2e421f9a019e"
      },
      "execution_count": 24,
      "outputs": [
        {
          "output_type": "execute_result",
          "data": {
            "text/plain": [
              "74841827.48127122"
            ]
          },
          "metadata": {},
          "execution_count": 24
        }
      ]
    },
    {
      "cell_type": "code",
      "source": [
        "# skewness along the index axis\n",
        "df.skew(axis = 0, skipna = True)"
      ],
      "metadata": {
        "id": "OIN9cDAU4L5d",
        "colab": {
          "base_uri": "https://localhost:8080/",
          "height": 0
        },
        "outputId": "2737f79f-20f3-454a-d041-9aa5ed0cb4b8"
      },
      "execution_count": 25,
      "outputs": [
        {
          "output_type": "stream",
          "name": "stderr",
          "text": [
            "/usr/local/lib/python3.7/dist-packages/ipykernel_launcher.py:2: FutureWarning: Dropping of nuisance columns in DataFrame reductions (with 'numeric_only=None') is deprecated; in a future version this will raise TypeError.  Select only valid columns before calling the reduction.\n",
            "  \n"
          ]
        },
        {
          "output_type": "execute_result",
          "data": {
            "text/plain": [
              "country_code    -0.194210\n",
              "quantity        58.650350\n",
              "value           39.811792\n",
              "dtype: float64"
            ]
          },
          "metadata": {},
          "execution_count": 25
        }
      ]
    },
    {
      "cell_type": "markdown",
      "source": [
        "Mode"
      ],
      "metadata": {
        "id": "gnz-w-1IZWq8"
      }
    },
    {
      "cell_type": "code",
      "source": [
        "print(statistics.mode(frame))"
      ],
      "metadata": {
        "colab": {
          "base_uri": "https://localhost:8080/",
          "height": 0
        },
        "id": "595lO61wYZ7_",
        "outputId": "7b65f361-ed28-4ddc-c1bf-c846bf3cde9d"
      },
      "execution_count": 26,
      "outputs": [
        {
          "output_type": "stream",
          "name": "stdout",
          "text": [
            "0.0\n"
          ]
        }
      ]
    },
    {
      "cell_type": "code",
      "source": [
        "plt.hist(meean)\n",
        "plt.show()"
      ],
      "metadata": {
        "id": "NoWHwSNyZUlR",
        "colab": {
          "base_uri": "https://localhost:8080/",
          "height": 278
        },
        "outputId": "c0ee95c4-92b5-415e-b325-a9b5b3f4fe8f"
      },
      "execution_count": 27,
      "outputs": [
        {
          "output_type": "display_data",
          "data": {
            "text/plain": [
              "<Figure size 432x288 with 1 Axes>"
            ],
            "image/png": "[encoded data removed]"
          },
          "metadata": {
            "needs_background": "light"
          }
        }
      ]
    },
    {
      "cell_type": "code",
      "source": [
        "plt.hist(std_dev)\n",
        "plt.show()"
      ],
      "metadata": {
        "colab": {
          "base_uri": "https://localhost:8080/",
          "height": 278
        },
        "id": "JJgsoi7mUoSd",
        "outputId": "99277c52-98d4-4d51-f13f-8935855e23ad"
      },
      "execution_count": 28,
      "outputs": [
        {
          "output_type": "display_data",
          "data": {
            "text/plain": [
              "<Figure size 432x288 with 1 Axes>"
            ],
            "image/png": "[encoded data removed]"
          },
          "metadata": {
            "needs_background": "light"
          }
        }
      ]
    },
    {
      "cell_type": "markdown",
      "source": [
        "Z-Score"
      ],
      "metadata": {
        "id": "K2S2KRyxNDao"
      }
    },
    {
      "cell_type": "code",
      "source": [
        "values=df['value']\n",
        "values"
      ],
      "metadata": {
        "id": "MBGUKkRbZUiB",
        "colab": {
          "base_uri": "https://localhost:8080/",
          "height": 0
        },
        "outputId": "3d27238c-456a-41f3-ba97-db867c475a62"
      },
      "execution_count": 36,
      "outputs": [
        {
          "output_type": "execute_result",
          "data": {
            "text/plain": [
              "0         270.889542\n",
              "1          17.159452\n",
              "2           8.896539\n",
              "3           5.181412\n",
              "4           2.476015\n",
              "            ...     \n",
              "20839       0.001904\n",
              "20840      20.474253\n",
              "20841    1285.651148\n",
              "20842      24.206703\n",
              "20843    1225.807950\n",
              "Name: value, Length: 20844, dtype: float64"
            ]
          },
          "metadata": {},
          "execution_count": 36
        }
      ]
    },
    {
      "cell_type": "code",
      "source": [
        "zscores = stats.zscore(values)\n",
        "print(zscores)"
      ],
      "metadata": {
        "id": "s7-eALPaZ2fk",
        "colab": {
          "base_uri": "https://localhost:8080/",
          "height": 0
        },
        "outputId": "581f71d9-ea65-47f9-b576-eb519d49aa97"
      },
      "execution_count": 37,
      "outputs": [
        {
          "output_type": "stream",
          "name": "stdout",
          "text": [
            "0        1.881825\n",
            "1        0.028429\n",
            "2       -0.031928\n",
            "3       -0.059065\n",
            "4       -0.078827\n",
            "           ...   \n",
            "20839   -0.096900\n",
            "20840    0.052643\n",
            "20841    9.294247\n",
            "20842    0.079907\n",
            "20843    8.857117\n",
            "Name: value, Length: 20844, dtype: float64\n"
          ]
        }
      ]
    },
    {
      "cell_type": "code",
      "source": [
        "data=df['value']\n",
        "data\n"
      ],
      "metadata": {
        "id": "lARKeIZob43u",
        "colab": {
          "base_uri": "https://localhost:8080/",
          "height": 0
        },
        "outputId": "5f3beed1-59e3-4b7c-eaf0-f8f255c0a640"
      },
      "execution_count": 63,
      "outputs": [
        {
          "output_type": "execute_result",
          "data": {
            "text/plain": [
              "0         270.889542\n",
              "1          17.159452\n",
              "2           8.896539\n",
              "3           5.181412\n",
              "4           2.476015\n",
              "            ...     \n",
              "20839       0.001904\n",
              "20840      20.474253\n",
              "20841    1285.651148\n",
              "20842      24.206703\n",
              "20843    1225.807950\n",
              "Name: value, Length: 20844, dtype: float64"
            ]
          },
          "metadata": {},
          "execution_count": 63
        }
      ]
    },
    {
      "cell_type": "markdown",
      "source": [
        "#Skewness"
      ],
      "metadata": {
        "id": "OexbbOsGSkWi"
      }
    },
    {
      "cell_type": "code",
      "source": [
        "skew(data, bias=False)"
      ],
      "metadata": {
        "colab": {
          "base_uri": "https://localhost:8080/",
          "height": 0
        },
        "id": "KxF4xhuqSZMy",
        "outputId": "ddb8b40b-484e-46a8-ec2b-91871235e2ed"
      },
      "execution_count": 66,
      "outputs": [
        {
          "output_type": "execute_result",
          "data": {
            "text/plain": [
              "39.81179167548781"
            ]
          },
          "metadata": {},
          "execution_count": 66
        }
      ]
    },
    {
      "cell_type": "markdown",
      "source": [
        "#Kurtosis"
      ],
      "metadata": {
        "id": "RI4mSFrGSor7"
      }
    },
    {
      "cell_type": "code",
      "source": [
        "kurtosis(data, bias=False)"
      ],
      "metadata": {
        "colab": {
          "base_uri": "https://localhost:8080/",
          "height": 0
        },
        "id": "ca6y_ai3SqwM",
        "outputId": "46f3b784-8edd-4dd8-fc15-82c01aef6a66"
      },
      "execution_count": 67,
      "outputs": [
        {
          "output_type": "execute_result",
          "data": {
            "text/plain": [
              "2099.74853302134"
            ]
          },
          "metadata": {},
          "execution_count": 67
        }
      ]
    }
  ]
}