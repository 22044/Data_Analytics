{
  "nbformat": 4,
  "nbformat_minor": 0,
  "metadata": {
    "colab": {
      "name": "Data Analytics With Python.ipynb",
      "provenance": [],
      "collapsed_sections": []
    },
    "kernelspec": {
      "name": "python3",
      "display_name": "Python 3"
    },
    "language_info": {
      "name": "python"
    }
  },
  "cells": [
    {
      "cell_type": "code",
      "metadata": {
        "colab": {
          "base_uri": "https://localhost:8080/"
        },
        "id": "gP9ybGPcmSZj",
        "outputId": "7515019b-5f85-48e5-bbf1-d5bcb2530d5d"
      },
      "source": [
        "from google.colab import drive\n",
        "drive.mount('/content/drive')"
      ],
      "execution_count": null,
      "outputs": [
        {
          "output_type": "stream",
          "text": [
            "Drive already mounted at /content/drive; to attempt to forcibly remount, call drive.mount(\"/content/drive\", force_remount=True).\n"
          ],
          "name": "stdout"
        }
      ]
    },
    {
      "cell_type": "code",
      "metadata": {
        "colab": {
          "base_uri": "https://localhost:8080/"
        },
        "id": "Ci_I9fAIH_SJ",
        "outputId": "ebf4b7c8-21c2-4ec6-8f88-a9d407353689"
      },
      "source": [
        "!pip install opendatasets"
      ],
      "execution_count": null,
      "outputs": [
        {
          "output_type": "stream",
          "text": [
            "Requirement already satisfied: opendatasets in /usr/local/lib/python3.7/dist-packages (0.1.20)\n",
            "Requirement already satisfied: kaggle in /usr/local/lib/python3.7/dist-packages (from opendatasets) (1.5.12)\n",
            "Requirement already satisfied: click in /usr/local/lib/python3.7/dist-packages (from opendatasets) (7.1.2)\n",
            "Requirement already satisfied: tqdm in /usr/local/lib/python3.7/dist-packages (from opendatasets) (4.62.0)\n",
            "Requirement already satisfied: python-dateutil in /usr/local/lib/python3.7/dist-packages (from kaggle->opendatasets) (2.8.2)\n",
            "Requirement already satisfied: requests in /usr/local/lib/python3.7/dist-packages (from kaggle->opendatasets) (2.23.0)\n",
            "Requirement already satisfied: six>=1.10 in /usr/local/lib/python3.7/dist-packages (from kaggle->opendatasets) (1.15.0)\n",
            "Requirement already satisfied: python-slugify in /usr/local/lib/python3.7/dist-packages (from kaggle->opendatasets) (5.0.2)\n",
            "Requirement already satisfied: urllib3 in /usr/local/lib/python3.7/dist-packages (from kaggle->opendatasets) (1.24.3)\n",
            "Requirement already satisfied: certifi in /usr/local/lib/python3.7/dist-packages (from kaggle->opendatasets) (2021.5.30)\n",
            "Requirement already satisfied: text-unidecode>=1.3 in /usr/local/lib/python3.7/dist-packages (from python-slugify->kaggle->opendatasets) (1.3)\n",
            "Requirement already satisfied: idna<3,>=2.5 in /usr/local/lib/python3.7/dist-packages (from requests->kaggle->opendatasets) (2.10)\n",
            "Requirement already satisfied: chardet<4,>=3.0.2 in /usr/local/lib/python3.7/dist-packages (from requests->kaggle->opendatasets) (3.0.4)\n"
          ],
          "name": "stdout"
        }
      ]
    },
    {
      "cell_type": "code",
      "metadata": {
        "colab": {
          "base_uri": "https://localhost:8080/"
        },
        "id": "LVIRJr4HF7Zf",
        "outputId": "8661dbfa-c6dc-42a0-ac47-96c5343fc8f1"
      },
      "source": [
        "import opendatasets as od\n",
        "od.download('stackoverflow-developer-survey-2020')"
      ],
      "execution_count": null,
      "outputs": [
        {
          "output_type": "stream",
          "text": [
            "Using downloaded and verified file: ./stackoverflow-developer-survey-2020/survey_results_public.csv\n",
            "Using downloaded and verified file: ./stackoverflow-developer-survey-2020/survey_results_schema.csv\n",
            "Using downloaded and verified file: ./stackoverflow-developer-survey-2020/README.txt\n"
          ],
          "name": "stdout"
        }
      ]
    },
    {
      "cell_type": "code",
      "metadata": {
        "colab": {
          "base_uri": "https://localhost:8080/"
        },
        "id": "B_gUz0QVFpXA",
        "outputId": "db816673-3ea4-41bd-9956-878a8428c1c7"
      },
      "source": [
        "import os \n",
        "os.listdir('stackoverflow-developer-survey-2020')"
      ],
      "execution_count": null,
      "outputs": [
        {
          "output_type": "execute_result",
          "data": {
            "text/plain": [
              "['survey_results_schema.csv', 'README.txt', 'survey_results_public.csv']"
            ]
          },
          "metadata": {},
          "execution_count": 97
        }
      ]
    },
    {
      "cell_type": "code",
      "metadata": {
        "id": "dr1O4j3-owmA",
        "colab": {
          "base_uri": "https://localhost:8080/"
        },
        "outputId": "6ac8fce4-ab0e-45ff-cdc9-f22b649dbdde"
      },
      "source": [
        "!pip install pandas"
      ],
      "execution_count": null,
      "outputs": [
        {
          "output_type": "stream",
          "text": [
            "Requirement already satisfied: pandas in /usr/local/lib/python3.7/dist-packages (1.1.5)\n",
            "Requirement already satisfied: python-dateutil>=2.7.3 in /usr/local/lib/python3.7/dist-packages (from pandas) (2.8.2)\n",
            "Requirement already satisfied: pytz>=2017.2 in /usr/local/lib/python3.7/dist-packages (from pandas) (2018.9)\n",
            "Requirement already satisfied: numpy>=1.15.4 in /usr/local/lib/python3.7/dist-packages (from pandas) (1.19.5)\n",
            "Requirement already satisfied: six>=1.5 in /usr/local/lib/python3.7/dist-packages (from python-dateutil>=2.7.3->pandas) (1.15.0)\n"
          ],
          "name": "stdout"
        }
      ]
    },
    {
      "cell_type": "code",
      "metadata": {
        "id": "9CB4f4oh_vvE"
      },
      "source": [
        "import pandas as pd # Data Related operation\n",
        "import numpy as np  # used for numeric operation\n",
        "import matplotlib.pyplot as plt\n",
        "import seaborn as sns\n",
        "%matplotlib inline"
      ],
      "execution_count": null,
      "outputs": []
    },
    {
      "cell_type": "code",
      "metadata": {
        "id": "GZ13jtfq_vsn"
      },
      "source": [
        "sodata= pd.read_csv(\"/content/stackoverflow-developer-survey-2020/survey_results_public.csv\")\n"
      ],
      "execution_count": null,
      "outputs": []
    },
    {
      "cell_type": "code",
      "metadata": {
        "id": "ciAGYL9xI0yG"
      },
      "source": [
        "schema=pd.read_csv('/content/stackoverflow-developer-survey-2020/survey_results_schema.csv', index_col=\"Column\")"
      ],
      "execution_count": null,
      "outputs": []
    },
    {
      "cell_type": "code",
      "metadata": {
        "id": "4MZ072jC_vnk",
        "colab": {
          "base_uri": "https://localhost:8080/"
        },
        "outputId": "a2629587-6452-4159-be37-ea4e4e953435"
      },
      "source": [
        "sodata.columns"
      ],
      "execution_count": null,
      "outputs": [
        {
          "output_type": "execute_result",
          "data": {
            "text/plain": [
              "Index(['Respondent', 'MainBranch', 'Hobbyist', 'Age', 'Age1stCode', 'CompFreq',\n",
              "       'CompTotal', 'ConvertedComp', 'Country', 'CurrencyDesc',\n",
              "       'CurrencySymbol', 'DatabaseDesireNextYear', 'DatabaseWorkedWith',\n",
              "       'DevType', 'EdLevel', 'Employment', 'Ethnicity', 'Gender', 'JobFactors',\n",
              "       'JobSat', 'JobSeek', 'LanguageDesireNextYear', 'LanguageWorkedWith',\n",
              "       'MiscTechDesireNextYear', 'MiscTechWorkedWith',\n",
              "       'NEWCollabToolsDesireNextYear', 'NEWCollabToolsWorkedWith', 'NEWDevOps',\n",
              "       'NEWDevOpsImpt', 'NEWEdImpt', 'NEWJobHunt', 'NEWJobHuntResearch',\n",
              "       'NEWLearn', 'NEWOffTopic', 'NEWOnboardGood', 'NEWOtherComms',\n",
              "       'NEWOvertime', 'NEWPurchaseResearch', 'NEWPurpleLink', 'NEWSOSites',\n",
              "       'NEWStuck', 'OpSys', 'OrgSize', 'PlatformDesireNextYear',\n",
              "       'PlatformWorkedWith', 'PurchaseWhat', 'Sexuality', 'SOAccount',\n",
              "       'SOComm', 'SOPartFreq', 'SOVisitFreq', 'SurveyEase', 'SurveyLength',\n",
              "       'Trans', 'UndergradMajor', 'WebframeDesireNextYear',\n",
              "       'WebframeWorkedWith', 'WelcomeChange', 'WorkWeekHrs', 'YearsCode',\n",
              "       'YearsCodePro'],\n",
              "      dtype='object')"
            ]
          },
          "metadata": {},
          "execution_count": 102
        }
      ]
    },
    {
      "cell_type": "code",
      "metadata": {
        "id": "u6HPS-LJ_vlm",
        "colab": {
          "base_uri": "https://localhost:8080/",
          "height": 450
        },
        "outputId": "cffb7522-90dc-4999-810a-a82e65ae1764"
      },
      "source": [
        "schema"
      ],
      "execution_count": null,
      "outputs": [
        {
          "output_type": "execute_result",
          "data": {
            "text/html": [
              "<div>\n",
              "<style scoped>\n",
              "    .dataframe tbody tr th:only-of-type {\n",
              "        vertical-align: middle;\n",
              "    }\n",
              "\n",
              "    .dataframe tbody tr th {\n",
              "        vertical-align: top;\n",
              "    }\n",
              "\n",
              "    .dataframe thead th {\n",
              "        text-align: right;\n",
              "    }\n",
              "</style>\n",
              "<table border=\"1\" class=\"dataframe\">\n",
              "  <thead>\n",
              "    <tr style=\"text-align: right;\">\n",
              "      <th></th>\n",
              "      <th>QuestionText</th>\n",
              "    </tr>\n",
              "    <tr>\n",
              "      <th>Column</th>\n",
              "      <th></th>\n",
              "    </tr>\n",
              "  </thead>\n",
              "  <tbody>\n",
              "    <tr>\n",
              "      <th>Respondent</th>\n",
              "      <td>Randomized respondent ID number (not in order ...</td>\n",
              "    </tr>\n",
              "    <tr>\n",
              "      <th>MainBranch</th>\n",
              "      <td>Which of the following options best describes ...</td>\n",
              "    </tr>\n",
              "    <tr>\n",
              "      <th>Hobbyist</th>\n",
              "      <td>Do you code as a hobby?</td>\n",
              "    </tr>\n",
              "    <tr>\n",
              "      <th>Age</th>\n",
              "      <td>What is your age (in years)? If you prefer not...</td>\n",
              "    </tr>\n",
              "    <tr>\n",
              "      <th>Age1stCode</th>\n",
              "      <td>At what age did you write your first line of c...</td>\n",
              "    </tr>\n",
              "    <tr>\n",
              "      <th>...</th>\n",
              "      <td>...</td>\n",
              "    </tr>\n",
              "    <tr>\n",
              "      <th>WebframeWorkedWith</th>\n",
              "      <td>Which web frameworks have you done extensive d...</td>\n",
              "    </tr>\n",
              "    <tr>\n",
              "      <th>WelcomeChange</th>\n",
              "      <td>Compared to last year, how welcome do you feel...</td>\n",
              "    </tr>\n",
              "    <tr>\n",
              "      <th>WorkWeekHrs</th>\n",
              "      <td>On average, how many hours per week do you wor...</td>\n",
              "    </tr>\n",
              "    <tr>\n",
              "      <th>YearsCode</th>\n",
              "      <td>Including any education, how many years have y...</td>\n",
              "    </tr>\n",
              "    <tr>\n",
              "      <th>YearsCodePro</th>\n",
              "      <td>NOT including education, how many years have y...</td>\n",
              "    </tr>\n",
              "  </tbody>\n",
              "</table>\n",
              "<p>61 rows × 1 columns</p>\n",
              "</div>"
            ],
            "text/plain": [
              "                                                         QuestionText\n",
              "Column                                                               \n",
              "Respondent          Randomized respondent ID number (not in order ...\n",
              "MainBranch          Which of the following options best describes ...\n",
              "Hobbyist                                      Do you code as a hobby?\n",
              "Age                 What is your age (in years)? If you prefer not...\n",
              "Age1stCode          At what age did you write your first line of c...\n",
              "...                                                               ...\n",
              "WebframeWorkedWith  Which web frameworks have you done extensive d...\n",
              "WelcomeChange       Compared to last year, how welcome do you feel...\n",
              "WorkWeekHrs         On average, how many hours per week do you wor...\n",
              "YearsCode           Including any education, how many years have y...\n",
              "YearsCodePro        NOT including education, how many years have y...\n",
              "\n",
              "[61 rows x 1 columns]"
            ]
          },
          "metadata": {},
          "execution_count": 103
        }
      ]
    },
    {
      "cell_type": "code",
      "metadata": {
        "id": "T0v6xn7l_vi5",
        "colab": {
          "base_uri": "https://localhost:8080/"
        },
        "outputId": "a270616e-a60a-4e5a-ae1e-5d60c89b0a38"
      },
      "source": [
        "sodata.shape"
      ],
      "execution_count": null,
      "outputs": [
        {
          "output_type": "execute_result",
          "data": {
            "text/plain": [
              "(64461, 61)"
            ]
          },
          "metadata": {},
          "execution_count": 104
        }
      ]
    },
    {
      "cell_type": "code",
      "metadata": {
        "id": "kvnDI8TX_vgE",
        "colab": {
          "base_uri": "https://localhost:8080/"
        },
        "outputId": "a2a120c5-5b23-4266-ec80-a38a4e93658f"
      },
      "source": [
        "sodata.columns"
      ],
      "execution_count": null,
      "outputs": [
        {
          "output_type": "execute_result",
          "data": {
            "text/plain": [
              "Index(['Respondent', 'MainBranch', 'Hobbyist', 'Age', 'Age1stCode', 'CompFreq',\n",
              "       'CompTotal', 'ConvertedComp', 'Country', 'CurrencyDesc',\n",
              "       'CurrencySymbol', 'DatabaseDesireNextYear', 'DatabaseWorkedWith',\n",
              "       'DevType', 'EdLevel', 'Employment', 'Ethnicity', 'Gender', 'JobFactors',\n",
              "       'JobSat', 'JobSeek', 'LanguageDesireNextYear', 'LanguageWorkedWith',\n",
              "       'MiscTechDesireNextYear', 'MiscTechWorkedWith',\n",
              "       'NEWCollabToolsDesireNextYear', 'NEWCollabToolsWorkedWith', 'NEWDevOps',\n",
              "       'NEWDevOpsImpt', 'NEWEdImpt', 'NEWJobHunt', 'NEWJobHuntResearch',\n",
              "       'NEWLearn', 'NEWOffTopic', 'NEWOnboardGood', 'NEWOtherComms',\n",
              "       'NEWOvertime', 'NEWPurchaseResearch', 'NEWPurpleLink', 'NEWSOSites',\n",
              "       'NEWStuck', 'OpSys', 'OrgSize', 'PlatformDesireNextYear',\n",
              "       'PlatformWorkedWith', 'PurchaseWhat', 'Sexuality', 'SOAccount',\n",
              "       'SOComm', 'SOPartFreq', 'SOVisitFreq', 'SurveyEase', 'SurveyLength',\n",
              "       'Trans', 'UndergradMajor', 'WebframeDesireNextYear',\n",
              "       'WebframeWorkedWith', 'WelcomeChange', 'WorkWeekHrs', 'YearsCode',\n",
              "       'YearsCodePro'],\n",
              "      dtype='object')"
            ]
          },
          "metadata": {},
          "execution_count": 105
        }
      ]
    },
    {
      "cell_type": "code",
      "metadata": {
        "id": "efwqBa28_vd2",
        "colab": {
          "base_uri": "https://localhost:8080/",
          "height": 284
        },
        "outputId": "29fea009-a314-4e5f-b1e7-af2c379af2b0"
      },
      "source": [
        "display(sodata.dtypes.value_counts().to_frame('Count').T)\n",
        "sodata.dtypes"
      ],
      "execution_count": null,
      "outputs": [
        {
          "output_type": "display_data",
          "data": {
            "text/html": [
              "<div>\n",
              "<style scoped>\n",
              "    .dataframe tbody tr th:only-of-type {\n",
              "        vertical-align: middle;\n",
              "    }\n",
              "\n",
              "    .dataframe tbody tr th {\n",
              "        vertical-align: top;\n",
              "    }\n",
              "\n",
              "    .dataframe thead th {\n",
              "        text-align: right;\n",
              "    }\n",
              "</style>\n",
              "<table border=\"1\" class=\"dataframe\">\n",
              "  <thead>\n",
              "    <tr style=\"text-align: right;\">\n",
              "      <th></th>\n",
              "      <th>object</th>\n",
              "      <th>float64</th>\n",
              "      <th>int64</th>\n",
              "    </tr>\n",
              "  </thead>\n",
              "  <tbody>\n",
              "    <tr>\n",
              "      <th>Count</th>\n",
              "      <td>56</td>\n",
              "      <td>4</td>\n",
              "      <td>1</td>\n",
              "    </tr>\n",
              "  </tbody>\n",
              "</table>\n",
              "</div>"
            ],
            "text/plain": [
              "       object  float64  int64\n",
              "Count      56        4      1"
            ]
          },
          "metadata": {}
        },
        {
          "output_type": "execute_result",
          "data": {
            "text/plain": [
              "Respondent              int64\n",
              "MainBranch             object\n",
              "Hobbyist               object\n",
              "Age                   float64\n",
              "Age1stCode             object\n",
              "                       ...   \n",
              "WebframeWorkedWith     object\n",
              "WelcomeChange          object\n",
              "WorkWeekHrs           float64\n",
              "YearsCode              object\n",
              "YearsCodePro           object\n",
              "Length: 61, dtype: object"
            ]
          },
          "metadata": {},
          "execution_count": 106
        }
      ]
    },
    {
      "cell_type": "markdown",
      "metadata": {
        "id": "ocsGVPBYLcKv"
      },
      "source": [
        "#### Data Preparation (Preprocessing Starts From Here)\n",
        "* Demographic Survey respondents and global programming community\n",
        "\n",
        "* Distribution of Programming Skills, Experiance related information,preferances and Opinions\n"
      ]
    },
    {
      "cell_type": "code",
      "metadata": {
        "id": "QYOPR-3C_vZc"
      },
      "source": [
        "selected_columns = [\n",
        "                    # Demographics Columns\n",
        "                    'Country',\n",
        "                    'Age',\n",
        "                    'Gender',\n",
        "                    'EdLevel',\n",
        "                    'UndergradMajor',\n",
        "                    # Programming Experience\n",
        "                    'Hobbyist',\n",
        "                    'Age1stCode',\n",
        "                    'YearsCode',\n",
        "                    'YearsCodePro',\n",
        "                    'LanguageWorkedWith',\n",
        "                    'LanguageDesireNextYear',\n",
        "                    'NEWLearn',\n",
        "                    'NEWStuck',\n",
        "                    # Employment\n",
        "                    'Employment',\n",
        "                    'DevType',\n",
        "                    'WorkWeekHrs',\n",
        "                    'JobSat',\n",
        "                    'JobFactors',\n",
        "                    'NEWOvertime',\n",
        "                    'NEWEdImpt'\n",
        "                    ]"
      ],
      "execution_count": null,
      "outputs": []
    },
    {
      "cell_type": "code",
      "metadata": {
        "id": "ozbljSKw_vW1",
        "colab": {
          "base_uri": "https://localhost:8080/"
        },
        "outputId": "efdbf19b-75c8-4338-c246-f2d1461d9ec5"
      },
      "source": [
        "len(selected_columns)"
      ],
      "execution_count": null,
      "outputs": [
        {
          "output_type": "execute_result",
          "data": {
            "text/plain": [
              "20"
            ]
          },
          "metadata": {},
          "execution_count": 108
        }
      ]
    },
    {
      "cell_type": "code",
      "metadata": {
        "id": "DCZUolH-_vUY",
        "colab": {
          "base_uri": "https://localhost:8080/",
          "height": 966
        },
        "outputId": "f5f1e43b-4056-495f-cc10-f46ece1a4d8a"
      },
      "source": [
        "survey=sodata[selected_columns].copy(deep=True)\n",
        "survey"
      ],
      "execution_count": null,
      "outputs": [
        {
          "output_type": "execute_result",
          "data": {
            "text/html": [
              "<div>\n",
              "<style scoped>\n",
              "    .dataframe tbody tr th:only-of-type {\n",
              "        vertical-align: middle;\n",
              "    }\n",
              "\n",
              "    .dataframe tbody tr th {\n",
              "        vertical-align: top;\n",
              "    }\n",
              "\n",
              "    .dataframe thead th {\n",
              "        text-align: right;\n",
              "    }\n",
              "</style>\n",
              "<table border=\"1\" class=\"dataframe\">\n",
              "  <thead>\n",
              "    <tr style=\"text-align: right;\">\n",
              "      <th></th>\n",
              "      <th>Country</th>\n",
              "      <th>Age</th>\n",
              "      <th>Gender</th>\n",
              "      <th>EdLevel</th>\n",
              "      <th>UndergradMajor</th>\n",
              "      <th>Hobbyist</th>\n",
              "      <th>Age1stCode</th>\n",
              "      <th>YearsCode</th>\n",
              "      <th>YearsCodePro</th>\n",
              "      <th>LanguageWorkedWith</th>\n",
              "      <th>LanguageDesireNextYear</th>\n",
              "      <th>NEWLearn</th>\n",
              "      <th>NEWStuck</th>\n",
              "      <th>Employment</th>\n",
              "      <th>DevType</th>\n",
              "      <th>WorkWeekHrs</th>\n",
              "      <th>JobSat</th>\n",
              "      <th>JobFactors</th>\n",
              "      <th>NEWOvertime</th>\n",
              "      <th>NEWEdImpt</th>\n",
              "    </tr>\n",
              "  </thead>\n",
              "  <tbody>\n",
              "    <tr>\n",
              "      <th>0</th>\n",
              "      <td>Germany</td>\n",
              "      <td>NaN</td>\n",
              "      <td>Man</td>\n",
              "      <td>Master’s degree (M.A., M.S., M.Eng., MBA, etc.)</td>\n",
              "      <td>Computer science, computer engineering, or sof...</td>\n",
              "      <td>Yes</td>\n",
              "      <td>13</td>\n",
              "      <td>36</td>\n",
              "      <td>27</td>\n",
              "      <td>C#;HTML/CSS;JavaScript</td>\n",
              "      <td>C#;HTML/CSS;JavaScript</td>\n",
              "      <td>Once a year</td>\n",
              "      <td>Visit Stack Overflow;Go for a walk or other ph...</td>\n",
              "      <td>Independent contractor, freelancer, or self-em...</td>\n",
              "      <td>Developer, desktop or enterprise applications;...</td>\n",
              "      <td>50.0</td>\n",
              "      <td>Slightly satisfied</td>\n",
              "      <td>Languages, frameworks, and other technologies ...</td>\n",
              "      <td>Often: 1-2 days per week or more</td>\n",
              "      <td>Fairly important</td>\n",
              "    </tr>\n",
              "    <tr>\n",
              "      <th>1</th>\n",
              "      <td>United Kingdom</td>\n",
              "      <td>NaN</td>\n",
              "      <td>NaN</td>\n",
              "      <td>Bachelor’s degree (B.A., B.S., B.Eng., etc.)</td>\n",
              "      <td>Computer science, computer engineering, or sof...</td>\n",
              "      <td>No</td>\n",
              "      <td>19</td>\n",
              "      <td>7</td>\n",
              "      <td>4</td>\n",
              "      <td>JavaScript;Swift</td>\n",
              "      <td>Python;Swift</td>\n",
              "      <td>Once a year</td>\n",
              "      <td>Visit Stack Overflow;Go for a walk or other ph...</td>\n",
              "      <td>Employed full-time</td>\n",
              "      <td>Developer, full-stack;Developer, mobile</td>\n",
              "      <td>NaN</td>\n",
              "      <td>Very dissatisfied</td>\n",
              "      <td>NaN</td>\n",
              "      <td>NaN</td>\n",
              "      <td>Fairly important</td>\n",
              "    </tr>\n",
              "    <tr>\n",
              "      <th>2</th>\n",
              "      <td>Russian Federation</td>\n",
              "      <td>NaN</td>\n",
              "      <td>NaN</td>\n",
              "      <td>NaN</td>\n",
              "      <td>NaN</td>\n",
              "      <td>Yes</td>\n",
              "      <td>15</td>\n",
              "      <td>4</td>\n",
              "      <td>NaN</td>\n",
              "      <td>Objective-C;Python;Swift</td>\n",
              "      <td>Objective-C;Python;Swift</td>\n",
              "      <td>Once a decade</td>\n",
              "      <td>NaN</td>\n",
              "      <td>NaN</td>\n",
              "      <td>NaN</td>\n",
              "      <td>NaN</td>\n",
              "      <td>NaN</td>\n",
              "      <td>NaN</td>\n",
              "      <td>NaN</td>\n",
              "      <td>NaN</td>\n",
              "    </tr>\n",
              "    <tr>\n",
              "      <th>3</th>\n",
              "      <td>Albania</td>\n",
              "      <td>25.0</td>\n",
              "      <td>Man</td>\n",
              "      <td>Master’s degree (M.A., M.S., M.Eng., MBA, etc.)</td>\n",
              "      <td>Computer science, computer engineering, or sof...</td>\n",
              "      <td>Yes</td>\n",
              "      <td>18</td>\n",
              "      <td>7</td>\n",
              "      <td>4</td>\n",
              "      <td>NaN</td>\n",
              "      <td>NaN</td>\n",
              "      <td>Once a year</td>\n",
              "      <td>NaN</td>\n",
              "      <td>NaN</td>\n",
              "      <td>NaN</td>\n",
              "      <td>40.0</td>\n",
              "      <td>Slightly dissatisfied</td>\n",
              "      <td>Flex time or a flexible schedule;Office enviro...</td>\n",
              "      <td>Occasionally: 1-2 days per quarter but less th...</td>\n",
              "      <td>Not at all important/not necessary</td>\n",
              "    </tr>\n",
              "    <tr>\n",
              "      <th>4</th>\n",
              "      <td>United States</td>\n",
              "      <td>31.0</td>\n",
              "      <td>Man</td>\n",
              "      <td>Bachelor’s degree (B.A., B.S., B.Eng., etc.)</td>\n",
              "      <td>Computer science, computer engineering, or sof...</td>\n",
              "      <td>Yes</td>\n",
              "      <td>16</td>\n",
              "      <td>15</td>\n",
              "      <td>8</td>\n",
              "      <td>HTML/CSS;Ruby;SQL</td>\n",
              "      <td>Java;Ruby;Scala</td>\n",
              "      <td>Once a year</td>\n",
              "      <td>Call a coworker or friend;Visit Stack Overflow...</td>\n",
              "      <td>Employed full-time</td>\n",
              "      <td>NaN</td>\n",
              "      <td>NaN</td>\n",
              "      <td>NaN</td>\n",
              "      <td>NaN</td>\n",
              "      <td>NaN</td>\n",
              "      <td>Very important</td>\n",
              "    </tr>\n",
              "    <tr>\n",
              "      <th>...</th>\n",
              "      <td>...</td>\n",
              "      <td>...</td>\n",
              "      <td>...</td>\n",
              "      <td>...</td>\n",
              "      <td>...</td>\n",
              "      <td>...</td>\n",
              "      <td>...</td>\n",
              "      <td>...</td>\n",
              "      <td>...</td>\n",
              "      <td>...</td>\n",
              "      <td>...</td>\n",
              "      <td>...</td>\n",
              "      <td>...</td>\n",
              "      <td>...</td>\n",
              "      <td>...</td>\n",
              "      <td>...</td>\n",
              "      <td>...</td>\n",
              "      <td>...</td>\n",
              "      <td>...</td>\n",
              "      <td>...</td>\n",
              "    </tr>\n",
              "    <tr>\n",
              "      <th>64456</th>\n",
              "      <td>United States</td>\n",
              "      <td>NaN</td>\n",
              "      <td>NaN</td>\n",
              "      <td>Master’s degree (M.A., M.S., M.Eng., MBA, etc.)</td>\n",
              "      <td>Computer science, computer engineering, or sof...</td>\n",
              "      <td>Yes</td>\n",
              "      <td>16</td>\n",
              "      <td>10</td>\n",
              "      <td>Less than 1 year</td>\n",
              "      <td>NaN</td>\n",
              "      <td>NaN</td>\n",
              "      <td>Once a decade</td>\n",
              "      <td>Call a coworker or friend</td>\n",
              "      <td>Employed full-time</td>\n",
              "      <td>Senior executive/VP</td>\n",
              "      <td>NaN</td>\n",
              "      <td>NaN</td>\n",
              "      <td>NaN</td>\n",
              "      <td>NaN</td>\n",
              "      <td>Very important</td>\n",
              "    </tr>\n",
              "    <tr>\n",
              "      <th>64457</th>\n",
              "      <td>Morocco</td>\n",
              "      <td>NaN</td>\n",
              "      <td>NaN</td>\n",
              "      <td>NaN</td>\n",
              "      <td>NaN</td>\n",
              "      <td>Yes</td>\n",
              "      <td>NaN</td>\n",
              "      <td>NaN</td>\n",
              "      <td>NaN</td>\n",
              "      <td>Assembly;Bash/Shell/PowerShell;C;C#;C++;Dart;G...</td>\n",
              "      <td>Assembly;Bash/Shell/PowerShell;C;C#;C++;Dart;G...</td>\n",
              "      <td>NaN</td>\n",
              "      <td>NaN</td>\n",
              "      <td>Employed full-time</td>\n",
              "      <td>NaN</td>\n",
              "      <td>NaN</td>\n",
              "      <td>NaN</td>\n",
              "      <td>NaN</td>\n",
              "      <td>NaN</td>\n",
              "      <td>NaN</td>\n",
              "    </tr>\n",
              "    <tr>\n",
              "      <th>64458</th>\n",
              "      <td>Viet Nam</td>\n",
              "      <td>NaN</td>\n",
              "      <td>NaN</td>\n",
              "      <td>Primary/elementary school</td>\n",
              "      <td>NaN</td>\n",
              "      <td>Yes</td>\n",
              "      <td>NaN</td>\n",
              "      <td>NaN</td>\n",
              "      <td>NaN</td>\n",
              "      <td>NaN</td>\n",
              "      <td>NaN</td>\n",
              "      <td>NaN</td>\n",
              "      <td>NaN</td>\n",
              "      <td>NaN</td>\n",
              "      <td>NaN</td>\n",
              "      <td>NaN</td>\n",
              "      <td>NaN</td>\n",
              "      <td>NaN</td>\n",
              "      <td>NaN</td>\n",
              "      <td>NaN</td>\n",
              "    </tr>\n",
              "    <tr>\n",
              "      <th>64459</th>\n",
              "      <td>Poland</td>\n",
              "      <td>NaN</td>\n",
              "      <td>NaN</td>\n",
              "      <td>NaN</td>\n",
              "      <td>NaN</td>\n",
              "      <td>Yes</td>\n",
              "      <td>NaN</td>\n",
              "      <td>NaN</td>\n",
              "      <td>NaN</td>\n",
              "      <td>HTML/CSS</td>\n",
              "      <td>HTML/CSS;Java;JavaScript</td>\n",
              "      <td>Once a year</td>\n",
              "      <td>Call a coworker or friend;Visit Stack Overflow</td>\n",
              "      <td>Employed full-time</td>\n",
              "      <td>NaN</td>\n",
              "      <td>NaN</td>\n",
              "      <td>NaN</td>\n",
              "      <td>NaN</td>\n",
              "      <td>NaN</td>\n",
              "      <td>NaN</td>\n",
              "    </tr>\n",
              "    <tr>\n",
              "      <th>64460</th>\n",
              "      <td>Spain</td>\n",
              "      <td>NaN</td>\n",
              "      <td>NaN</td>\n",
              "      <td>Other doctoral degree (Ph.D., Ed.D., etc.)</td>\n",
              "      <td>Computer science, computer engineering, or sof...</td>\n",
              "      <td>Yes</td>\n",
              "      <td>NaN</td>\n",
              "      <td>NaN</td>\n",
              "      <td>NaN</td>\n",
              "      <td>C#;HTML/CSS;Java;JavaScript;SQL</td>\n",
              "      <td>C#;HTML/CSS;Java;JavaScript;SQL</td>\n",
              "      <td>Once a year</td>\n",
              "      <td>Meditate;Visit Stack Overflow;Go for a walk or...</td>\n",
              "      <td>Employed full-time</td>\n",
              "      <td>NaN</td>\n",
              "      <td>NaN</td>\n",
              "      <td>NaN</td>\n",
              "      <td>NaN</td>\n",
              "      <td>NaN</td>\n",
              "      <td>Critically important</td>\n",
              "    </tr>\n",
              "  </tbody>\n",
              "</table>\n",
              "<p>64461 rows × 20 columns</p>\n",
              "</div>"
            ],
            "text/plain": [
              "                  Country  ...                           NEWEdImpt\n",
              "0                 Germany  ...                    Fairly important\n",
              "1          United Kingdom  ...                    Fairly important\n",
              "2      Russian Federation  ...                                 NaN\n",
              "3                 Albania  ...  Not at all important/not necessary\n",
              "4           United States  ...                      Very important\n",
              "...                   ...  ...                                 ...\n",
              "64456       United States  ...                      Very important\n",
              "64457             Morocco  ...                                 NaN\n",
              "64458            Viet Nam  ...                                 NaN\n",
              "64459              Poland  ...                                 NaN\n",
              "64460               Spain  ...                Critically important\n",
              "\n",
              "[64461 rows x 20 columns]"
            ]
          },
          "metadata": {},
          "execution_count": 109
        }
      ]
    },
    {
      "cell_type": "code",
      "metadata": {
        "id": "1rmFgvta_vPn",
        "colab": {
          "base_uri": "https://localhost:8080/"
        },
        "outputId": "3cb12347-3496-4999-e9d3-67f190972c30"
      },
      "source": [
        "survey.shape"
      ],
      "execution_count": null,
      "outputs": [
        {
          "output_type": "execute_result",
          "data": {
            "text/plain": [
              "(64461, 20)"
            ]
          },
          "metadata": {},
          "execution_count": 110
        }
      ]
    },
    {
      "cell_type": "code",
      "metadata": {
        "id": "Exu88g7Y_vNT"
      },
      "source": [
        "#Information About Survey DataSet"
      ],
      "execution_count": null,
      "outputs": []
    },
    {
      "cell_type": "code",
      "metadata": {
        "id": "kP5vzS0G_vKk",
        "colab": {
          "base_uri": "https://localhost:8080/"
        },
        "outputId": "36de6cc9-872f-4be4-a610-3bf335131db1"
      },
      "source": [
        "survey.info()"
      ],
      "execution_count": null,
      "outputs": [
        {
          "output_type": "stream",
          "text": [
            "<class 'pandas.core.frame.DataFrame'>\n",
            "RangeIndex: 64461 entries, 0 to 64460\n",
            "Data columns (total 20 columns):\n",
            " #   Column                  Non-Null Count  Dtype  \n",
            "---  ------                  --------------  -----  \n",
            " 0   Country                 64072 non-null  object \n",
            " 1   Age                     45446 non-null  float64\n",
            " 2   Gender                  50557 non-null  object \n",
            " 3   EdLevel                 57431 non-null  object \n",
            " 4   UndergradMajor          50995 non-null  object \n",
            " 5   Hobbyist                64416 non-null  object \n",
            " 6   Age1stCode              57900 non-null  object \n",
            " 7   YearsCode               57684 non-null  object \n",
            " 8   YearsCodePro            46349 non-null  object \n",
            " 9   LanguageWorkedWith      57378 non-null  object \n",
            " 10  LanguageDesireNextYear  54113 non-null  object \n",
            " 11  NEWLearn                56156 non-null  object \n",
            " 12  NEWStuck                54983 non-null  object \n",
            " 13  Employment              63854 non-null  object \n",
            " 14  DevType                 49370 non-null  object \n",
            " 15  WorkWeekHrs             41151 non-null  float64\n",
            " 16  JobSat                  45194 non-null  object \n",
            " 17  JobFactors              49349 non-null  object \n",
            " 18  NEWOvertime             43231 non-null  object \n",
            " 19  NEWEdImpt               48465 non-null  object \n",
            "dtypes: float64(2), object(18)\n",
            "memory usage: 9.8+ MB\n"
          ],
          "name": "stdout"
        }
      ]
    },
    {
      "cell_type": "code",
      "metadata": {
        "id": "sMLu_W1K_vIH",
        "colab": {
          "base_uri": "https://localhost:8080/"
        },
        "outputId": "bc65cac3-3759-4f28-d25e-0635d1c34a3e"
      },
      "source": [
        "(survey.isnull().sum()/len(survey))*100"
      ],
      "execution_count": null,
      "outputs": [
        {
          "output_type": "execute_result",
          "data": {
            "text/plain": [
              "Country                    0.603466\n",
              "Age                       29.498456\n",
              "Gender                    21.569631\n",
              "EdLevel                   10.905819\n",
              "UndergradMajor            20.890151\n",
              "Hobbyist                   0.069810\n",
              "Age1stCode                10.178247\n",
              "YearsCode                 10.513334\n",
              "YearsCodePro              28.097609\n",
              "LanguageWorkedWith        10.988039\n",
              "LanguageDesireNextYear    16.053117\n",
              "NEWLearn                  12.883759\n",
              "NEWStuck                  14.703464\n",
              "Employment                 0.941655\n",
              "DevType                   23.411055\n",
              "WorkWeekHrs               36.161400\n",
              "JobSat                    29.889390\n",
              "JobFactors                23.443633\n",
              "NEWOvertime               32.934643\n",
              "NEWEdImpt                 24.815004\n",
              "dtype: float64"
            ]
          },
          "metadata": {},
          "execution_count": 113
        }
      ]
    },
    {
      "cell_type": "code",
      "metadata": {
        "id": "t94lXMKH_vFj"
      },
      "source": [
        "survey[\"Age1stCode\"]=pd.to_numeric(survey[\"Age1stCode\"], errors='coerce')\n",
        "survey[\"YearsCodePro \"]=pd.to_numeric(survey[\"YearsCodePro\"], errors='coerce')\n",
        "survey[\"YearsCode   \"]=pd.to_numeric(survey[\"YearsCodePro\"], errors='coerce')\n"
      ],
      "execution_count": null,
      "outputs": []
    },
    {
      "cell_type": "code",
      "metadata": {
        "id": "4qz_9rJ6_vBQ",
        "colab": {
          "base_uri": "https://localhost:8080/",
          "height": 297
        },
        "outputId": "fdfacb4e-ce64-494b-cec2-8b540955379c"
      },
      "source": [
        "survey.select_dtypes('float64').describe()"
      ],
      "execution_count": null,
      "outputs": [
        {
          "output_type": "execute_result",
          "data": {
            "text/html": [
              "<div>\n",
              "<style scoped>\n",
              "    .dataframe tbody tr th:only-of-type {\n",
              "        vertical-align: middle;\n",
              "    }\n",
              "\n",
              "    .dataframe tbody tr th {\n",
              "        vertical-align: top;\n",
              "    }\n",
              "\n",
              "    .dataframe thead th {\n",
              "        text-align: right;\n",
              "    }\n",
              "</style>\n",
              "<table border=\"1\" class=\"dataframe\">\n",
              "  <thead>\n",
              "    <tr style=\"text-align: right;\">\n",
              "      <th></th>\n",
              "      <th>Age</th>\n",
              "      <th>Age1stCode</th>\n",
              "      <th>WorkWeekHrs</th>\n",
              "      <th>YearsCodePro</th>\n",
              "      <th>YearsCode</th>\n",
              "    </tr>\n",
              "  </thead>\n",
              "  <tbody>\n",
              "    <tr>\n",
              "      <th>count</th>\n",
              "      <td>45446.000000</td>\n",
              "      <td>57473.000000</td>\n",
              "      <td>41151.000000</td>\n",
              "      <td>44133.000000</td>\n",
              "      <td>44133.000000</td>\n",
              "    </tr>\n",
              "    <tr>\n",
              "      <th>mean</th>\n",
              "      <td>30.834111</td>\n",
              "      <td>15.476572</td>\n",
              "      <td>40.782174</td>\n",
              "      <td>8.869667</td>\n",
              "      <td>8.869667</td>\n",
              "    </tr>\n",
              "    <tr>\n",
              "      <th>std</th>\n",
              "      <td>9.585392</td>\n",
              "      <td>5.114081</td>\n",
              "      <td>17.816383</td>\n",
              "      <td>7.759961</td>\n",
              "      <td>7.759961</td>\n",
              "    </tr>\n",
              "    <tr>\n",
              "      <th>min</th>\n",
              "      <td>1.000000</td>\n",
              "      <td>5.000000</td>\n",
              "      <td>1.000000</td>\n",
              "      <td>1.000000</td>\n",
              "      <td>1.000000</td>\n",
              "    </tr>\n",
              "    <tr>\n",
              "      <th>25%</th>\n",
              "      <td>24.000000</td>\n",
              "      <td>12.000000</td>\n",
              "      <td>40.000000</td>\n",
              "      <td>3.000000</td>\n",
              "      <td>3.000000</td>\n",
              "    </tr>\n",
              "    <tr>\n",
              "      <th>50%</th>\n",
              "      <td>29.000000</td>\n",
              "      <td>15.000000</td>\n",
              "      <td>40.000000</td>\n",
              "      <td>6.000000</td>\n",
              "      <td>6.000000</td>\n",
              "    </tr>\n",
              "    <tr>\n",
              "      <th>75%</th>\n",
              "      <td>35.000000</td>\n",
              "      <td>18.000000</td>\n",
              "      <td>44.000000</td>\n",
              "      <td>12.000000</td>\n",
              "      <td>12.000000</td>\n",
              "    </tr>\n",
              "    <tr>\n",
              "      <th>max</th>\n",
              "      <td>279.000000</td>\n",
              "      <td>85.000000</td>\n",
              "      <td>475.000000</td>\n",
              "      <td>50.000000</td>\n",
              "      <td>50.000000</td>\n",
              "    </tr>\n",
              "  </tbody>\n",
              "</table>\n",
              "</div>"
            ],
            "text/plain": [
              "                Age    Age1stCode   WorkWeekHrs  YearsCodePro   YearsCode   \n",
              "count  45446.000000  57473.000000  41151.000000   44133.000000  44133.000000\n",
              "mean      30.834111     15.476572     40.782174       8.869667      8.869667\n",
              "std        9.585392      5.114081     17.816383       7.759961      7.759961\n",
              "min        1.000000      5.000000      1.000000       1.000000      1.000000\n",
              "25%       24.000000     12.000000     40.000000       3.000000      3.000000\n",
              "50%       29.000000     15.000000     40.000000       6.000000      6.000000\n",
              "75%       35.000000     18.000000     44.000000      12.000000     12.000000\n",
              "max      279.000000     85.000000    475.000000      50.000000     50.000000"
            ]
          },
          "metadata": {},
          "execution_count": 115
        }
      ]
    },
    {
      "cell_type": "code",
      "metadata": {
        "colab": {
          "base_uri": "https://localhost:8080/"
        },
        "id": "ny5amgwlT_4P",
        "outputId": "d640547b-1be2-4a5a-ec11-59e4f35fc067"
      },
      "source": [
        "# Drop the Rows Which Contains The Age Greater than 100 And Less than 10\n",
        "survey[(survey[\"Age\"]>10 ) & (survey[\"Age\"] <=100)].shape[0]"
      ],
      "execution_count": null,
      "outputs": [
        {
          "output_type": "execute_result",
          "data": {
            "text/plain": [
              "45431"
            ]
          },
          "metadata": {},
          "execution_count": 116
        }
      ]
    },
    {
      "cell_type": "code",
      "metadata": {
        "colab": {
          "base_uri": "https://localhost:8080/",
          "height": 1000
        },
        "id": "EIVeOSyoT_2V",
        "outputId": "e2cc8968-885d-4524-c75a-e49e318279d5"
      },
      "source": [
        "survey[(survey[\"Age\"]>10 ) & (survey[\"Age\"] <=100)]"
      ],
      "execution_count": null,
      "outputs": [
        {
          "output_type": "execute_result",
          "data": {
            "text/html": [
              "<div>\n",
              "<style scoped>\n",
              "    .dataframe tbody tr th:only-of-type {\n",
              "        vertical-align: middle;\n",
              "    }\n",
              "\n",
              "    .dataframe tbody tr th {\n",
              "        vertical-align: top;\n",
              "    }\n",
              "\n",
              "    .dataframe thead th {\n",
              "        text-align: right;\n",
              "    }\n",
              "</style>\n",
              "<table border=\"1\" class=\"dataframe\">\n",
              "  <thead>\n",
              "    <tr style=\"text-align: right;\">\n",
              "      <th></th>\n",
              "      <th>Country</th>\n",
              "      <th>Age</th>\n",
              "      <th>Gender</th>\n",
              "      <th>EdLevel</th>\n",
              "      <th>UndergradMajor</th>\n",
              "      <th>Hobbyist</th>\n",
              "      <th>Age1stCode</th>\n",
              "      <th>YearsCode</th>\n",
              "      <th>YearsCodePro</th>\n",
              "      <th>LanguageWorkedWith</th>\n",
              "      <th>LanguageDesireNextYear</th>\n",
              "      <th>NEWLearn</th>\n",
              "      <th>NEWStuck</th>\n",
              "      <th>Employment</th>\n",
              "      <th>DevType</th>\n",
              "      <th>WorkWeekHrs</th>\n",
              "      <th>JobSat</th>\n",
              "      <th>JobFactors</th>\n",
              "      <th>NEWOvertime</th>\n",
              "      <th>NEWEdImpt</th>\n",
              "      <th>YearsCodePro</th>\n",
              "      <th>YearsCode</th>\n",
              "    </tr>\n",
              "  </thead>\n",
              "  <tbody>\n",
              "    <tr>\n",
              "      <th>3</th>\n",
              "      <td>Albania</td>\n",
              "      <td>25.0</td>\n",
              "      <td>Man</td>\n",
              "      <td>Master’s degree (M.A., M.S., M.Eng., MBA, etc.)</td>\n",
              "      <td>Computer science, computer engineering, or sof...</td>\n",
              "      <td>Yes</td>\n",
              "      <td>18.0</td>\n",
              "      <td>7</td>\n",
              "      <td>4</td>\n",
              "      <td>NaN</td>\n",
              "      <td>NaN</td>\n",
              "      <td>Once a year</td>\n",
              "      <td>NaN</td>\n",
              "      <td>NaN</td>\n",
              "      <td>NaN</td>\n",
              "      <td>40.0</td>\n",
              "      <td>Slightly dissatisfied</td>\n",
              "      <td>Flex time or a flexible schedule;Office enviro...</td>\n",
              "      <td>Occasionally: 1-2 days per quarter but less th...</td>\n",
              "      <td>Not at all important/not necessary</td>\n",
              "      <td>4.0</td>\n",
              "      <td>4.0</td>\n",
              "    </tr>\n",
              "    <tr>\n",
              "      <th>4</th>\n",
              "      <td>United States</td>\n",
              "      <td>31.0</td>\n",
              "      <td>Man</td>\n",
              "      <td>Bachelor’s degree (B.A., B.S., B.Eng., etc.)</td>\n",
              "      <td>Computer science, computer engineering, or sof...</td>\n",
              "      <td>Yes</td>\n",
              "      <td>16.0</td>\n",
              "      <td>15</td>\n",
              "      <td>8</td>\n",
              "      <td>HTML/CSS;Ruby;SQL</td>\n",
              "      <td>Java;Ruby;Scala</td>\n",
              "      <td>Once a year</td>\n",
              "      <td>Call a coworker or friend;Visit Stack Overflow...</td>\n",
              "      <td>Employed full-time</td>\n",
              "      <td>NaN</td>\n",
              "      <td>NaN</td>\n",
              "      <td>NaN</td>\n",
              "      <td>NaN</td>\n",
              "      <td>NaN</td>\n",
              "      <td>Very important</td>\n",
              "      <td>8.0</td>\n",
              "      <td>8.0</td>\n",
              "    </tr>\n",
              "    <tr>\n",
              "      <th>7</th>\n",
              "      <td>United States</td>\n",
              "      <td>36.0</td>\n",
              "      <td>Man</td>\n",
              "      <td>Bachelor’s degree (B.A., B.S., B.Eng., etc.)</td>\n",
              "      <td>Computer science, computer engineering, or sof...</td>\n",
              "      <td>Yes</td>\n",
              "      <td>12.0</td>\n",
              "      <td>17</td>\n",
              "      <td>13</td>\n",
              "      <td>Python;SQL</td>\n",
              "      <td>JavaScript</td>\n",
              "      <td>Once a year</td>\n",
              "      <td>Play games;Call a coworker or friend;Visit Sta...</td>\n",
              "      <td>Employed full-time</td>\n",
              "      <td>Developer, back-end;Developer, desktop or ente...</td>\n",
              "      <td>39.0</td>\n",
              "      <td>Slightly dissatisfied</td>\n",
              "      <td>Remote work options;Opportunities for professi...</td>\n",
              "      <td>Occasionally: 1-2 days per quarter but less th...</td>\n",
              "      <td>Not at all important/not necessary</td>\n",
              "      <td>13.0</td>\n",
              "      <td>13.0</td>\n",
              "    </tr>\n",
              "    <tr>\n",
              "      <th>8</th>\n",
              "      <td>Tunisia</td>\n",
              "      <td>30.0</td>\n",
              "      <td>Man</td>\n",
              "      <td>Professional degree (JD, MD, etc.)</td>\n",
              "      <td>Computer science, computer engineering, or sof...</td>\n",
              "      <td>No</td>\n",
              "      <td>20.0</td>\n",
              "      <td>6</td>\n",
              "      <td>4</td>\n",
              "      <td>HTML/CSS;JavaScript;PHP</td>\n",
              "      <td>Python;Rust</td>\n",
              "      <td>Once a year</td>\n",
              "      <td>Meditate</td>\n",
              "      <td>Independent contractor, freelancer, or self-em...</td>\n",
              "      <td>Developer, full-stack</td>\n",
              "      <td>50.0</td>\n",
              "      <td>Very dissatisfied</td>\n",
              "      <td>Diversity of the company or organization;Remot...</td>\n",
              "      <td>Occasionally: 1-2 days per quarter but less th...</td>\n",
              "      <td>Very important</td>\n",
              "      <td>4.0</td>\n",
              "      <td>4.0</td>\n",
              "    </tr>\n",
              "    <tr>\n",
              "      <th>9</th>\n",
              "      <td>United Kingdom</td>\n",
              "      <td>22.0</td>\n",
              "      <td>Man</td>\n",
              "      <td>Master’s degree (M.A., M.S., M.Eng., MBA, etc.)</td>\n",
              "      <td>Mathematics or statistics</td>\n",
              "      <td>Yes</td>\n",
              "      <td>14.0</td>\n",
              "      <td>8</td>\n",
              "      <td>4</td>\n",
              "      <td>HTML/CSS;Java;JavaScript;Python;SQL</td>\n",
              "      <td>HTML/CSS;Java;JavaScript;Python;R;SQL</td>\n",
              "      <td>Every few months</td>\n",
              "      <td>Visit Stack Overflow</td>\n",
              "      <td>Employed full-time</td>\n",
              "      <td>Database administrator;Developer, full-stack;D...</td>\n",
              "      <td>36.0</td>\n",
              "      <td>Very satisfied</td>\n",
              "      <td>Flex time or a flexible schedule;How widely us...</td>\n",
              "      <td>Often: 1-2 days per week or more</td>\n",
              "      <td>Fairly important</td>\n",
              "      <td>4.0</td>\n",
              "      <td>4.0</td>\n",
              "    </tr>\n",
              "    <tr>\n",
              "      <th>...</th>\n",
              "      <td>...</td>\n",
              "      <td>...</td>\n",
              "      <td>...</td>\n",
              "      <td>...</td>\n",
              "      <td>...</td>\n",
              "      <td>...</td>\n",
              "      <td>...</td>\n",
              "      <td>...</td>\n",
              "      <td>...</td>\n",
              "      <td>...</td>\n",
              "      <td>...</td>\n",
              "      <td>...</td>\n",
              "      <td>...</td>\n",
              "      <td>...</td>\n",
              "      <td>...</td>\n",
              "      <td>...</td>\n",
              "      <td>...</td>\n",
              "      <td>...</td>\n",
              "      <td>...</td>\n",
              "      <td>...</td>\n",
              "      <td>...</td>\n",
              "      <td>...</td>\n",
              "    </tr>\n",
              "    <tr>\n",
              "      <th>64426</th>\n",
              "      <td>Spain</td>\n",
              "      <td>22.0</td>\n",
              "      <td>Man</td>\n",
              "      <td>Bachelor’s degree (B.A., B.S., B.Eng., etc.)</td>\n",
              "      <td>Computer science, computer engineering, or sof...</td>\n",
              "      <td>Yes</td>\n",
              "      <td>10.0</td>\n",
              "      <td>10</td>\n",
              "      <td>NaN</td>\n",
              "      <td>Assembly;C;C++;Dart;HTML/CSS;Java;Kotlin;Pytho...</td>\n",
              "      <td>Assembly;C;C++;Go;Java;Kotlin;Python;Rust;Type...</td>\n",
              "      <td>Once a year</td>\n",
              "      <td>Play games;Visit Stack Overflow;Watch help / t...</td>\n",
              "      <td>Student</td>\n",
              "      <td>NaN</td>\n",
              "      <td>NaN</td>\n",
              "      <td>NaN</td>\n",
              "      <td>NaN</td>\n",
              "      <td>NaN</td>\n",
              "      <td>NaN</td>\n",
              "      <td>NaN</td>\n",
              "      <td>NaN</td>\n",
              "    </tr>\n",
              "    <tr>\n",
              "      <th>64427</th>\n",
              "      <td>Brazil</td>\n",
              "      <td>34.0</td>\n",
              "      <td>Man</td>\n",
              "      <td>Master’s degree (M.A., M.S., M.Eng., MBA, etc.)</td>\n",
              "      <td>Computer science, computer engineering, or sof...</td>\n",
              "      <td>Yes</td>\n",
              "      <td>18.0</td>\n",
              "      <td>16</td>\n",
              "      <td>14</td>\n",
              "      <td>Python;SQL</td>\n",
              "      <td>Python;SQL</td>\n",
              "      <td>Once a year</td>\n",
              "      <td>Call a coworker or friend;Visit Stack Overflow...</td>\n",
              "      <td>Employed full-time</td>\n",
              "      <td>Senior executive/VP</td>\n",
              "      <td>NaN</td>\n",
              "      <td>NaN</td>\n",
              "      <td>NaN</td>\n",
              "      <td>NaN</td>\n",
              "      <td>Very important</td>\n",
              "      <td>14.0</td>\n",
              "      <td>14.0</td>\n",
              "    </tr>\n",
              "    <tr>\n",
              "      <th>64430</th>\n",
              "      <td>Israel</td>\n",
              "      <td>38.0</td>\n",
              "      <td>Man</td>\n",
              "      <td>Master’s degree (M.A., M.S., M.Eng., MBA, etc.)</td>\n",
              "      <td>NaN</td>\n",
              "      <td>Yes</td>\n",
              "      <td>35.0</td>\n",
              "      <td>3</td>\n",
              "      <td>NaN</td>\n",
              "      <td>HTML/CSS;JavaScript;Python</td>\n",
              "      <td>Haskell;HTML/CSS;JavaScript;Python;Rust</td>\n",
              "      <td>Every few months</td>\n",
              "      <td>Meditate;Play games;Call a coworker or friend;...</td>\n",
              "      <td>Not employed, but looking for work</td>\n",
              "      <td>NaN</td>\n",
              "      <td>NaN</td>\n",
              "      <td>NaN</td>\n",
              "      <td>NaN</td>\n",
              "      <td>NaN</td>\n",
              "      <td>Fairly important</td>\n",
              "      <td>NaN</td>\n",
              "      <td>NaN</td>\n",
              "    </tr>\n",
              "    <tr>\n",
              "      <th>64433</th>\n",
              "      <td>France</td>\n",
              "      <td>64.0</td>\n",
              "      <td>Man</td>\n",
              "      <td>NaN</td>\n",
              "      <td>Information systems, information technology, o...</td>\n",
              "      <td>Yes</td>\n",
              "      <td>18.0</td>\n",
              "      <td>30</td>\n",
              "      <td>NaN</td>\n",
              "      <td>Bash/Shell/PowerShell;HTML/CSS;JavaScript;Perl...</td>\n",
              "      <td>Bash/Shell/PowerShell;Go;HTML/CSS;JavaScript;P...</td>\n",
              "      <td>Once a year</td>\n",
              "      <td>Visit Stack Overflow;Go for a walk or other ph...</td>\n",
              "      <td>Retired</td>\n",
              "      <td>NaN</td>\n",
              "      <td>NaN</td>\n",
              "      <td>NaN</td>\n",
              "      <td>NaN</td>\n",
              "      <td>NaN</td>\n",
              "      <td>Fairly important</td>\n",
              "      <td>NaN</td>\n",
              "      <td>NaN</td>\n",
              "    </tr>\n",
              "    <tr>\n",
              "      <th>64441</th>\n",
              "      <td>Canada</td>\n",
              "      <td>17.0</td>\n",
              "      <td>Man</td>\n",
              "      <td>Secondary school (e.g. American high school, G...</td>\n",
              "      <td>NaN</td>\n",
              "      <td>Yes</td>\n",
              "      <td>10.0</td>\n",
              "      <td>7</td>\n",
              "      <td>NaN</td>\n",
              "      <td>C;C#;C++;Java</td>\n",
              "      <td>Assembly;C#;Kotlin</td>\n",
              "      <td>Once a year</td>\n",
              "      <td>Visit Stack Overflow;Go for a walk or other ph...</td>\n",
              "      <td>Student</td>\n",
              "      <td>NaN</td>\n",
              "      <td>NaN</td>\n",
              "      <td>NaN</td>\n",
              "      <td>NaN</td>\n",
              "      <td>NaN</td>\n",
              "      <td>NaN</td>\n",
              "      <td>NaN</td>\n",
              "      <td>NaN</td>\n",
              "    </tr>\n",
              "  </tbody>\n",
              "</table>\n",
              "<p>45431 rows × 22 columns</p>\n",
              "</div>"
            ],
            "text/plain": [
              "              Country   Age  ... YearsCodePro  YearsCode   \n",
              "3             Albania  25.0  ...           4.0          4.0\n",
              "4       United States  31.0  ...           8.0          8.0\n",
              "7       United States  36.0  ...          13.0         13.0\n",
              "8             Tunisia  30.0  ...           4.0          4.0\n",
              "9      United Kingdom  22.0  ...           4.0          4.0\n",
              "...               ...   ...  ...           ...          ...\n",
              "64426           Spain  22.0  ...           NaN          NaN\n",
              "64427          Brazil  34.0  ...          14.0         14.0\n",
              "64430          Israel  38.0  ...           NaN          NaN\n",
              "64433          France  64.0  ...           NaN          NaN\n",
              "64441          Canada  17.0  ...           NaN          NaN\n",
              "\n",
              "[45431 rows x 22 columns]"
            ]
          },
          "metadata": {},
          "execution_count": 117
        }
      ]
    },
    {
      "cell_type": "code",
      "metadata": {
        "colab": {
          "base_uri": "https://localhost:8080/"
        },
        "id": "5viCoNf2T_0T",
        "outputId": "82c2ebd6-aa87-4c57-ad70-1a0b484cd4cf"
      },
      "source": [
        "survey.query('Age>100').shape[0]"
      ],
      "execution_count": null,
      "outputs": [
        {
          "output_type": "execute_result",
          "data": {
            "text/plain": [
              "1"
            ]
          },
          "metadata": {},
          "execution_count": 118
        }
      ]
    },
    {
      "cell_type": "code",
      "metadata": {
        "colab": {
          "base_uri": "https://localhost:8080/"
        },
        "id": "876znv8kT_yH",
        "outputId": "48d226d8-b11f-44d8-93f7-ea9fd30636a4"
      },
      "source": [
        "print(survey.shape[0])\n",
        "survey.drop(survey[survey[\"Age\"]<10].index,inplace=True)"
      ],
      "execution_count": null,
      "outputs": [
        {
          "output_type": "stream",
          "text": [
            "64461\n"
          ],
          "name": "stdout"
        }
      ]
    },
    {
      "cell_type": "code",
      "metadata": {
        "colab": {
          "base_uri": "https://localhost:8080/"
        },
        "id": "D-bgx4y7T_vU",
        "outputId": "e2cc540e-c266-4d86-8c17-861ea83b0bbd"
      },
      "source": [
        "print(survey.shape[0])\n",
        "survey.drop(survey[survey[\"Age\"]>100].index,inplace=True)\n",
        "print(survey.shape[0])"
      ],
      "execution_count": null,
      "outputs": [
        {
          "output_type": "stream",
          "text": [
            "64452\n",
            "64451\n"
          ],
          "name": "stdout"
        }
      ]
    },
    {
      "cell_type": "code",
      "metadata": {
        "colab": {
          "base_uri": "https://localhost:8080/"
        },
        "id": "XOzRXHV0X-Em",
        "outputId": "989a59a1-f133-4987-d242-8f1ac0bf248e"
      },
      "source": [
        "survey[\"WorkWeekHrs\"].max()\n"
      ],
      "execution_count": null,
      "outputs": [
        {
          "output_type": "execute_result",
          "data": {
            "text/plain": [
              "475.0"
            ]
          },
          "metadata": {},
          "execution_count": 121
        }
      ]
    },
    {
      "cell_type": "code",
      "metadata": {
        "colab": {
          "base_uri": "https://localhost:8080/"
        },
        "id": "9tzHr8P9X-Cp",
        "outputId": "9bd94599-dbbf-4f06-e066-b065835b5ab5"
      },
      "source": [
        "survey.drop(survey[survey[\"WorkWeekHrs\"]>140].index,inplace=True)\n",
        "print(survey.shape[0])"
      ],
      "execution_count": null,
      "outputs": [
        {
          "output_type": "stream",
          "text": [
            "64306\n"
          ],
          "name": "stdout"
        }
      ]
    },
    {
      "cell_type": "code",
      "metadata": {
        "colab": {
          "base_uri": "https://localhost:8080/"
        },
        "id": "NDLHEZjiX9_2",
        "outputId": "9034b296-b347-4bc6-8c5b-3fe7ca8ca934"
      },
      "source": [
        "survey.shape"
      ],
      "execution_count": null,
      "outputs": [
        {
          "output_type": "execute_result",
          "data": {
            "text/plain": [
              "(64306, 22)"
            ]
          },
          "metadata": {},
          "execution_count": 123
        }
      ]
    },
    {
      "cell_type": "code",
      "metadata": {
        "colab": {
          "base_uri": "https://localhost:8080/"
        },
        "id": "Is2QhUF2Y2eQ",
        "outputId": "2184fa90-f103-4118-b8b9-83cfea78e0c6"
      },
      "source": [
        "survey[\"Gender\"].value_counts()"
      ],
      "execution_count": null,
      "outputs": [
        {
          "output_type": "execute_result",
          "data": {
            "text/plain": [
              "Man                                                            45895\n",
              "Woman                                                           3835\n",
              "Non-binary, genderqueer, or gender non-conforming                385\n",
              "Man;Non-binary, genderqueer, or gender non-conforming            121\n",
              "Woman;Non-binary, genderqueer, or gender non-conforming           92\n",
              "Woman;Man                                                         73\n",
              "Woman;Man;Non-binary, genderqueer, or gender non-conforming       25\n",
              "Name: Gender, dtype: int64"
            ]
          },
          "metadata": {},
          "execution_count": 124
        }
      ]
    },
    {
      "cell_type": "code",
      "metadata": {
        "id": "Iilq454mY2cO"
      },
      "source": [
        "survey.where(~(survey[\"Gender\"].str.contains(';',na=False)),np.nan,inplace=True)"
      ],
      "execution_count": null,
      "outputs": []
    },
    {
      "cell_type": "code",
      "metadata": {
        "colab": {
          "base_uri": "https://localhost:8080/"
        },
        "id": "6aiPq8YSY2ab",
        "outputId": "c2b47149-a893-44a2-f212-5e5d7dfe1abd"
      },
      "source": [
        "survey[\"Gender\"].value_counts(dropna=False)"
      ],
      "execution_count": null,
      "outputs": [
        {
          "output_type": "execute_result",
          "data": {
            "text/plain": [
              "Man                                                  45895\n",
              "NaN                                                  14191\n",
              "Woman                                                 3835\n",
              "Non-binary, genderqueer, or gender non-conforming      385\n",
              "Name: Gender, dtype: int64"
            ]
          },
          "metadata": {},
          "execution_count": 126
        }
      ]
    },
    {
      "cell_type": "code",
      "metadata": {
        "colab": {
          "base_uri": "https://localhost:8080/",
          "height": 1000
        },
        "id": "s3UoV20MY2X5",
        "outputId": "0091b8a5-f43c-4009-c81a-b4c3b981aa4e"
      },
      "source": [
        "survey.sample(10)"
      ],
      "execution_count": null,
      "outputs": [
        {
          "output_type": "execute_result",
          "data": {
            "text/html": [
              "<div>\n",
              "<style scoped>\n",
              "    .dataframe tbody tr th:only-of-type {\n",
              "        vertical-align: middle;\n",
              "    }\n",
              "\n",
              "    .dataframe tbody tr th {\n",
              "        vertical-align: top;\n",
              "    }\n",
              "\n",
              "    .dataframe thead th {\n",
              "        text-align: right;\n",
              "    }\n",
              "</style>\n",
              "<table border=\"1\" class=\"dataframe\">\n",
              "  <thead>\n",
              "    <tr style=\"text-align: right;\">\n",
              "      <th></th>\n",
              "      <th>Country</th>\n",
              "      <th>Age</th>\n",
              "      <th>Gender</th>\n",
              "      <th>EdLevel</th>\n",
              "      <th>UndergradMajor</th>\n",
              "      <th>Hobbyist</th>\n",
              "      <th>Age1stCode</th>\n",
              "      <th>YearsCode</th>\n",
              "      <th>YearsCodePro</th>\n",
              "      <th>LanguageWorkedWith</th>\n",
              "      <th>LanguageDesireNextYear</th>\n",
              "      <th>NEWLearn</th>\n",
              "      <th>NEWStuck</th>\n",
              "      <th>Employment</th>\n",
              "      <th>DevType</th>\n",
              "      <th>WorkWeekHrs</th>\n",
              "      <th>JobSat</th>\n",
              "      <th>JobFactors</th>\n",
              "      <th>NEWOvertime</th>\n",
              "      <th>NEWEdImpt</th>\n",
              "      <th>YearsCodePro</th>\n",
              "      <th>YearsCode</th>\n",
              "    </tr>\n",
              "  </thead>\n",
              "  <tbody>\n",
              "    <tr>\n",
              "      <th>63590</th>\n",
              "      <td>Colombia</td>\n",
              "      <td>NaN</td>\n",
              "      <td>NaN</td>\n",
              "      <td>NaN</td>\n",
              "      <td>NaN</td>\n",
              "      <td>Yes</td>\n",
              "      <td>NaN</td>\n",
              "      <td>NaN</td>\n",
              "      <td>NaN</td>\n",
              "      <td>NaN</td>\n",
              "      <td>NaN</td>\n",
              "      <td>NaN</td>\n",
              "      <td>NaN</td>\n",
              "      <td>Employed full-time</td>\n",
              "      <td>NaN</td>\n",
              "      <td>NaN</td>\n",
              "      <td>NaN</td>\n",
              "      <td>NaN</td>\n",
              "      <td>NaN</td>\n",
              "      <td>NaN</td>\n",
              "      <td>NaN</td>\n",
              "      <td>NaN</td>\n",
              "    </tr>\n",
              "    <tr>\n",
              "      <th>47091</th>\n",
              "      <td>United Kingdom</td>\n",
              "      <td>63.0</td>\n",
              "      <td>Man</td>\n",
              "      <td>Bachelor’s degree (B.A., B.S., B.Eng., etc.)</td>\n",
              "      <td>Another engineering discipline (such as civil,...</td>\n",
              "      <td>No</td>\n",
              "      <td>19.0</td>\n",
              "      <td>44</td>\n",
              "      <td>37</td>\n",
              "      <td>JavaScript;SQL</td>\n",
              "      <td>NaN</td>\n",
              "      <td>Once a year</td>\n",
              "      <td>Visit Stack Overflow;Go for a walk or other ph...</td>\n",
              "      <td>Independent contractor, freelancer, or self-em...</td>\n",
              "      <td>Data or business analyst;Database administrato...</td>\n",
              "      <td>48.0</td>\n",
              "      <td>Very satisfied</td>\n",
              "      <td>Languages, frameworks, and other technologies ...</td>\n",
              "      <td>Often: 1-2 days per week or more</td>\n",
              "      <td>Not at all important/not necessary</td>\n",
              "      <td>37.0</td>\n",
              "      <td>37.0</td>\n",
              "    </tr>\n",
              "    <tr>\n",
              "      <th>6861</th>\n",
              "      <td>United States</td>\n",
              "      <td>36.0</td>\n",
              "      <td>Man</td>\n",
              "      <td>Bachelor’s degree (B.A., B.S., B.Eng., etc.)</td>\n",
              "      <td>Computer science, computer engineering, or sof...</td>\n",
              "      <td>Yes</td>\n",
              "      <td>16.0</td>\n",
              "      <td>20</td>\n",
              "      <td>14</td>\n",
              "      <td>Go;JavaScript;TypeScript</td>\n",
              "      <td>NaN</td>\n",
              "      <td>Once every few years</td>\n",
              "      <td>Play games;Go for a walk or other physical act...</td>\n",
              "      <td>Employed full-time</td>\n",
              "      <td>Developer, front-end;Developer, full-stack;Dev...</td>\n",
              "      <td>38.0</td>\n",
              "      <td>Very satisfied</td>\n",
              "      <td>Flex time or a flexible schedule;Specific depa...</td>\n",
              "      <td>Never</td>\n",
              "      <td>Fairly important</td>\n",
              "      <td>14.0</td>\n",
              "      <td>14.0</td>\n",
              "    </tr>\n",
              "    <tr>\n",
              "      <th>34685</th>\n",
              "      <td>Australia</td>\n",
              "      <td>24.0</td>\n",
              "      <td>Man</td>\n",
              "      <td>Bachelor’s degree (B.A., B.S., B.Eng., etc.)</td>\n",
              "      <td>Computer science, computer engineering, or sof...</td>\n",
              "      <td>Yes</td>\n",
              "      <td>13.0</td>\n",
              "      <td>8</td>\n",
              "      <td>4</td>\n",
              "      <td>Bash/Shell/PowerShell;C#;HTML/CSS;Java;JavaScr...</td>\n",
              "      <td>Bash/Shell/PowerShell;C#;HTML/CSS;JavaScript;R...</td>\n",
              "      <td>Every few months</td>\n",
              "      <td>Visit Stack Overflow;Go for a walk or other ph...</td>\n",
              "      <td>Independent contractor, freelancer, or self-em...</td>\n",
              "      <td>Database administrator;Developer, back-end;Dev...</td>\n",
              "      <td>60.0</td>\n",
              "      <td>Very satisfied</td>\n",
              "      <td>Languages, frameworks, and other technologies ...</td>\n",
              "      <td>Often: 1-2 days per week or more</td>\n",
              "      <td>Fairly important</td>\n",
              "      <td>4.0</td>\n",
              "      <td>4.0</td>\n",
              "    </tr>\n",
              "    <tr>\n",
              "      <th>38655</th>\n",
              "      <td>Ukraine</td>\n",
              "      <td>NaN</td>\n",
              "      <td>NaN</td>\n",
              "      <td>NaN</td>\n",
              "      <td>NaN</td>\n",
              "      <td>Yes</td>\n",
              "      <td>NaN</td>\n",
              "      <td>NaN</td>\n",
              "      <td>NaN</td>\n",
              "      <td>C;C#;C++;Python;SQL;VBA</td>\n",
              "      <td>Java;JavaScript;Objective-C</td>\n",
              "      <td>Once every few years</td>\n",
              "      <td>Call a coworker or friend;Visit Stack Overflow</td>\n",
              "      <td>Employed full-time</td>\n",
              "      <td>NaN</td>\n",
              "      <td>NaN</td>\n",
              "      <td>NaN</td>\n",
              "      <td>NaN</td>\n",
              "      <td>NaN</td>\n",
              "      <td>NaN</td>\n",
              "      <td>NaN</td>\n",
              "      <td>NaN</td>\n",
              "    </tr>\n",
              "    <tr>\n",
              "      <th>11160</th>\n",
              "      <td>Finland</td>\n",
              "      <td>30.0</td>\n",
              "      <td>Man</td>\n",
              "      <td>Master’s degree (M.A., M.S., M.Eng., MBA, etc.)</td>\n",
              "      <td>Fine arts or performing arts (such as graphic ...</td>\n",
              "      <td>Yes</td>\n",
              "      <td>23.0</td>\n",
              "      <td>7</td>\n",
              "      <td>NaN</td>\n",
              "      <td>HTML/CSS;JavaScript;Python;Scala;SQL</td>\n",
              "      <td>C;C#;C++;Go;HTML/CSS;JavaScript;Python;Scala;SQL</td>\n",
              "      <td>Once a year</td>\n",
              "      <td>Meditate;Visit Stack Overflow;Go for a walk or...</td>\n",
              "      <td>Student</td>\n",
              "      <td>NaN</td>\n",
              "      <td>NaN</td>\n",
              "      <td>NaN</td>\n",
              "      <td>Flex time or a flexible schedule;Office enviro...</td>\n",
              "      <td>NaN</td>\n",
              "      <td>NaN</td>\n",
              "      <td>NaN</td>\n",
              "      <td>NaN</td>\n",
              "    </tr>\n",
              "    <tr>\n",
              "      <th>8231</th>\n",
              "      <td>India</td>\n",
              "      <td>22.0</td>\n",
              "      <td>Man</td>\n",
              "      <td>Bachelor’s degree (B.A., B.S., B.Eng., etc.)</td>\n",
              "      <td>Web development or web design</td>\n",
              "      <td>Yes</td>\n",
              "      <td>12.0</td>\n",
              "      <td>10</td>\n",
              "      <td>5</td>\n",
              "      <td>JavaScript;PHP</td>\n",
              "      <td>Dart;HTML/CSS;JavaScript;PHP;TypeScript</td>\n",
              "      <td>Every few months</td>\n",
              "      <td>Visit Stack Overflow</td>\n",
              "      <td>Independent contractor, freelancer, or self-em...</td>\n",
              "      <td>Designer;Developer, back-end;Developer, deskto...</td>\n",
              "      <td>7.0</td>\n",
              "      <td>Very dissatisfied</td>\n",
              "      <td>Languages, frameworks, and other technologies ...</td>\n",
              "      <td>Sometimes: 1-2 days per month but less than we...</td>\n",
              "      <td>Fairly important</td>\n",
              "      <td>5.0</td>\n",
              "      <td>5.0</td>\n",
              "    </tr>\n",
              "    <tr>\n",
              "      <th>6910</th>\n",
              "      <td>India</td>\n",
              "      <td>24.0</td>\n",
              "      <td>Man</td>\n",
              "      <td>Bachelor’s degree (B.A., B.S., B.Eng., etc.)</td>\n",
              "      <td>Computer science, computer engineering, or sof...</td>\n",
              "      <td>No</td>\n",
              "      <td>18.0</td>\n",
              "      <td>7</td>\n",
              "      <td>2</td>\n",
              "      <td>Go;JavaScript</td>\n",
              "      <td>Go;JavaScript</td>\n",
              "      <td>Once every few years</td>\n",
              "      <td>Call a coworker or friend;Visit Stack Overflow...</td>\n",
              "      <td>Employed full-time</td>\n",
              "      <td>Developer, back-end</td>\n",
              "      <td>45.0</td>\n",
              "      <td>Slightly satisfied</td>\n",
              "      <td>Languages, frameworks, and other technologies ...</td>\n",
              "      <td>Occasionally: 1-2 days per quarter but less th...</td>\n",
              "      <td>Fairly important</td>\n",
              "      <td>2.0</td>\n",
              "      <td>2.0</td>\n",
              "    </tr>\n",
              "    <tr>\n",
              "      <th>31801</th>\n",
              "      <td>France</td>\n",
              "      <td>29.0</td>\n",
              "      <td>Man</td>\n",
              "      <td>Master’s degree (M.A., M.S., M.Eng., MBA, etc.)</td>\n",
              "      <td>Computer science, computer engineering, or sof...</td>\n",
              "      <td>Yes</td>\n",
              "      <td>17.0</td>\n",
              "      <td>7</td>\n",
              "      <td>4</td>\n",
              "      <td>Scala;SQL</td>\n",
              "      <td>Haskell;Scala;SQL</td>\n",
              "      <td>Once every few years</td>\n",
              "      <td>Visit Stack Overflow;Go for a walk or other ph...</td>\n",
              "      <td>Employed full-time</td>\n",
              "      <td>Database administrator;Developer, back-end</td>\n",
              "      <td>38.0</td>\n",
              "      <td>Very satisfied</td>\n",
              "      <td>Industry that I’d be working in;Flex time or a...</td>\n",
              "      <td>Rarely: 1-2 days per year or less</td>\n",
              "      <td>Very important</td>\n",
              "      <td>4.0</td>\n",
              "      <td>4.0</td>\n",
              "    </tr>\n",
              "    <tr>\n",
              "      <th>45171</th>\n",
              "      <td>Serbia</td>\n",
              "      <td>45.0</td>\n",
              "      <td>Man</td>\n",
              "      <td>Some college/university study without earning ...</td>\n",
              "      <td>Computer science, computer engineering, or sof...</td>\n",
              "      <td>Yes</td>\n",
              "      <td>11.0</td>\n",
              "      <td>34</td>\n",
              "      <td>20</td>\n",
              "      <td>C#;HTML/CSS;JavaScript;SQL;TypeScript</td>\n",
              "      <td>C#;Go;JavaScript;TypeScript</td>\n",
              "      <td>Once a year</td>\n",
              "      <td>Visit Stack Overflow</td>\n",
              "      <td>Employed full-time</td>\n",
              "      <td>Developer, desktop or enterprise applications;...</td>\n",
              "      <td>9.0</td>\n",
              "      <td>Slightly dissatisfied</td>\n",
              "      <td>Industry that I’d be working in;Opportunities ...</td>\n",
              "      <td>Sometimes: 1-2 days per month but less than we...</td>\n",
              "      <td>Fairly important</td>\n",
              "      <td>20.0</td>\n",
              "      <td>20.0</td>\n",
              "    </tr>\n",
              "  </tbody>\n",
              "</table>\n",
              "</div>"
            ],
            "text/plain": [
              "              Country   Age  ... YearsCodePro  YearsCode   \n",
              "63590        Colombia   NaN  ...           NaN          NaN\n",
              "47091  United Kingdom  63.0  ...          37.0         37.0\n",
              "6861    United States  36.0  ...          14.0         14.0\n",
              "34685       Australia  24.0  ...           4.0          4.0\n",
              "38655         Ukraine   NaN  ...           NaN          NaN\n",
              "11160         Finland  30.0  ...           NaN          NaN\n",
              "8231            India  22.0  ...           5.0          5.0\n",
              "6910            India  24.0  ...           2.0          2.0\n",
              "31801          France  29.0  ...           4.0          4.0\n",
              "45171          Serbia  45.0  ...          20.0         20.0\n",
              "\n",
              "[10 rows x 22 columns]"
            ]
          },
          "metadata": {},
          "execution_count": 127
        }
      ]
    },
    {
      "cell_type": "markdown",
      "metadata": {
        "id": "mrulmDT2l6_3"
      },
      "source": [
        "### Exploration Data Analysis"
      ]
    },
    {
      "cell_type": "code",
      "metadata": {
        "colab": {
          "base_uri": "https://localhost:8080/"
        },
        "id": "yBjdR23fm5B5",
        "outputId": "d4971af9-4487-47eb-f088-1fc00dc43801"
      },
      "source": [
        "help(sns.set_style)"
      ],
      "execution_count": null,
      "outputs": [
        {
          "output_type": "stream",
          "text": [
            "Help on function set_style in module seaborn.rcmod:\n",
            "\n",
            "set_style(style=None, rc=None)\n",
            "    Set the aesthetic style of the plots.\n",
            "    \n",
            "    This affects things like the color of the axes, whether a grid is\n",
            "    enabled by default, and other aesthetic elements.\n",
            "    \n",
            "    Parameters\n",
            "    ----------\n",
            "    style : dict, None, or one of {darkgrid, whitegrid, dark, white, ticks}\n",
            "        A dictionary of parameters or the name of a preconfigured set.\n",
            "    rc : dict, optional\n",
            "        Parameter mappings to override the values in the preset seaborn\n",
            "        style dictionaries. This only updates parameters that are\n",
            "        considered part of the style definition.\n",
            "    \n",
            "    Examples\n",
            "    --------\n",
            "    >>> set_style(\"whitegrid\")\n",
            "    \n",
            "    >>> set_style(\"ticks\", {\"xtick.major.size\": 8, \"ytick.major.size\": 8})\n",
            "    \n",
            "    See Also\n",
            "    --------\n",
            "    axes_style : return a dict of parameters or use in a ``with`` statement\n",
            "                 to temporarily set the style.\n",
            "    set_context : set parameters to scale plot elements\n",
            "    set_palette : set the default color palette for figures\n",
            "\n"
          ],
          "name": "stdout"
        }
      ]
    },
    {
      "cell_type": "code",
      "metadata": {
        "colab": {
          "base_uri": "https://localhost:8080/"
        },
        "id": "GRns-76emoyN",
        "outputId": "113df296-3c23-4207-fee6-0e8c51ae0b54"
      },
      "source": [
        "survey.Country.nunique"
      ],
      "execution_count": null,
      "outputs": [
        {
          "output_type": "execute_result",
          "data": {
            "text/plain": [
              "<bound method IndexOpsMixin.nunique of 0                   Germany\n",
              "1            United Kingdom\n",
              "2        Russian Federation\n",
              "3                   Albania\n",
              "4             United States\n",
              "                ...        \n",
              "64456         United States\n",
              "64457               Morocco\n",
              "64458              Viet Nam\n",
              "64459                Poland\n",
              "64460                 Spain\n",
              "Name: Country, Length: 64306, dtype: object>"
            ]
          },
          "metadata": {},
          "execution_count": 129
        }
      ]
    },
    {
      "cell_type": "code",
      "metadata": {
        "id": "dlz5dowEadqM"
      },
      "source": [
        "import matplotlib\n",
        "sns.set_style(\"darkgrid\")\n",
        "matplotlib.rcParams['font.size']=14\n",
        "matplotlib.rcParams['figure.figsize']=(9,5)\n",
        "matplotlib.rcParams['figure.facecolor']=\"#00000000\"\n"
      ],
      "execution_count": null,
      "outputs": []
    },
    {
      "cell_type": "markdown",
      "metadata": {
        "id": "QrAY5ZxYn9rs"
      },
      "source": [
        "### Country Analysis"
      ]
    },
    {
      "cell_type": "code",
      "metadata": {
        "id": "Dz5Rnuikadm-",
        "colab": {
          "base_uri": "https://localhost:8080/"
        },
        "outputId": "20c31d55-ef5d-4522-d71a-be96b0bdbb88"
      },
      "source": [
        "top_countries=survey[\"Country\"].value_counts().head(15)\n",
        "top_countries\n"
      ],
      "execution_count": null,
      "outputs": [
        {
          "output_type": "execute_result",
          "data": {
            "text/plain": [
              "United States         12371\n",
              "India                  8364\n",
              "United Kingdom         3881\n",
              "Germany                3864\n",
              "Canada                 2175\n",
              "France                 1884\n",
              "Brazil                 1804\n",
              "Netherlands            1332\n",
              "Poland                 1259\n",
              "Australia              1199\n",
              "Spain                  1157\n",
              "Italy                  1115\n",
              "Russian Federation     1085\n",
              "Sweden                  879\n",
              "Pakistan                802\n",
              "Name: Country, dtype: int64"
            ]
          },
          "metadata": {},
          "execution_count": 141
        }
      ]
    },
    {
      "cell_type": "code",
      "metadata": {
        "id": "tKM2B70dadkU",
        "colab": {
          "base_uri": "https://localhost:8080/",
          "height": 423
        },
        "outputId": "c5cd174c-766f-4a30-e9fd-38bfbd10fba7"
      },
      "source": [
        "plt.figure(figsize=(12,6))\n",
        "sns.barplot(x=top_countries.index,y=top_countries)\n",
        "plt.xticks(rotation=80)\n",
        "\n",
        "plt.show()"
      ],
      "execution_count": null,
      "outputs": [
        {
          "output_type": "display_data",
          "data": {
            "image/png": "[encoded data removed]",
            "text/plain": [
              "<Figure size 864x432 with 1 Axes>"
            ]
          },
          "metadata": {
            "needs_background": "light"
          }
        }
      ]
    },
    {
      "cell_type": "code",
      "metadata": {
        "id": "Luc9cBy3adhc",
        "colab": {
          "base_uri": "https://localhost:8080/"
        },
        "outputId": "7f226d46-63a0-49a0-82d2-1f655fe563ec"
      },
      "source": [
        "lowest_countries=survey[\"Country\"].value_counts().tail(15)\n",
        "lowest_countries\n"
      ],
      "execution_count": null,
      "outputs": [
        {
          "output_type": "execute_result",
          "data": {
            "text/plain": [
              "Solomon Islands                       2\n",
              "Antigua and Barbuda                   1\n",
              "Nauru                                 1\n",
              "Kiribati                              1\n",
              "Marshall Islands                      1\n",
              "Mali                                  1\n",
              "Liechtenstein                         1\n",
              "Fiji                                  1\n",
              "Lesotho                               1\n",
              "Chad                                  1\n",
              "Gabon                                 1\n",
              "Grenada                               1\n",
              "North Korea                           1\n",
              "Saint Lucia                           1\n",
              "Micronesia, Federated States of...    1\n",
              "Name: Country, dtype: int64"
            ]
          },
          "metadata": {},
          "execution_count": 149
        }
      ]
    },
    {
      "cell_type": "code",
      "metadata": {
        "id": "tyZTOiNVade1",
        "colab": {
          "base_uri": "https://localhost:8080/",
          "height": 507
        },
        "outputId": "0eb38afe-89e7-4a93-fd3c-741487964c04"
      },
      "source": [
        "plt.figure(figsize=(12,6))\n",
        "sns.barplot(x=lowest_countries.index,y=lowest_countries)\n",
        "plt.xticks(rotation=80)\n",
        "\n",
        "plt.show()"
      ],
      "execution_count": null,
      "outputs": [
        {
          "output_type": "display_data",
          "data": {
            "image/png": "[encoded data removed]",
            "text/plain": [
              "<Figure size 864x432 with 1 Axes>"
            ]
          },
          "metadata": {
            "needs_background": "light"
          }
        }
      ]
    },
    {
      "cell_type": "markdown",
      "metadata": {
        "id": "OOXU_onSqvQW"
      },
      "source": [
        "### Age"
      ]
    },
    {
      "cell_type": "code",
      "metadata": {
        "id": "jAbBlU2Madcr",
        "colab": {
          "base_uri": "https://localhost:8080/",
          "height": 342
        },
        "outputId": "9f81fd2a-b08a-4fd4-c5d4-70c08c08753d"
      },
      "source": [
        "plt.figure(figsize=(12,6))\n",
        "plt.hist(survey[\"Age\"], bins=np.arange(10,18,8), color=\"red\")\n",
        "plt.xlabel(\"Age\")\n",
        "plt.xlabel(\"Number of Respodents\")\n",
        "plt.show()"
      ],
      "execution_count": null,
      "outputs": [
        {
          "output_type": "display_data",
          "data": {
            "image/png": "[encoded data removed]",
            "text/plain": [
              "<Figure size 864x432 with 1 Axes>"
            ]
          },
          "metadata": {
            "needs_background": "light"
          }
        }
      ]
    },
    {
      "cell_type": "code",
      "metadata": {
        "id": "knhVDeSTadaa",
        "colab": {
          "base_uri": "https://localhost:8080/",
          "height": 359
        },
        "outputId": "646ba24d-ebe8-457d-f9cc-caa47c202ceb"
      },
      "source": [
        "survey[\"Age\"].value_counts().head(15).plot(kind=\"bar\",xlabel=\"Age\",ylabel=\"Coutry\")\n",
        "plt.show()"
      ],
      "execution_count": null,
      "outputs": [
        {
          "output_type": "display_data",
          "data": {
            "image/png": "[encoded data removed]",
            "text/plain": [
              "<Figure size 648x360 with 1 Axes>"
            ]
          },
          "metadata": {
            "needs_background": "light"
          }
        }
      ]
    },
    {
      "cell_type": "markdown",
      "metadata": {
        "id": "aUg4MbRos5D7"
      },
      "source": [
        "## Gender"
      ]
    },
    {
      "cell_type": "code",
      "metadata": {
        "id": "eZF8pJh2adXp",
        "colab": {
          "base_uri": "https://localhost:8080/"
        },
        "outputId": "6c56e9f3-2141-432c-ddec-c6c5a00fae30"
      },
      "source": [
        "survey.Gender.value_counts()"
      ],
      "execution_count": null,
      "outputs": [
        {
          "output_type": "execute_result",
          "data": {
            "text/plain": [
              "Man                                                  45895\n",
              "Woman                                                 3835\n",
              "Non-binary, genderqueer, or gender non-conforming      385\n",
              "Name: Gender, dtype: int64"
            ]
          },
          "metadata": {},
          "execution_count": 165
        }
      ]
    },
    {
      "cell_type": "code",
      "metadata": {
        "id": "Ul4YlIjTadVK"
      },
      "source": [
        ""
      ],
      "execution_count": 1,
      "outputs": []
    },
    {
      "cell_type": "code",
      "metadata": {
        "id": "Kwvn_J-gadSk"
      },
      "source": [
        ""
      ],
      "execution_count": null,
      "outputs": []
    },
    {
      "cell_type": "code",
      "metadata": {
        "id": "nv_5_leIadQJ"
      },
      "source": [
        ""
      ],
      "execution_count": null,
      "outputs": []
    },
    {
      "cell_type": "code",
      "metadata": {
        "id": "MAS1ySc5adJy"
      },
      "source": [
        ""
      ],
      "execution_count": null,
      "outputs": []
    },
    {
      "cell_type": "code",
      "metadata": {
        "id": "7WVrpvlsadHg"
      },
      "source": [
        ""
      ],
      "execution_count": null,
      "outputs": []
    },
    {
      "cell_type": "code",
      "metadata": {
        "id": "yivTBqx2adE8"
      },
      "source": [
        ""
      ],
      "execution_count": null,
      "outputs": []
    }
  ]
}