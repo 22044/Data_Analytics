{
  "nbformat": 4,
  "nbformat_minor": 0,
  "metadata": {
    "colab": {
      "name": "Dataanyalytics.ipynb",
      "provenance": [],
      "collapsed_sections": [],
      "mount_file_id": "1oQo0M8KMqbDoIJzmktMOAL7JSDyoVA81",
      "authorship_tag": "ABX9TyNbxA5qC5/+J9Fy0NLvpDvr",
      "include_colab_link": true
    },
    "kernelspec": {
      "name": "python3",
      "display_name": "Python 3"
    },
    "language_info": {
      "name": "python"
    }
  },
  "cells": [
    {
      "cell_type": "markdown",
      "metadata": {
        "id": "view-in-github",
        "colab_type": "text"
      },
      "source": [
        "<a href=\"https://colab.research.google.com/github/22044/Data_Analytics/blob/main/Dataanyalytics.ipynb\" target=\"_parent\"><img src=\"https://colab.research.google.com/assets/colab-badge.svg\" alt=\"Open In Colab\"/></a>"
      ]
    },
    {
      "cell_type": "markdown",
      "metadata": {
        "id": "LviYjjHbAkn9"
      },
      "source": [
        "### Exercise"
      ]
    },
    {
      "cell_type": "code",
      "metadata": {
        "id": "cudZMcI6oztL"
      },
      "source": [
        "import pandas as pd \n",
        "import numpy as np\n",
        "import matplotlib.pyplot as plt\n",
        "import seaborn as sns"
      ],
      "execution_count": null,
      "outputs": []
    },
    {
      "cell_type": "code",
      "metadata": {
        "colab": {
          "base_uri": "https://localhost:8080/",
          "height": 404
        },
        "id": "GqTMmkPxozrM",
        "outputId": "d6b00080-6911-48c5-8ac2-282765f7bba9"
      },
      "source": [
        "df=pd.read_csv(\"/content/drive/MyDrive/dataset/Mall_Customers.csv\")\n",
        "df"
      ],
      "execution_count": null,
      "outputs": [
        {
          "output_type": "execute_result",
          "data": {
            "text/html": [
              "<div>\n",
              "<style scoped>\n",
              "    .dataframe tbody tr th:only-of-type {\n",
              "        vertical-align: middle;\n",
              "    }\n",
              "\n",
              "    .dataframe tbody tr th {\n",
              "        vertical-align: top;\n",
              "    }\n",
              "\n",
              "    .dataframe thead th {\n",
              "        text-align: right;\n",
              "    }\n",
              "</style>\n",
              "<table border=\"1\" class=\"dataframe\">\n",
              "  <thead>\n",
              "    <tr style=\"text-align: right;\">\n",
              "      <th></th>\n",
              "      <th>CustomerID</th>\n",
              "      <th>Genre</th>\n",
              "      <th>Age</th>\n",
              "      <th>Annual Income (k$)</th>\n",
              "      <th>Spending Score (1-100)</th>\n",
              "    </tr>\n",
              "  </thead>\n",
              "  <tbody>\n",
              "    <tr>\n",
              "      <th>0</th>\n",
              "      <td>1</td>\n",
              "      <td>Male</td>\n",
              "      <td>19</td>\n",
              "      <td>15</td>\n",
              "      <td>39</td>\n",
              "    </tr>\n",
              "    <tr>\n",
              "      <th>1</th>\n",
              "      <td>2</td>\n",
              "      <td>Male</td>\n",
              "      <td>21</td>\n",
              "      <td>15</td>\n",
              "      <td>81</td>\n",
              "    </tr>\n",
              "    <tr>\n",
              "      <th>2</th>\n",
              "      <td>3</td>\n",
              "      <td>Female</td>\n",
              "      <td>20</td>\n",
              "      <td>16</td>\n",
              "      <td>6</td>\n",
              "    </tr>\n",
              "    <tr>\n",
              "      <th>3</th>\n",
              "      <td>4</td>\n",
              "      <td>Female</td>\n",
              "      <td>23</td>\n",
              "      <td>16</td>\n",
              "      <td>77</td>\n",
              "    </tr>\n",
              "    <tr>\n",
              "      <th>4</th>\n",
              "      <td>5</td>\n",
              "      <td>Female</td>\n",
              "      <td>31</td>\n",
              "      <td>17</td>\n",
              "      <td>40</td>\n",
              "    </tr>\n",
              "    <tr>\n",
              "      <th>...</th>\n",
              "      <td>...</td>\n",
              "      <td>...</td>\n",
              "      <td>...</td>\n",
              "      <td>...</td>\n",
              "      <td>...</td>\n",
              "    </tr>\n",
              "    <tr>\n",
              "      <th>195</th>\n",
              "      <td>196</td>\n",
              "      <td>Female</td>\n",
              "      <td>35</td>\n",
              "      <td>120</td>\n",
              "      <td>79</td>\n",
              "    </tr>\n",
              "    <tr>\n",
              "      <th>196</th>\n",
              "      <td>197</td>\n",
              "      <td>Female</td>\n",
              "      <td>45</td>\n",
              "      <td>126</td>\n",
              "      <td>28</td>\n",
              "    </tr>\n",
              "    <tr>\n",
              "      <th>197</th>\n",
              "      <td>198</td>\n",
              "      <td>Male</td>\n",
              "      <td>32</td>\n",
              "      <td>126</td>\n",
              "      <td>74</td>\n",
              "    </tr>\n",
              "    <tr>\n",
              "      <th>198</th>\n",
              "      <td>199</td>\n",
              "      <td>Male</td>\n",
              "      <td>32</td>\n",
              "      <td>137</td>\n",
              "      <td>18</td>\n",
              "    </tr>\n",
              "    <tr>\n",
              "      <th>199</th>\n",
              "      <td>200</td>\n",
              "      <td>Male</td>\n",
              "      <td>30</td>\n",
              "      <td>137</td>\n",
              "      <td>83</td>\n",
              "    </tr>\n",
              "  </tbody>\n",
              "</table>\n",
              "<p>200 rows × 5 columns</p>\n",
              "</div>"
            ],
            "text/plain": [
              "     CustomerID   Genre  Age  Annual Income (k$)  Spending Score (1-100)\n",
              "0             1    Male   19                  15                      39\n",
              "1             2    Male   21                  15                      81\n",
              "2             3  Female   20                  16                       6\n",
              "3             4  Female   23                  16                      77\n",
              "4             5  Female   31                  17                      40\n",
              "..          ...     ...  ...                 ...                     ...\n",
              "195         196  Female   35                 120                      79\n",
              "196         197  Female   45                 126                      28\n",
              "197         198    Male   32                 126                      74\n",
              "198         199    Male   32                 137                      18\n",
              "199         200    Male   30                 137                      83\n",
              "\n",
              "[200 rows x 5 columns]"
            ]
          },
          "metadata": {
            "tags": []
          },
          "execution_count": 3
        }
      ]
    },
    {
      "cell_type": "code",
      "metadata": {
        "colab": {
          "base_uri": "https://localhost:8080/",
          "height": 166
        },
        "id": "pCl9kQRGo5dH",
        "outputId": "9c665b03-c524-4189-b8ce-5fb447ea6117"
      },
      "source": [
        "df.corr()"
      ],
      "execution_count": null,
      "outputs": [
        {
          "output_type": "execute_result",
          "data": {
            "text/html": [
              "<div>\n",
              "<style scoped>\n",
              "    .dataframe tbody tr th:only-of-type {\n",
              "        vertical-align: middle;\n",
              "    }\n",
              "\n",
              "    .dataframe tbody tr th {\n",
              "        vertical-align: top;\n",
              "    }\n",
              "\n",
              "    .dataframe thead th {\n",
              "        text-align: right;\n",
              "    }\n",
              "</style>\n",
              "<table border=\"1\" class=\"dataframe\">\n",
              "  <thead>\n",
              "    <tr style=\"text-align: right;\">\n",
              "      <th></th>\n",
              "      <th>CustomerID</th>\n",
              "      <th>Age</th>\n",
              "      <th>Annual Income (k$)</th>\n",
              "      <th>Spending Score (1-100)</th>\n",
              "    </tr>\n",
              "  </thead>\n",
              "  <tbody>\n",
              "    <tr>\n",
              "      <th>CustomerID</th>\n",
              "      <td>1.000000</td>\n",
              "      <td>-0.026763</td>\n",
              "      <td>0.977548</td>\n",
              "      <td>0.013835</td>\n",
              "    </tr>\n",
              "    <tr>\n",
              "      <th>Age</th>\n",
              "      <td>-0.026763</td>\n",
              "      <td>1.000000</td>\n",
              "      <td>-0.012398</td>\n",
              "      <td>-0.327227</td>\n",
              "    </tr>\n",
              "    <tr>\n",
              "      <th>Annual Income (k$)</th>\n",
              "      <td>0.977548</td>\n",
              "      <td>-0.012398</td>\n",
              "      <td>1.000000</td>\n",
              "      <td>0.009903</td>\n",
              "    </tr>\n",
              "    <tr>\n",
              "      <th>Spending Score (1-100)</th>\n",
              "      <td>0.013835</td>\n",
              "      <td>-0.327227</td>\n",
              "      <td>0.009903</td>\n",
              "      <td>1.000000</td>\n",
              "    </tr>\n",
              "  </tbody>\n",
              "</table>\n",
              "</div>"
            ],
            "text/plain": [
              "                        CustomerID  ...  Spending Score (1-100)\n",
              "CustomerID                1.000000  ...                0.013835\n",
              "Age                      -0.026763  ...               -0.327227\n",
              "Annual Income (k$)        0.977548  ...                0.009903\n",
              "Spending Score (1-100)    0.013835  ...                1.000000\n",
              "\n",
              "[4 rows x 4 columns]"
            ]
          },
          "metadata": {
            "tags": []
          },
          "execution_count": 4
        }
      ]
    },
    {
      "cell_type": "code",
      "metadata": {
        "colab": {
          "base_uri": "https://localhost:8080/"
        },
        "id": "ApCMh6oao-gC",
        "outputId": "9fd643a5-5f09-4ad1-9f2a-d11ec4b1ce2f"
      },
      "source": [
        "df.isnull().sum()"
      ],
      "execution_count": null,
      "outputs": [
        {
          "output_type": "execute_result",
          "data": {
            "text/plain": [
              "CustomerID                0\n",
              "Genre                     0\n",
              "Age                       0\n",
              "Annual Income (k$)        0\n",
              "Spending Score (1-100)    0\n",
              "dtype: int64"
            ]
          },
          "metadata": {
            "tags": []
          },
          "execution_count": 5
        }
      ]
    },
    {
      "cell_type": "code",
      "metadata": {
        "colab": {
          "base_uri": "https://localhost:8080/",
          "height": 196
        },
        "id": "2Eqd1M0kozos",
        "outputId": "1d0f8eef-049c-42db-cd7f-ea7336b36cd8"
      },
      "source": [
        "df.drop('Genre',axis=1,inplace=True)\n",
        "df.head()"
      ],
      "execution_count": null,
      "outputs": [
        {
          "output_type": "execute_result",
          "data": {
            "text/html": [
              "<div>\n",
              "<style scoped>\n",
              "    .dataframe tbody tr th:only-of-type {\n",
              "        vertical-align: middle;\n",
              "    }\n",
              "\n",
              "    .dataframe tbody tr th {\n",
              "        vertical-align: top;\n",
              "    }\n",
              "\n",
              "    .dataframe thead th {\n",
              "        text-align: right;\n",
              "    }\n",
              "</style>\n",
              "<table border=\"1\" class=\"dataframe\">\n",
              "  <thead>\n",
              "    <tr style=\"text-align: right;\">\n",
              "      <th></th>\n",
              "      <th>CustomerID</th>\n",
              "      <th>Age</th>\n",
              "      <th>Annual Income (k$)</th>\n",
              "      <th>Spending Score (1-100)</th>\n",
              "    </tr>\n",
              "  </thead>\n",
              "  <tbody>\n",
              "    <tr>\n",
              "      <th>0</th>\n",
              "      <td>1</td>\n",
              "      <td>19</td>\n",
              "      <td>15</td>\n",
              "      <td>39</td>\n",
              "    </tr>\n",
              "    <tr>\n",
              "      <th>1</th>\n",
              "      <td>2</td>\n",
              "      <td>21</td>\n",
              "      <td>15</td>\n",
              "      <td>81</td>\n",
              "    </tr>\n",
              "    <tr>\n",
              "      <th>2</th>\n",
              "      <td>3</td>\n",
              "      <td>20</td>\n",
              "      <td>16</td>\n",
              "      <td>6</td>\n",
              "    </tr>\n",
              "    <tr>\n",
              "      <th>3</th>\n",
              "      <td>4</td>\n",
              "      <td>23</td>\n",
              "      <td>16</td>\n",
              "      <td>77</td>\n",
              "    </tr>\n",
              "    <tr>\n",
              "      <th>4</th>\n",
              "      <td>5</td>\n",
              "      <td>31</td>\n",
              "      <td>17</td>\n",
              "      <td>40</td>\n",
              "    </tr>\n",
              "  </tbody>\n",
              "</table>\n",
              "</div>"
            ],
            "text/plain": [
              "   CustomerID  Age  Annual Income (k$)  Spending Score (1-100)\n",
              "0           1   19                  15                      39\n",
              "1           2   21                  15                      81\n",
              "2           3   20                  16                       6\n",
              "3           4   23                  16                      77\n",
              "4           5   31                  17                      40"
            ]
          },
          "metadata": {
            "tags": []
          },
          "execution_count": 6
        }
      ]
    },
    {
      "cell_type": "code",
      "metadata": {
        "id": "AMCzqO0Lozma",
        "colab": {
          "base_uri": "https://localhost:8080/",
          "height": 545
        },
        "outputId": "465c1d07-4eb4-4892-e632-3e9c9869cf46"
      },
      "source": [
        "plt.figure(figsize=(12,8))\n",
        "sns.heatmap(df.corr(),annot=True,cmap='binary')"
      ],
      "execution_count": null,
      "outputs": [
        {
          "output_type": "execute_result",
          "data": {
            "text/plain": [
              "<matplotlib.axes._subplots.AxesSubplot at 0x7f49a7055ad0>"
            ]
          },
          "metadata": {
            "tags": []
          },
          "execution_count": 7
        },
        {
          "output_type": "display_data",
          "data": {
            "image/png": "[encoded data removed]",
            "text/plain": [
              "<Figure size 864x576 with 2 Axes>"
            ]
          },
          "metadata": {
            "tags": [],
            "needs_background": "light"
          }
        }
      ]
    },
    {
      "cell_type": "code",
      "metadata": {
        "id": "5MnZlMYXozkX",
        "colab": {
          "base_uri": "https://localhost:8080/"
        },
        "outputId": "42e470a9-359a-45c7-9e91-bc1978853b60"
      },
      "source": [
        "df.shape"
      ],
      "execution_count": null,
      "outputs": [
        {
          "output_type": "execute_result",
          "data": {
            "text/plain": [
              "(200, 4)"
            ]
          },
          "metadata": {
            "tags": []
          },
          "execution_count": 8
        }
      ]
    },
    {
      "cell_type": "code",
      "metadata": {
        "id": "pSoYhP10oziH",
        "colab": {
          "base_uri": "https://localhost:8080/",
          "height": 286
        },
        "outputId": "a7f55de9-f04d-4c52-f8b7-1a841a7450e5"
      },
      "source": [
        "df.describe()"
      ],
      "execution_count": null,
      "outputs": [
        {
          "output_type": "execute_result",
          "data": {
            "text/html": [
              "<div>\n",
              "<style scoped>\n",
              "    .dataframe tbody tr th:only-of-type {\n",
              "        vertical-align: middle;\n",
              "    }\n",
              "\n",
              "    .dataframe tbody tr th {\n",
              "        vertical-align: top;\n",
              "    }\n",
              "\n",
              "    .dataframe thead th {\n",
              "        text-align: right;\n",
              "    }\n",
              "</style>\n",
              "<table border=\"1\" class=\"dataframe\">\n",
              "  <thead>\n",
              "    <tr style=\"text-align: right;\">\n",
              "      <th></th>\n",
              "      <th>CustomerID</th>\n",
              "      <th>Age</th>\n",
              "      <th>Annual Income (k$)</th>\n",
              "      <th>Spending Score (1-100)</th>\n",
              "    </tr>\n",
              "  </thead>\n",
              "  <tbody>\n",
              "    <tr>\n",
              "      <th>count</th>\n",
              "      <td>200.000000</td>\n",
              "      <td>200.000000</td>\n",
              "      <td>200.000000</td>\n",
              "      <td>200.000000</td>\n",
              "    </tr>\n",
              "    <tr>\n",
              "      <th>mean</th>\n",
              "      <td>100.500000</td>\n",
              "      <td>38.850000</td>\n",
              "      <td>60.560000</td>\n",
              "      <td>50.200000</td>\n",
              "    </tr>\n",
              "    <tr>\n",
              "      <th>std</th>\n",
              "      <td>57.879185</td>\n",
              "      <td>13.969007</td>\n",
              "      <td>26.264721</td>\n",
              "      <td>25.823522</td>\n",
              "    </tr>\n",
              "    <tr>\n",
              "      <th>min</th>\n",
              "      <td>1.000000</td>\n",
              "      <td>18.000000</td>\n",
              "      <td>15.000000</td>\n",
              "      <td>1.000000</td>\n",
              "    </tr>\n",
              "    <tr>\n",
              "      <th>25%</th>\n",
              "      <td>50.750000</td>\n",
              "      <td>28.750000</td>\n",
              "      <td>41.500000</td>\n",
              "      <td>34.750000</td>\n",
              "    </tr>\n",
              "    <tr>\n",
              "      <th>50%</th>\n",
              "      <td>100.500000</td>\n",
              "      <td>36.000000</td>\n",
              "      <td>61.500000</td>\n",
              "      <td>50.000000</td>\n",
              "    </tr>\n",
              "    <tr>\n",
              "      <th>75%</th>\n",
              "      <td>150.250000</td>\n",
              "      <td>49.000000</td>\n",
              "      <td>78.000000</td>\n",
              "      <td>73.000000</td>\n",
              "    </tr>\n",
              "    <tr>\n",
              "      <th>max</th>\n",
              "      <td>200.000000</td>\n",
              "      <td>70.000000</td>\n",
              "      <td>137.000000</td>\n",
              "      <td>99.000000</td>\n",
              "    </tr>\n",
              "  </tbody>\n",
              "</table>\n",
              "</div>"
            ],
            "text/plain": [
              "       CustomerID         Age  Annual Income (k$)  Spending Score (1-100)\n",
              "count  200.000000  200.000000          200.000000              200.000000\n",
              "mean   100.500000   38.850000           60.560000               50.200000\n",
              "std     57.879185   13.969007           26.264721               25.823522\n",
              "min      1.000000   18.000000           15.000000                1.000000\n",
              "25%     50.750000   28.750000           41.500000               34.750000\n",
              "50%    100.500000   36.000000           61.500000               50.000000\n",
              "75%    150.250000   49.000000           78.000000               73.000000\n",
              "max    200.000000   70.000000          137.000000               99.000000"
            ]
          },
          "metadata": {
            "tags": []
          },
          "execution_count": 9
        }
      ]
    },
    {
      "cell_type": "code",
      "metadata": {
        "id": "FAb60iaBozf5",
        "colab": {
          "base_uri": "https://localhost:8080/",
          "height": 404
        },
        "outputId": "ea52ea22-09a5-414e-abce-892552cf7e55"
      },
      "source": [
        "df_null=df.isnull()\n",
        "df"
      ],
      "execution_count": null,
      "outputs": [
        {
          "output_type": "execute_result",
          "data": {
            "text/html": [
              "<div>\n",
              "<style scoped>\n",
              "    .dataframe tbody tr th:only-of-type {\n",
              "        vertical-align: middle;\n",
              "    }\n",
              "\n",
              "    .dataframe tbody tr th {\n",
              "        vertical-align: top;\n",
              "    }\n",
              "\n",
              "    .dataframe thead th {\n",
              "        text-align: right;\n",
              "    }\n",
              "</style>\n",
              "<table border=\"1\" class=\"dataframe\">\n",
              "  <thead>\n",
              "    <tr style=\"text-align: right;\">\n",
              "      <th></th>\n",
              "      <th>CustomerID</th>\n",
              "      <th>Age</th>\n",
              "      <th>Annual Income (k$)</th>\n",
              "      <th>Spending Score (1-100)</th>\n",
              "    </tr>\n",
              "  </thead>\n",
              "  <tbody>\n",
              "    <tr>\n",
              "      <th>0</th>\n",
              "      <td>1</td>\n",
              "      <td>19</td>\n",
              "      <td>15</td>\n",
              "      <td>39</td>\n",
              "    </tr>\n",
              "    <tr>\n",
              "      <th>1</th>\n",
              "      <td>2</td>\n",
              "      <td>21</td>\n",
              "      <td>15</td>\n",
              "      <td>81</td>\n",
              "    </tr>\n",
              "    <tr>\n",
              "      <th>2</th>\n",
              "      <td>3</td>\n",
              "      <td>20</td>\n",
              "      <td>16</td>\n",
              "      <td>6</td>\n",
              "    </tr>\n",
              "    <tr>\n",
              "      <th>3</th>\n",
              "      <td>4</td>\n",
              "      <td>23</td>\n",
              "      <td>16</td>\n",
              "      <td>77</td>\n",
              "    </tr>\n",
              "    <tr>\n",
              "      <th>4</th>\n",
              "      <td>5</td>\n",
              "      <td>31</td>\n",
              "      <td>17</td>\n",
              "      <td>40</td>\n",
              "    </tr>\n",
              "    <tr>\n",
              "      <th>...</th>\n",
              "      <td>...</td>\n",
              "      <td>...</td>\n",
              "      <td>...</td>\n",
              "      <td>...</td>\n",
              "    </tr>\n",
              "    <tr>\n",
              "      <th>195</th>\n",
              "      <td>196</td>\n",
              "      <td>35</td>\n",
              "      <td>120</td>\n",
              "      <td>79</td>\n",
              "    </tr>\n",
              "    <tr>\n",
              "      <th>196</th>\n",
              "      <td>197</td>\n",
              "      <td>45</td>\n",
              "      <td>126</td>\n",
              "      <td>28</td>\n",
              "    </tr>\n",
              "    <tr>\n",
              "      <th>197</th>\n",
              "      <td>198</td>\n",
              "      <td>32</td>\n",
              "      <td>126</td>\n",
              "      <td>74</td>\n",
              "    </tr>\n",
              "    <tr>\n",
              "      <th>198</th>\n",
              "      <td>199</td>\n",
              "      <td>32</td>\n",
              "      <td>137</td>\n",
              "      <td>18</td>\n",
              "    </tr>\n",
              "    <tr>\n",
              "      <th>199</th>\n",
              "      <td>200</td>\n",
              "      <td>30</td>\n",
              "      <td>137</td>\n",
              "      <td>83</td>\n",
              "    </tr>\n",
              "  </tbody>\n",
              "</table>\n",
              "<p>200 rows × 4 columns</p>\n",
              "</div>"
            ],
            "text/plain": [
              "     CustomerID  Age  Annual Income (k$)  Spending Score (1-100)\n",
              "0             1   19                  15                      39\n",
              "1             2   21                  15                      81\n",
              "2             3   20                  16                       6\n",
              "3             4   23                  16                      77\n",
              "4             5   31                  17                      40\n",
              "..          ...  ...                 ...                     ...\n",
              "195         196   35                 120                      79\n",
              "196         197   45                 126                      28\n",
              "197         198   32                 126                      74\n",
              "198         199   32                 137                      18\n",
              "199         200   30                 137                      83\n",
              "\n",
              "[200 rows x 4 columns]"
            ]
          },
          "metadata": {
            "tags": []
          },
          "execution_count": 10
        }
      ]
    },
    {
      "cell_type": "code",
      "metadata": {
        "id": "quR0UGXrozdX",
        "colab": {
          "base_uri": "https://localhost:8080/",
          "height": 404
        },
        "outputId": "e07ada95-fc3b-44ed-9967-9929c8ced51e"
      },
      "source": [
        "df_notnull=df.notnull()\n",
        "df"
      ],
      "execution_count": null,
      "outputs": [
        {
          "output_type": "execute_result",
          "data": {
            "text/html": [
              "<div>\n",
              "<style scoped>\n",
              "    .dataframe tbody tr th:only-of-type {\n",
              "        vertical-align: middle;\n",
              "    }\n",
              "\n",
              "    .dataframe tbody tr th {\n",
              "        vertical-align: top;\n",
              "    }\n",
              "\n",
              "    .dataframe thead th {\n",
              "        text-align: right;\n",
              "    }\n",
              "</style>\n",
              "<table border=\"1\" class=\"dataframe\">\n",
              "  <thead>\n",
              "    <tr style=\"text-align: right;\">\n",
              "      <th></th>\n",
              "      <th>CustomerID</th>\n",
              "      <th>Age</th>\n",
              "      <th>Annual Income (k$)</th>\n",
              "      <th>Spending Score (1-100)</th>\n",
              "    </tr>\n",
              "  </thead>\n",
              "  <tbody>\n",
              "    <tr>\n",
              "      <th>0</th>\n",
              "      <td>1</td>\n",
              "      <td>19</td>\n",
              "      <td>15</td>\n",
              "      <td>39</td>\n",
              "    </tr>\n",
              "    <tr>\n",
              "      <th>1</th>\n",
              "      <td>2</td>\n",
              "      <td>21</td>\n",
              "      <td>15</td>\n",
              "      <td>81</td>\n",
              "    </tr>\n",
              "    <tr>\n",
              "      <th>2</th>\n",
              "      <td>3</td>\n",
              "      <td>20</td>\n",
              "      <td>16</td>\n",
              "      <td>6</td>\n",
              "    </tr>\n",
              "    <tr>\n",
              "      <th>3</th>\n",
              "      <td>4</td>\n",
              "      <td>23</td>\n",
              "      <td>16</td>\n",
              "      <td>77</td>\n",
              "    </tr>\n",
              "    <tr>\n",
              "      <th>4</th>\n",
              "      <td>5</td>\n",
              "      <td>31</td>\n",
              "      <td>17</td>\n",
              "      <td>40</td>\n",
              "    </tr>\n",
              "    <tr>\n",
              "      <th>...</th>\n",
              "      <td>...</td>\n",
              "      <td>...</td>\n",
              "      <td>...</td>\n",
              "      <td>...</td>\n",
              "    </tr>\n",
              "    <tr>\n",
              "      <th>195</th>\n",
              "      <td>196</td>\n",
              "      <td>35</td>\n",
              "      <td>120</td>\n",
              "      <td>79</td>\n",
              "    </tr>\n",
              "    <tr>\n",
              "      <th>196</th>\n",
              "      <td>197</td>\n",
              "      <td>45</td>\n",
              "      <td>126</td>\n",
              "      <td>28</td>\n",
              "    </tr>\n",
              "    <tr>\n",
              "      <th>197</th>\n",
              "      <td>198</td>\n",
              "      <td>32</td>\n",
              "      <td>126</td>\n",
              "      <td>74</td>\n",
              "    </tr>\n",
              "    <tr>\n",
              "      <th>198</th>\n",
              "      <td>199</td>\n",
              "      <td>32</td>\n",
              "      <td>137</td>\n",
              "      <td>18</td>\n",
              "    </tr>\n",
              "    <tr>\n",
              "      <th>199</th>\n",
              "      <td>200</td>\n",
              "      <td>30</td>\n",
              "      <td>137</td>\n",
              "      <td>83</td>\n",
              "    </tr>\n",
              "  </tbody>\n",
              "</table>\n",
              "<p>200 rows × 4 columns</p>\n",
              "</div>"
            ],
            "text/plain": [
              "     CustomerID  Age  Annual Income (k$)  Spending Score (1-100)\n",
              "0             1   19                  15                      39\n",
              "1             2   21                  15                      81\n",
              "2             3   20                  16                       6\n",
              "3             4   23                  16                      77\n",
              "4             5   31                  17                      40\n",
              "..          ...  ...                 ...                     ...\n",
              "195         196   35                 120                      79\n",
              "196         197   45                 126                      28\n",
              "197         198   32                 126                      74\n",
              "198         199   32                 137                      18\n",
              "199         200   30                 137                      83\n",
              "\n",
              "[200 rows x 4 columns]"
            ]
          },
          "metadata": {
            "tags": []
          },
          "execution_count": 11
        }
      ]
    },
    {
      "cell_type": "code",
      "metadata": {
        "id": "3q8K0dhAozbY",
        "colab": {
          "base_uri": "https://localhost:8080/"
        },
        "outputId": "27b4ad7c-a23a-4f3a-c968-9e714c5949d8"
      },
      "source": [
        "df.isna().sum()  "
      ],
      "execution_count": null,
      "outputs": [
        {
          "output_type": "execute_result",
          "data": {
            "text/plain": [
              "CustomerID                0\n",
              "Age                       0\n",
              "Annual Income (k$)        0\n",
              "Spending Score (1-100)    0\n",
              "dtype: int64"
            ]
          },
          "metadata": {
            "tags": []
          },
          "execution_count": 12
        }
      ]
    },
    {
      "cell_type": "code",
      "metadata": {
        "id": "D2yvRVhrozY3",
        "colab": {
          "base_uri": "https://localhost:8080/",
          "height": 575
        },
        "outputId": "75806018-54e7-45cd-fa0a-d361408f1d08"
      },
      "source": [
        "plt.figure(figsize=(155,10))\n",
        "plt.subplot(1,5,1)\n",
        "sns.countplot(df['Annual Income (k$)'])"
      ],
      "execution_count": null,
      "outputs": [
        {
          "output_type": "stream",
          "text": [
            "/usr/local/lib/python3.7/dist-packages/seaborn/_decorators.py:43: FutureWarning: Pass the following variable as a keyword arg: x. From version 0.12, the only valid positional argument will be `data`, and passing other arguments without an explicit keyword will result in an error or misinterpretation.\n",
            "  FutureWarning\n"
          ],
          "name": "stderr"
        },
        {
          "output_type": "execute_result",
          "data": {
            "text/plain": [
              "<matplotlib.axes._subplots.AxesSubplot at 0x7f49962ae5d0>"
            ]
          },
          "metadata": {
            "tags": []
          },
          "execution_count": 13
        },
        {
          "output_type": "display_data",
          "data": {
            "image/png": "[encoded data removed]",
            "text/plain": [
              "<Figure size 11160x720 with 1 Axes>"
            ]
          },
          "metadata": {
            "tags": [],
            "needs_background": "light"
          }
        }
      ]
    },
    {
      "cell_type": "code",
      "metadata": {
        "id": "wyf1HrOIozQp"
      },
      "source": [
        "import warnings\n",
        "warnings.filterwarnings('ignore')"
      ],
      "execution_count": null,
      "outputs": []
    },
    {
      "cell_type": "markdown",
      "metadata": {
        "id": "HoTRlhdvqg9m"
      },
      "source": [
        "### Apply One Hot Encorder"
      ]
    },
    {
      "cell_type": "code",
      "metadata": {
        "id": "vCmyG6DTqgmQ"
      },
      "source": [
        "df=pd.get_dummies(df,drop_first=True)"
      ],
      "execution_count": null,
      "outputs": []
    },
    {
      "cell_type": "code",
      "metadata": {
        "id": "hzx4zWHZoktd"
      },
      "source": [
        "x=df.iloc[:,1:].values  # starting from 1 up to end\n",
        "y=df.iloc[:,2].values"
      ],
      "execution_count": null,
      "outputs": []
    },
    {
      "cell_type": "code",
      "metadata": {
        "id": "FpCeivjnqsGI"
      },
      "source": [
        "from sklearn.model_selection import train_test_split\n",
        "x_train,x_test,y_train,y_test= train_test_split(x,y,test_size=0.3,random_state=0)"
      ],
      "execution_count": null,
      "outputs": []
    },
    {
      "cell_type": "code",
      "metadata": {
        "colab": {
          "base_uri": "https://localhost:8080/"
        },
        "id": "Ao1IxD1rqsET",
        "outputId": "dca95ee9-9788-409a-ee01-cd8a4bbd0a0f"
      },
      "source": [
        "x_train"
      ],
      "execution_count": null,
      "outputs": [
        {
          "output_type": "execute_result",
          "data": {
            "text/plain": [
              "array([[ 39,  71,  75],\n",
              "       [ 47,  60,  47],\n",
              "       [ 32,  97,  86],\n",
              "       [ 35,  23,  98],\n",
              "       [ 38,  78,  76],\n",
              "       [ 48,  60,  49],\n",
              "       [ 50,  43,  45],\n",
              "       [ 31,  81,  93],\n",
              "       [ 33,  42,  60],\n",
              "       [ 55,  57,  58],\n",
              "       [ 35,  74,  72],\n",
              "       [ 68,  59,  55],\n",
              "       [ 32,  73,  73],\n",
              "       [ 49,  62,  48],\n",
              "       [ 25,  77,  12],\n",
              "       [ 50,  58,  46],\n",
              "       [ 66,  63,  48],\n",
              "       [ 37,  20,  13],\n",
              "       [ 35,  28,  61],\n",
              "       [ 32,  75,  93],\n",
              "       [ 28, 101,  68],\n",
              "       [ 50,  40,  55],\n",
              "       [ 19,  74,  10],\n",
              "       [ 35, 120,  79],\n",
              "       [ 68,  63,  43],\n",
              "       [ 67,  47,  52],\n",
              "       [ 20,  16,   6],\n",
              "       [ 53,  46,  46],\n",
              "       [ 44,  73,   7],\n",
              "       [ 32, 126,  74],\n",
              "       [ 31,  39,  61],\n",
              "       [ 67,  19,  14],\n",
              "       [ 47, 120,  16],\n",
              "       [ 60,  50,  56],\n",
              "       [ 45, 126,  28],\n",
              "       [ 59,  93,  14],\n",
              "       [ 30,  88,  86],\n",
              "       [ 43,  71,  35],\n",
              "       [ 40,  60,  40],\n",
              "       [ 38,  64,  42],\n",
              "       [ 34,  78,   1],\n",
              "       [ 32, 103,  69],\n",
              "       [ 49,  42,  52],\n",
              "       [ 19,  15,  39],\n",
              "       [ 32,  60,  42],\n",
              "       [ 65,  63,  52],\n",
              "       [ 24,  60,  52],\n",
              "       [ 63,  48,  51],\n",
              "       [ 33,  86,  95],\n",
              "       [ 24,  38,  92],\n",
              "       [ 32,  48,  47],\n",
              "       [ 31,  40,  42],\n",
              "       [ 29,  40,  42],\n",
              "       [ 48,  54,  46],\n",
              "       [ 24,  20,  77],\n",
              "       [ 29,  79,  83],\n",
              "       [ 31,  25,  73],\n",
              "       [ 54, 101,  24],\n",
              "       [ 29,  73,  88],\n",
              "       [ 35,  24,  35],\n",
              "       [ 22,  20,  79],\n",
              "       [ 23,  54,  52],\n",
              "       [ 49,  62,  56],\n",
              "       [ 31,  43,  54],\n",
              "       [ 23,  62,  41],\n",
              "       [ 45,  54,  53],\n",
              "       [ 23,  16,  77],\n",
              "       [ 63,  65,  43],\n",
              "       [ 50,  85,  26],\n",
              "       [ 32, 137,  18],\n",
              "       [ 35,  18,   6],\n",
              "       [ 19,  48,  59],\n",
              "       [ 21,  54,  57],\n",
              "       [ 38,  67,  40],\n",
              "       [ 27,  78,  89],\n",
              "       [ 28,  87,  75],\n",
              "       [ 37,  78,   1],\n",
              "       [ 18,  59,  41],\n",
              "       [ 30, 137,  83],\n",
              "       [ 35,  19,  99],\n",
              "       [ 50,  67,  57],\n",
              "       [ 67,  62,  59],\n",
              "       [ 21,  33,  81],\n",
              "       [ 69,  44,  46],\n",
              "       [ 18,  48,  59],\n",
              "       [ 21,  15,  81],\n",
              "       [ 27,  67,  56],\n",
              "       [ 19,  81,   5],\n",
              "       [ 48,  39,  36],\n",
              "       [ 21,  62,  42],\n",
              "       [ 25,  72,  34],\n",
              "       [ 36,  87,  92],\n",
              "       [ 20,  21,  66],\n",
              "       [ 36,  37,  26],\n",
              "       [ 31,  72,  71],\n",
              "       [ 59,  43,  60],\n",
              "       [ 30,  78,  78],\n",
              "       [ 59,  71,  11],\n",
              "       [ 49,  33,  14],\n",
              "       [ 40,  29,  31],\n",
              "       [ 18,  65,  48],\n",
              "       [ 39,  78,  88],\n",
              "       [ 21,  30,  73],\n",
              "       [ 42,  86,  20],\n",
              "       [ 40,  71,  95],\n",
              "       [ 58,  88,  15],\n",
              "       [ 53,  33,   4],\n",
              "       [ 28,  76,  40],\n",
              "       [ 32,  87,  63],\n",
              "       [ 32,  77,  74],\n",
              "       [ 23,  29,  87],\n",
              "       [ 20,  61,  49],\n",
              "       [ 67,  54,  41],\n",
              "       [ 49,  54,  42],\n",
              "       [ 19,  65,  50],\n",
              "       [ 34,  78,  22],\n",
              "       [ 38, 113,  91],\n",
              "       [ 60,  50,  49],\n",
              "       [ 40,  54,  48],\n",
              "       [ 29,  28,  82],\n",
              "       [ 36,  85,  75],\n",
              "       [ 38,  54,  55],\n",
              "       [ 41, 103,  17],\n",
              "       [ 52,  88,  13],\n",
              "       [ 34, 103,  23],\n",
              "       [ 20,  37,  75],\n",
              "       [ 27,  46,  51],\n",
              "       [ 57,  75,   5],\n",
              "       [ 34,  58,  60],\n",
              "       [ 70,  49,  55],\n",
              "       [ 22,  57,  55],\n",
              "       [ 42,  34,  17],\n",
              "       [ 25,  24,  73],\n",
              "       [ 30,  19,  72],\n",
              "       [ 26,  62,  55],\n",
              "       [ 68,  48,  48],\n",
              "       [ 33, 113,   8],\n",
              "       [ 49,  65,  59],\n",
              "       [ 27,  40,  47],\n",
              "       [ 36,  87,  10]])"
            ]
          },
          "metadata": {
            "tags": []
          },
          "execution_count": 18
        }
      ]
    },
    {
      "cell_type": "code",
      "metadata": {
        "colab": {
          "base_uri": "https://localhost:8080/"
        },
        "id": "Gd7-vphVqsAi",
        "outputId": "842e4b30-cd43-410c-b2e4-408b0549cf90"
      },
      "source": [
        "y_train"
      ],
      "execution_count": null,
      "outputs": [
        {
          "output_type": "execute_result",
          "data": {
            "text/plain": [
              "array([ 71,  60,  97,  23,  78,  60,  43,  81,  42,  57,  74,  59,  73,\n",
              "        62,  77,  58,  63,  20,  28,  75, 101,  40,  74, 120,  63,  47,\n",
              "        16,  46,  73, 126,  39,  19, 120,  50, 126,  93,  88,  71,  60,\n",
              "        64,  78, 103,  42,  15,  60,  63,  60,  48,  86,  38,  48,  40,\n",
              "        40,  54,  20,  79,  25, 101,  73,  24,  20,  54,  62,  43,  62,\n",
              "        54,  16,  65,  85, 137,  18,  48,  54,  67,  78,  87,  78,  59,\n",
              "       137,  19,  67,  62,  33,  44,  48,  15,  67,  81,  39,  62,  72,\n",
              "        87,  21,  37,  72,  43,  78,  71,  33,  29,  65,  78,  30,  86,\n",
              "        71,  88,  33,  76,  87,  77,  29,  61,  54,  54,  65,  78, 113,\n",
              "        50,  54,  28,  85,  54, 103,  88, 103,  37,  46,  75,  58,  49,\n",
              "        57,  34,  24,  19,  62,  48, 113,  65,  40,  87])"
            ]
          },
          "metadata": {
            "tags": []
          },
          "execution_count": 19
        }
      ]
    },
    {
      "cell_type": "code",
      "metadata": {
        "id": "DrGdO0YCqr-C"
      },
      "source": [
        "from sklearn.preprocessing import MinMaxScaler\n",
        "sc1=MinMaxScaler()\n",
        "x_train=sc1.fit_transform(x_train)\n",
        "x_test=sc1.fit_transform(x_test)"
      ],
      "execution_count": null,
      "outputs": []
    },
    {
      "cell_type": "code",
      "metadata": {
        "colab": {
          "base_uri": "https://localhost:8080/"
        },
        "id": "PEfxJGJLsaCS",
        "outputId": "ced91e38-4bb2-4fbb-fed9-62e9d8ba0cd1"
      },
      "source": [
        "x_train"
      ],
      "execution_count": null,
      "outputs": [
        {
          "output_type": "execute_result",
          "data": {
            "text/plain": [
              "array([[0.40384615, 0.45901639, 0.75510204],\n",
              "       [0.55769231, 0.36885246, 0.46938776],\n",
              "       [0.26923077, 0.67213115, 0.86734694],\n",
              "       [0.32692308, 0.06557377, 0.98979592],\n",
              "       [0.38461538, 0.51639344, 0.76530612],\n",
              "       [0.57692308, 0.36885246, 0.48979592],\n",
              "       [0.61538462, 0.2295082 , 0.44897959],\n",
              "       [0.25      , 0.54098361, 0.93877551],\n",
              "       [0.28846154, 0.22131148, 0.60204082],\n",
              "       [0.71153846, 0.3442623 , 0.58163265],\n",
              "       [0.32692308, 0.48360656, 0.7244898 ],\n",
              "       [0.96153846, 0.36065574, 0.55102041],\n",
              "       [0.26923077, 0.47540984, 0.73469388],\n",
              "       [0.59615385, 0.3852459 , 0.47959184],\n",
              "       [0.13461538, 0.50819672, 0.1122449 ],\n",
              "       [0.61538462, 0.35245902, 0.45918367],\n",
              "       [0.92307692, 0.39344262, 0.47959184],\n",
              "       [0.36538462, 0.04098361, 0.12244898],\n",
              "       [0.32692308, 0.10655738, 0.6122449 ],\n",
              "       [0.26923077, 0.49180328, 0.93877551],\n",
              "       [0.19230769, 0.70491803, 0.68367347],\n",
              "       [0.61538462, 0.20491803, 0.55102041],\n",
              "       [0.01923077, 0.48360656, 0.09183673],\n",
              "       [0.32692308, 0.86065574, 0.79591837],\n",
              "       [0.96153846, 0.39344262, 0.42857143],\n",
              "       [0.94230769, 0.26229508, 0.52040816],\n",
              "       [0.03846154, 0.00819672, 0.05102041],\n",
              "       [0.67307692, 0.25409836, 0.45918367],\n",
              "       [0.5       , 0.47540984, 0.06122449],\n",
              "       [0.26923077, 0.90983607, 0.74489796],\n",
              "       [0.25      , 0.19672131, 0.6122449 ],\n",
              "       [0.94230769, 0.03278689, 0.13265306],\n",
              "       [0.55769231, 0.86065574, 0.15306122],\n",
              "       [0.80769231, 0.28688525, 0.56122449],\n",
              "       [0.51923077, 0.90983607, 0.2755102 ],\n",
              "       [0.78846154, 0.63934426, 0.13265306],\n",
              "       [0.23076923, 0.59836066, 0.86734694],\n",
              "       [0.48076923, 0.45901639, 0.34693878],\n",
              "       [0.42307692, 0.36885246, 0.39795918],\n",
              "       [0.38461538, 0.40163934, 0.41836735],\n",
              "       [0.30769231, 0.51639344, 0.        ],\n",
              "       [0.26923077, 0.72131148, 0.69387755],\n",
              "       [0.59615385, 0.22131148, 0.52040816],\n",
              "       [0.01923077, 0.        , 0.3877551 ],\n",
              "       [0.26923077, 0.36885246, 0.41836735],\n",
              "       [0.90384615, 0.39344262, 0.52040816],\n",
              "       [0.11538462, 0.36885246, 0.52040816],\n",
              "       [0.86538462, 0.2704918 , 0.51020408],\n",
              "       [0.28846154, 0.58196721, 0.95918367],\n",
              "       [0.11538462, 0.18852459, 0.92857143],\n",
              "       [0.26923077, 0.2704918 , 0.46938776],\n",
              "       [0.25      , 0.20491803, 0.41836735],\n",
              "       [0.21153846, 0.20491803, 0.41836735],\n",
              "       [0.57692308, 0.31967213, 0.45918367],\n",
              "       [0.11538462, 0.04098361, 0.7755102 ],\n",
              "       [0.21153846, 0.52459016, 0.83673469],\n",
              "       [0.25      , 0.08196721, 0.73469388],\n",
              "       [0.69230769, 0.70491803, 0.23469388],\n",
              "       [0.21153846, 0.47540984, 0.8877551 ],\n",
              "       [0.32692308, 0.07377049, 0.34693878],\n",
              "       [0.07692308, 0.04098361, 0.79591837],\n",
              "       [0.09615385, 0.31967213, 0.52040816],\n",
              "       [0.59615385, 0.3852459 , 0.56122449],\n",
              "       [0.25      , 0.2295082 , 0.54081633],\n",
              "       [0.09615385, 0.3852459 , 0.40816327],\n",
              "       [0.51923077, 0.31967213, 0.53061224],\n",
              "       [0.09615385, 0.00819672, 0.7755102 ],\n",
              "       [0.86538462, 0.40983607, 0.42857143],\n",
              "       [0.61538462, 0.57377049, 0.25510204],\n",
              "       [0.26923077, 1.        , 0.17346939],\n",
              "       [0.32692308, 0.02459016, 0.05102041],\n",
              "       [0.01923077, 0.2704918 , 0.59183673],\n",
              "       [0.05769231, 0.31967213, 0.57142857],\n",
              "       [0.38461538, 0.42622951, 0.39795918],\n",
              "       [0.17307692, 0.51639344, 0.89795918],\n",
              "       [0.19230769, 0.59016393, 0.75510204],\n",
              "       [0.36538462, 0.51639344, 0.        ],\n",
              "       [0.        , 0.36065574, 0.40816327],\n",
              "       [0.23076923, 1.        , 0.83673469],\n",
              "       [0.32692308, 0.03278689, 1.        ],\n",
              "       [0.61538462, 0.42622951, 0.57142857],\n",
              "       [0.94230769, 0.3852459 , 0.59183673],\n",
              "       [0.05769231, 0.14754098, 0.81632653],\n",
              "       [0.98076923, 0.23770492, 0.45918367],\n",
              "       [0.        , 0.2704918 , 0.59183673],\n",
              "       [0.05769231, 0.        , 0.81632653],\n",
              "       [0.17307692, 0.42622951, 0.56122449],\n",
              "       [0.01923077, 0.54098361, 0.04081633],\n",
              "       [0.57692308, 0.19672131, 0.35714286],\n",
              "       [0.05769231, 0.3852459 , 0.41836735],\n",
              "       [0.13461538, 0.46721311, 0.33673469],\n",
              "       [0.34615385, 0.59016393, 0.92857143],\n",
              "       [0.03846154, 0.04918033, 0.66326531],\n",
              "       [0.34615385, 0.18032787, 0.25510204],\n",
              "       [0.25      , 0.46721311, 0.71428571],\n",
              "       [0.78846154, 0.2295082 , 0.60204082],\n",
              "       [0.23076923, 0.51639344, 0.78571429],\n",
              "       [0.78846154, 0.45901639, 0.10204082],\n",
              "       [0.59615385, 0.14754098, 0.13265306],\n",
              "       [0.42307692, 0.1147541 , 0.30612245],\n",
              "       [0.        , 0.40983607, 0.47959184],\n",
              "       [0.40384615, 0.51639344, 0.8877551 ],\n",
              "       [0.05769231, 0.12295082, 0.73469388],\n",
              "       [0.46153846, 0.58196721, 0.19387755],\n",
              "       [0.42307692, 0.45901639, 0.95918367],\n",
              "       [0.76923077, 0.59836066, 0.14285714],\n",
              "       [0.67307692, 0.14754098, 0.03061224],\n",
              "       [0.19230769, 0.5       , 0.39795918],\n",
              "       [0.26923077, 0.59016393, 0.63265306],\n",
              "       [0.26923077, 0.50819672, 0.74489796],\n",
              "       [0.09615385, 0.1147541 , 0.87755102],\n",
              "       [0.03846154, 0.37704918, 0.48979592],\n",
              "       [0.94230769, 0.31967213, 0.40816327],\n",
              "       [0.59615385, 0.31967213, 0.41836735],\n",
              "       [0.01923077, 0.40983607, 0.5       ],\n",
              "       [0.30769231, 0.51639344, 0.21428571],\n",
              "       [0.38461538, 0.80327869, 0.91836735],\n",
              "       [0.80769231, 0.28688525, 0.48979592],\n",
              "       [0.42307692, 0.31967213, 0.47959184],\n",
              "       [0.21153846, 0.10655738, 0.82653061],\n",
              "       [0.34615385, 0.57377049, 0.75510204],\n",
              "       [0.38461538, 0.31967213, 0.55102041],\n",
              "       [0.44230769, 0.72131148, 0.16326531],\n",
              "       [0.65384615, 0.59836066, 0.12244898],\n",
              "       [0.30769231, 0.72131148, 0.2244898 ],\n",
              "       [0.03846154, 0.18032787, 0.75510204],\n",
              "       [0.17307692, 0.25409836, 0.51020408],\n",
              "       [0.75      , 0.49180328, 0.04081633],\n",
              "       [0.30769231, 0.35245902, 0.60204082],\n",
              "       [1.        , 0.27868852, 0.55102041],\n",
              "       [0.07692308, 0.3442623 , 0.55102041],\n",
              "       [0.46153846, 0.1557377 , 0.16326531],\n",
              "       [0.13461538, 0.07377049, 0.73469388],\n",
              "       [0.23076923, 0.03278689, 0.7244898 ],\n",
              "       [0.15384615, 0.3852459 , 0.55102041],\n",
              "       [0.96153846, 0.2704918 , 0.47959184],\n",
              "       [0.28846154, 0.80327869, 0.07142857],\n",
              "       [0.59615385, 0.40983607, 0.59183673],\n",
              "       [0.17307692, 0.20491803, 0.46938776],\n",
              "       [0.34615385, 0.59016393, 0.09183673]])"
            ]
          },
          "metadata": {
            "tags": []
          },
          "execution_count": 21
        }
      ]
    },
    {
      "cell_type": "code",
      "metadata": {
        "colab": {
          "base_uri": "https://localhost:8080/"
        },
        "id": "IDoE0ApIsaAU",
        "outputId": "b9b4045a-f6d5-4967-b278-760791bc61a9"
      },
      "source": [
        "y_train"
      ],
      "execution_count": null,
      "outputs": [
        {
          "output_type": "execute_result",
          "data": {
            "text/plain": [
              "array([ 71,  60,  97,  23,  78,  60,  43,  81,  42,  57,  74,  59,  73,\n",
              "        62,  77,  58,  63,  20,  28,  75, 101,  40,  74, 120,  63,  47,\n",
              "        16,  46,  73, 126,  39,  19, 120,  50, 126,  93,  88,  71,  60,\n",
              "        64,  78, 103,  42,  15,  60,  63,  60,  48,  86,  38,  48,  40,\n",
              "        40,  54,  20,  79,  25, 101,  73,  24,  20,  54,  62,  43,  62,\n",
              "        54,  16,  65,  85, 137,  18,  48,  54,  67,  78,  87,  78,  59,\n",
              "       137,  19,  67,  62,  33,  44,  48,  15,  67,  81,  39,  62,  72,\n",
              "        87,  21,  37,  72,  43,  78,  71,  33,  29,  65,  78,  30,  86,\n",
              "        71,  88,  33,  76,  87,  77,  29,  61,  54,  54,  65,  78, 113,\n",
              "        50,  54,  28,  85,  54, 103,  88, 103,  37,  46,  75,  58,  49,\n",
              "        57,  34,  24,  19,  62,  48, 113,  65,  40,  87])"
            ]
          },
          "metadata": {
            "tags": []
          },
          "execution_count": 22
        }
      ]
    },
    {
      "cell_type": "code",
      "metadata": {
        "colab": {
          "base_uri": "https://localhost:8080/"
        },
        "id": "wNfEG8VHsZ8V",
        "outputId": "726a64fd-c1fb-471d-fd7c-5ef7344f6505"
      },
      "source": [
        "from sklearn.linear_model import LinearRegression\n",
        "model=LinearRegression()\n",
        "model.fit(x_train,y_train)"
      ],
      "execution_count": null,
      "outputs": [
        {
          "output_type": "execute_result",
          "data": {
            "text/plain": [
              "LinearRegression(copy_X=True, fit_intercept=True, n_jobs=None, normalize=False)"
            ]
          },
          "metadata": {
            "tags": []
          },
          "execution_count": 23
        }
      ]
    },
    {
      "cell_type": "code",
      "metadata": {
        "colab": {
          "base_uri": "https://localhost:8080/",
          "height": 404
        },
        "id": "JFseOAIztA5m",
        "outputId": "08225b64-19ef-4d4e-c67d-8806ccf0056e"
      },
      "source": [
        "df"
      ],
      "execution_count": null,
      "outputs": [
        {
          "output_type": "execute_result",
          "data": {
            "text/html": [
              "<div>\n",
              "<style scoped>\n",
              "    .dataframe tbody tr th:only-of-type {\n",
              "        vertical-align: middle;\n",
              "    }\n",
              "\n",
              "    .dataframe tbody tr th {\n",
              "        vertical-align: top;\n",
              "    }\n",
              "\n",
              "    .dataframe thead th {\n",
              "        text-align: right;\n",
              "    }\n",
              "</style>\n",
              "<table border=\"1\" class=\"dataframe\">\n",
              "  <thead>\n",
              "    <tr style=\"text-align: right;\">\n",
              "      <th></th>\n",
              "      <th>CustomerID</th>\n",
              "      <th>Age</th>\n",
              "      <th>Annual Income (k$)</th>\n",
              "      <th>Spending Score (1-100)</th>\n",
              "    </tr>\n",
              "  </thead>\n",
              "  <tbody>\n",
              "    <tr>\n",
              "      <th>0</th>\n",
              "      <td>1</td>\n",
              "      <td>19</td>\n",
              "      <td>15</td>\n",
              "      <td>39</td>\n",
              "    </tr>\n",
              "    <tr>\n",
              "      <th>1</th>\n",
              "      <td>2</td>\n",
              "      <td>21</td>\n",
              "      <td>15</td>\n",
              "      <td>81</td>\n",
              "    </tr>\n",
              "    <tr>\n",
              "      <th>2</th>\n",
              "      <td>3</td>\n",
              "      <td>20</td>\n",
              "      <td>16</td>\n",
              "      <td>6</td>\n",
              "    </tr>\n",
              "    <tr>\n",
              "      <th>3</th>\n",
              "      <td>4</td>\n",
              "      <td>23</td>\n",
              "      <td>16</td>\n",
              "      <td>77</td>\n",
              "    </tr>\n",
              "    <tr>\n",
              "      <th>4</th>\n",
              "      <td>5</td>\n",
              "      <td>31</td>\n",
              "      <td>17</td>\n",
              "      <td>40</td>\n",
              "    </tr>\n",
              "    <tr>\n",
              "      <th>...</th>\n",
              "      <td>...</td>\n",
              "      <td>...</td>\n",
              "      <td>...</td>\n",
              "      <td>...</td>\n",
              "    </tr>\n",
              "    <tr>\n",
              "      <th>195</th>\n",
              "      <td>196</td>\n",
              "      <td>35</td>\n",
              "      <td>120</td>\n",
              "      <td>79</td>\n",
              "    </tr>\n",
              "    <tr>\n",
              "      <th>196</th>\n",
              "      <td>197</td>\n",
              "      <td>45</td>\n",
              "      <td>126</td>\n",
              "      <td>28</td>\n",
              "    </tr>\n",
              "    <tr>\n",
              "      <th>197</th>\n",
              "      <td>198</td>\n",
              "      <td>32</td>\n",
              "      <td>126</td>\n",
              "      <td>74</td>\n",
              "    </tr>\n",
              "    <tr>\n",
              "      <th>198</th>\n",
              "      <td>199</td>\n",
              "      <td>32</td>\n",
              "      <td>137</td>\n",
              "      <td>18</td>\n",
              "    </tr>\n",
              "    <tr>\n",
              "      <th>199</th>\n",
              "      <td>200</td>\n",
              "      <td>30</td>\n",
              "      <td>137</td>\n",
              "      <td>83</td>\n",
              "    </tr>\n",
              "  </tbody>\n",
              "</table>\n",
              "<p>200 rows × 4 columns</p>\n",
              "</div>"
            ],
            "text/plain": [
              "     CustomerID  Age  Annual Income (k$)  Spending Score (1-100)\n",
              "0             1   19                  15                      39\n",
              "1             2   21                  15                      81\n",
              "2             3   20                  16                       6\n",
              "3             4   23                  16                      77\n",
              "4             5   31                  17                      40\n",
              "..          ...  ...                 ...                     ...\n",
              "195         196   35                 120                      79\n",
              "196         197   45                 126                      28\n",
              "197         198   32                 126                      74\n",
              "198         199   32                 137                      18\n",
              "199         200   30                 137                      83\n",
              "\n",
              "[200 rows x 4 columns]"
            ]
          },
          "metadata": {
            "tags": []
          },
          "execution_count": 24
        }
      ]
    },
    {
      "cell_type": "code",
      "metadata": {
        "id": "ppnp_6LDsZ51"
      },
      "source": [
        "y_pred=model.predict(x_test)"
      ],
      "execution_count": null,
      "outputs": []
    },
    {
      "cell_type": "code",
      "metadata": {
        "colab": {
          "base_uri": "https://localhost:8080/",
          "height": 1836
        },
        "id": "2ixlSb0QsZ3y",
        "outputId": "3c2e3f60-7fd7-4ab9-f5e3-9a99a36c3dcc"
      },
      "source": [
        "result_data=pd.DataFrame()\n",
        "result_data['Actual']=y_test\n",
        "result_data['Predict']=y_pred\n",
        "result_data"
      ],
      "execution_count": null,
      "outputs": [
        {
          "output_type": "execute_result",
          "data": {
            "text/html": [
              "<div>\n",
              "<style scoped>\n",
              "    .dataframe tbody tr th:only-of-type {\n",
              "        vertical-align: middle;\n",
              "    }\n",
              "\n",
              "    .dataframe tbody tr th {\n",
              "        vertical-align: top;\n",
              "    }\n",
              "\n",
              "    .dataframe thead th {\n",
              "        text-align: right;\n",
              "    }\n",
              "</style>\n",
              "<table border=\"1\" class=\"dataframe\">\n",
              "  <thead>\n",
              "    <tr style=\"text-align: right;\">\n",
              "      <th></th>\n",
              "      <th>Actual</th>\n",
              "      <th>Predict</th>\n",
              "    </tr>\n",
              "  </thead>\n",
              "  <tbody>\n",
              "    <tr>\n",
              "      <th>0</th>\n",
              "      <td>23</td>\n",
              "      <td>23.511628</td>\n",
              "    </tr>\n",
              "    <tr>\n",
              "      <th>1</th>\n",
              "      <td>87</td>\n",
              "      <td>114.302326</td>\n",
              "    </tr>\n",
              "    <tr>\n",
              "      <th>2</th>\n",
              "      <td>63</td>\n",
              "      <td>80.255814</td>\n",
              "    </tr>\n",
              "    <tr>\n",
              "      <th>3</th>\n",
              "      <td>61</td>\n",
              "      <td>77.418605</td>\n",
              "    </tr>\n",
              "    <tr>\n",
              "      <th>4</th>\n",
              "      <td>88</td>\n",
              "      <td>115.720930</td>\n",
              "    </tr>\n",
              "    <tr>\n",
              "      <th>5</th>\n",
              "      <td>98</td>\n",
              "      <td>129.906977</td>\n",
              "    </tr>\n",
              "    <tr>\n",
              "      <th>6</th>\n",
              "      <td>17</td>\n",
              "      <td>15.000000</td>\n",
              "    </tr>\n",
              "    <tr>\n",
              "      <th>7</th>\n",
              "      <td>77</td>\n",
              "      <td>100.116279</td>\n",
              "    </tr>\n",
              "    <tr>\n",
              "      <th>8</th>\n",
              "      <td>20</td>\n",
              "      <td>19.255814</td>\n",
              "    </tr>\n",
              "    <tr>\n",
              "      <th>9</th>\n",
              "      <td>78</td>\n",
              "      <td>101.534884</td>\n",
              "    </tr>\n",
              "    <tr>\n",
              "      <th>10</th>\n",
              "      <td>46</td>\n",
              "      <td>56.139535</td>\n",
              "    </tr>\n",
              "    <tr>\n",
              "      <th>11</th>\n",
              "      <td>70</td>\n",
              "      <td>90.186047</td>\n",
              "    </tr>\n",
              "    <tr>\n",
              "      <th>12</th>\n",
              "      <td>97</td>\n",
              "      <td>128.488372</td>\n",
              "    </tr>\n",
              "    <tr>\n",
              "      <th>13</th>\n",
              "      <td>78</td>\n",
              "      <td>101.534884</td>\n",
              "    </tr>\n",
              "    <tr>\n",
              "      <th>14</th>\n",
              "      <td>54</td>\n",
              "      <td>67.488372</td>\n",
              "    </tr>\n",
              "    <tr>\n",
              "      <th>15</th>\n",
              "      <td>18</td>\n",
              "      <td>16.418605</td>\n",
              "    </tr>\n",
              "    <tr>\n",
              "      <th>16</th>\n",
              "      <td>33</td>\n",
              "      <td>37.697674</td>\n",
              "    </tr>\n",
              "    <tr>\n",
              "      <th>17</th>\n",
              "      <td>71</td>\n",
              "      <td>91.604651</td>\n",
              "    </tr>\n",
              "    <tr>\n",
              "      <th>18</th>\n",
              "      <td>34</td>\n",
              "      <td>39.116279</td>\n",
              "    </tr>\n",
              "    <tr>\n",
              "      <th>19</th>\n",
              "      <td>54</td>\n",
              "      <td>67.488372</td>\n",
              "    </tr>\n",
              "    <tr>\n",
              "      <th>20</th>\n",
              "      <td>98</td>\n",
              "      <td>129.906977</td>\n",
              "    </tr>\n",
              "    <tr>\n",
              "      <th>21</th>\n",
              "      <td>77</td>\n",
              "      <td>100.116279</td>\n",
              "    </tr>\n",
              "    <tr>\n",
              "      <th>22</th>\n",
              "      <td>39</td>\n",
              "      <td>46.209302</td>\n",
              "    </tr>\n",
              "    <tr>\n",
              "      <th>23</th>\n",
              "      <td>78</td>\n",
              "      <td>101.534884</td>\n",
              "    </tr>\n",
              "    <tr>\n",
              "      <th>24</th>\n",
              "      <td>46</td>\n",
              "      <td>56.139535</td>\n",
              "    </tr>\n",
              "    <tr>\n",
              "      <th>25</th>\n",
              "      <td>69</td>\n",
              "      <td>88.767442</td>\n",
              "    </tr>\n",
              "    <tr>\n",
              "      <th>26</th>\n",
              "      <td>93</td>\n",
              "      <td>122.813953</td>\n",
              "    </tr>\n",
              "    <tr>\n",
              "      <th>27</th>\n",
              "      <td>99</td>\n",
              "      <td>131.325581</td>\n",
              "    </tr>\n",
              "    <tr>\n",
              "      <th>28</th>\n",
              "      <td>69</td>\n",
              "      <td>88.767442</td>\n",
              "    </tr>\n",
              "    <tr>\n",
              "      <th>29</th>\n",
              "      <td>39</td>\n",
              "      <td>46.209302</td>\n",
              "    </tr>\n",
              "    <tr>\n",
              "      <th>30</th>\n",
              "      <td>21</td>\n",
              "      <td>20.674419</td>\n",
              "    </tr>\n",
              "    <tr>\n",
              "      <th>31</th>\n",
              "      <td>43</td>\n",
              "      <td>51.883721</td>\n",
              "    </tr>\n",
              "    <tr>\n",
              "      <th>32</th>\n",
              "      <td>78</td>\n",
              "      <td>101.534884</td>\n",
              "    </tr>\n",
              "    <tr>\n",
              "      <th>33</th>\n",
              "      <td>63</td>\n",
              "      <td>80.255814</td>\n",
              "    </tr>\n",
              "    <tr>\n",
              "      <th>34</th>\n",
              "      <td>25</td>\n",
              "      <td>26.348837</td>\n",
              "    </tr>\n",
              "    <tr>\n",
              "      <th>35</th>\n",
              "      <td>103</td>\n",
              "      <td>137.000000</td>\n",
              "    </tr>\n",
              "    <tr>\n",
              "      <th>36</th>\n",
              "      <td>71</td>\n",
              "      <td>91.604651</td>\n",
              "    </tr>\n",
              "    <tr>\n",
              "      <th>37</th>\n",
              "      <td>17</td>\n",
              "      <td>15.000000</td>\n",
              "    </tr>\n",
              "    <tr>\n",
              "      <th>38</th>\n",
              "      <td>54</td>\n",
              "      <td>67.488372</td>\n",
              "    </tr>\n",
              "    <tr>\n",
              "      <th>39</th>\n",
              "      <td>63</td>\n",
              "      <td>80.255814</td>\n",
              "    </tr>\n",
              "    <tr>\n",
              "      <th>40</th>\n",
              "      <td>73</td>\n",
              "      <td>94.441860</td>\n",
              "    </tr>\n",
              "    <tr>\n",
              "      <th>41</th>\n",
              "      <td>48</td>\n",
              "      <td>58.976744</td>\n",
              "    </tr>\n",
              "    <tr>\n",
              "      <th>42</th>\n",
              "      <td>28</td>\n",
              "      <td>30.604651</td>\n",
              "    </tr>\n",
              "    <tr>\n",
              "      <th>43</th>\n",
              "      <td>64</td>\n",
              "      <td>81.674419</td>\n",
              "    </tr>\n",
              "    <tr>\n",
              "      <th>44</th>\n",
              "      <td>87</td>\n",
              "      <td>114.302326</td>\n",
              "    </tr>\n",
              "    <tr>\n",
              "      <th>45</th>\n",
              "      <td>47</td>\n",
              "      <td>57.558140</td>\n",
              "    </tr>\n",
              "    <tr>\n",
              "      <th>46</th>\n",
              "      <td>19</td>\n",
              "      <td>17.837209</td>\n",
              "    </tr>\n",
              "    <tr>\n",
              "      <th>47</th>\n",
              "      <td>54</td>\n",
              "      <td>67.488372</td>\n",
              "    </tr>\n",
              "    <tr>\n",
              "      <th>48</th>\n",
              "      <td>67</td>\n",
              "      <td>85.930233</td>\n",
              "    </tr>\n",
              "    <tr>\n",
              "      <th>49</th>\n",
              "      <td>76</td>\n",
              "      <td>98.697674</td>\n",
              "    </tr>\n",
              "    <tr>\n",
              "      <th>50</th>\n",
              "      <td>49</td>\n",
              "      <td>60.395349</td>\n",
              "    </tr>\n",
              "    <tr>\n",
              "      <th>51</th>\n",
              "      <td>70</td>\n",
              "      <td>90.186047</td>\n",
              "    </tr>\n",
              "    <tr>\n",
              "      <th>52</th>\n",
              "      <td>99</td>\n",
              "      <td>131.325581</td>\n",
              "    </tr>\n",
              "    <tr>\n",
              "      <th>53</th>\n",
              "      <td>60</td>\n",
              "      <td>76.000000</td>\n",
              "    </tr>\n",
              "    <tr>\n",
              "      <th>54</th>\n",
              "      <td>78</td>\n",
              "      <td>101.534884</td>\n",
              "    </tr>\n",
              "    <tr>\n",
              "      <th>55</th>\n",
              "      <td>28</td>\n",
              "      <td>30.604651</td>\n",
              "    </tr>\n",
              "    <tr>\n",
              "      <th>56</th>\n",
              "      <td>30</td>\n",
              "      <td>33.441860</td>\n",
              "    </tr>\n",
              "    <tr>\n",
              "      <th>57</th>\n",
              "      <td>79</td>\n",
              "      <td>102.953488</td>\n",
              "    </tr>\n",
              "    <tr>\n",
              "      <th>58</th>\n",
              "      <td>38</td>\n",
              "      <td>44.790698</td>\n",
              "    </tr>\n",
              "    <tr>\n",
              "      <th>59</th>\n",
              "      <td>44</td>\n",
              "      <td>53.302326</td>\n",
              "    </tr>\n",
              "  </tbody>\n",
              "</table>\n",
              "</div>"
            ],
            "text/plain": [
              "    Actual     Predict\n",
              "0       23   23.511628\n",
              "1       87  114.302326\n",
              "2       63   80.255814\n",
              "3       61   77.418605\n",
              "4       88  115.720930\n",
              "5       98  129.906977\n",
              "6       17   15.000000\n",
              "7       77  100.116279\n",
              "8       20   19.255814\n",
              "9       78  101.534884\n",
              "10      46   56.139535\n",
              "11      70   90.186047\n",
              "12      97  128.488372\n",
              "13      78  101.534884\n",
              "14      54   67.488372\n",
              "15      18   16.418605\n",
              "16      33   37.697674\n",
              "17      71   91.604651\n",
              "18      34   39.116279\n",
              "19      54   67.488372\n",
              "20      98  129.906977\n",
              "21      77  100.116279\n",
              "22      39   46.209302\n",
              "23      78  101.534884\n",
              "24      46   56.139535\n",
              "25      69   88.767442\n",
              "26      93  122.813953\n",
              "27      99  131.325581\n",
              "28      69   88.767442\n",
              "29      39   46.209302\n",
              "30      21   20.674419\n",
              "31      43   51.883721\n",
              "32      78  101.534884\n",
              "33      63   80.255814\n",
              "34      25   26.348837\n",
              "35     103  137.000000\n",
              "36      71   91.604651\n",
              "37      17   15.000000\n",
              "38      54   67.488372\n",
              "39      63   80.255814\n",
              "40      73   94.441860\n",
              "41      48   58.976744\n",
              "42      28   30.604651\n",
              "43      64   81.674419\n",
              "44      87  114.302326\n",
              "45      47   57.558140\n",
              "46      19   17.837209\n",
              "47      54   67.488372\n",
              "48      67   85.930233\n",
              "49      76   98.697674\n",
              "50      49   60.395349\n",
              "51      70   90.186047\n",
              "52      99  131.325581\n",
              "53      60   76.000000\n",
              "54      78  101.534884\n",
              "55      28   30.604651\n",
              "56      30   33.441860\n",
              "57      79  102.953488\n",
              "58      38   44.790698\n",
              "59      44   53.302326"
            ]
          },
          "metadata": {
            "tags": []
          },
          "execution_count": 26
        }
      ]
    },
    {
      "cell_type": "code",
      "metadata": {
        "colab": {
          "base_uri": "https://localhost:8080/",
          "height": 281
        },
        "id": "DSPNwCpNsZ1i",
        "outputId": "92d26455-a3d3-462d-dc85-2ac4ad1add90"
      },
      "source": [
        "plt.plot(result_data['Actual'], label='Actual ')\n",
        "plt.plot(result_data['Predict'],label='Predicted ')\n",
        "plt.title(\"Actual and Prdited  Comparision\")\n",
        "plt.legend()\n",
        "plt.show()"
      ],
      "execution_count": null,
      "outputs": [
        {
          "output_type": "display_data",
          "data": {
            "image/png": "[encoded data removed]",
            "text/plain": [
              "<Figure size 432x288 with 1 Axes>"
            ]
          },
          "metadata": {
            "tags": [],
            "needs_background": "light"
          }
        }
      ]
    },
    {
      "cell_type": "code",
      "metadata": {
        "colab": {
          "base_uri": "https://localhost:8080/"
        },
        "id": "1lIxHecksZyy",
        "outputId": "ab34f2e7-b3c9-4f41-c15b-7af5ce203515"
      },
      "source": [
        "from sklearn.metrics import r2_score\n",
        "r2_score(y_test, y_pred)*100 "
      ],
      "execution_count": null,
      "outputs": [
        {
          "output_type": "execute_result",
          "data": {
            "text/plain": [
              "41.887678771863555"
            ]
          },
          "metadata": {
            "tags": []
          },
          "execution_count": 28
        }
      ]
    },
    {
      "cell_type": "code",
      "metadata": {
        "id": "ORJDjMXAsZwE"
      },
      "source": [
        ""
      ],
      "execution_count": null,
      "outputs": []
    },
    {
      "cell_type": "code",
      "metadata": {
        "id": "-sUMY1VCsZr0"
      },
      "source": [
        ""
      ],
      "execution_count": null,
      "outputs": []
    },
    {
      "cell_type": "code",
      "metadata": {
        "id": "f2LzmwtVsZpV"
      },
      "source": [
        ""
      ],
      "execution_count": null,
      "outputs": []
    },
    {
      "cell_type": "code",
      "metadata": {
        "id": "akq262mNsZm0"
      },
      "source": [
        ""
      ],
      "execution_count": null,
      "outputs": []
    },
    {
      "cell_type": "code",
      "metadata": {
        "id": "V5XqSEVlsZkO"
      },
      "source": [
        ""
      ],
      "execution_count": null,
      "outputs": []
    }
  ]
}