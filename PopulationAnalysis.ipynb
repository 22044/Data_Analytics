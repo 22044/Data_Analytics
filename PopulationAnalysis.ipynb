{
  "nbformat": 4,
  "nbformat_minor": 0,
  "metadata": {
    "colab": {
      "name": "Population.ipynb",
      "provenance": [],
      "collapsed_sections": [],
      "mount_file_id": "1_RNlS0dl0eJGM2FU1VseL3XWWFjzeyCD",
      "authorship_tag": "ABX9TyNOT8/LTFieYZZGF0uDbFSe",
      "include_colab_link": true
    },
    "kernelspec": {
      "name": "python3",
      "display_name": "Python 3"
    },
    "language_info": {
      "name": "python"
    }
  },
  "cells": [
    {
      "cell_type": "markdown",
      "metadata": {
        "id": "view-in-github",
        "colab_type": "text"
      },
      "source": [
        "<a href=\"https://colab.research.google.com/github/22044/Data_Analytics/blob/main/PopulationAnalysis.ipynb\" target=\"_parent\"><img src=\"https://colab.research.google.com/assets/colab-badge.svg\" alt=\"Open In Colab\"/></a>"
      ]
    },
    {
      "cell_type": "markdown",
      "metadata": {
        "id": "6SVp54guogc9"
      },
      "source": [
        "#### Worlds Population"
      ]
    },
    {
      "cell_type": "code",
      "metadata": {
        "id": "3418rlsboPOq"
      },
      "source": [
        "import pandas as pd\n",
        "import numpy as np\n",
        "import matplotlib.pyplot as plt\n",
        "import seaborn as sns"
      ],
      "execution_count": null,
      "outputs": []
    },
    {
      "cell_type": "code",
      "metadata": {
        "colab": {
          "base_uri": "https://localhost:8080/",
          "height": 399
        },
        "id": "sl_tzX7sovGd",
        "outputId": "3be6a6d5-9bcb-4984-dc4f-cbf358f8fd74"
      },
      "source": [
        "df=pd.read_csv(\"/content/drive/MyDrive/dataset/WorldPopulation.csv\")\n",
        "df"
      ],
      "execution_count": null,
      "outputs": [
        {
          "output_type": "execute_result",
          "data": {
            "text/html": [
              "<div>\n",
              "<style scoped>\n",
              "    .dataframe tbody tr th:only-of-type {\n",
              "        vertical-align: middle;\n",
              "    }\n",
              "\n",
              "    .dataframe tbody tr th {\n",
              "        vertical-align: top;\n",
              "    }\n",
              "\n",
              "    .dataframe thead th {\n",
              "        text-align: right;\n",
              "    }\n",
              "</style>\n",
              "<table border=\"1\" class=\"dataframe\">\n",
              "  <thead>\n",
              "    <tr style=\"text-align: right;\">\n",
              "      <th></th>\n",
              "      <th>Year</th>\n",
              "      <th>Population</th>\n",
              "      <th>ChangePerc</th>\n",
              "      <th>NetChange</th>\n",
              "      <th>Density</th>\n",
              "      <th>Urban</th>\n",
              "      <th>UrbanPerc</th>\n",
              "    </tr>\n",
              "  </thead>\n",
              "  <tbody>\n",
              "    <tr>\n",
              "      <th>0</th>\n",
              "      <td>2020</td>\n",
              "      <td>7794798739</td>\n",
              "      <td>1.05</td>\n",
              "      <td>81330639</td>\n",
              "      <td>52</td>\n",
              "      <td>4378993944</td>\n",
              "      <td>56</td>\n",
              "    </tr>\n",
              "    <tr>\n",
              "      <th>1</th>\n",
              "      <td>2019</td>\n",
              "      <td>7713468100</td>\n",
              "      <td>1.08</td>\n",
              "      <td>82377060</td>\n",
              "      <td>52</td>\n",
              "      <td>4299438618</td>\n",
              "      <td>56</td>\n",
              "    </tr>\n",
              "    <tr>\n",
              "      <th>2</th>\n",
              "      <td>2018</td>\n",
              "      <td>7631091040</td>\n",
              "      <td>1.10</td>\n",
              "      <td>83232115</td>\n",
              "      <td>51</td>\n",
              "      <td>4219817318</td>\n",
              "      <td>55</td>\n",
              "    </tr>\n",
              "    <tr>\n",
              "      <th>3</th>\n",
              "      <td>2017</td>\n",
              "      <td>7547858925</td>\n",
              "      <td>1.12</td>\n",
              "      <td>83836876</td>\n",
              "      <td>51</td>\n",
              "      <td>4140188594</td>\n",
              "      <td>55</td>\n",
              "    </tr>\n",
              "    <tr>\n",
              "      <th>4</th>\n",
              "      <td>2016</td>\n",
              "      <td>7464022049</td>\n",
              "      <td>1.14</td>\n",
              "      <td>84224910</td>\n",
              "      <td>50</td>\n",
              "      <td>4060652683</td>\n",
              "      <td>54</td>\n",
              "    </tr>\n",
              "    <tr>\n",
              "      <th>...</th>\n",
              "      <td>...</td>\n",
              "      <td>...</td>\n",
              "      <td>...</td>\n",
              "      <td>...</td>\n",
              "      <td>...</td>\n",
              "      <td>...</td>\n",
              "      <td>...</td>\n",
              "    </tr>\n",
              "    <tr>\n",
              "      <th>65</th>\n",
              "      <td>1955</td>\n",
              "      <td>2773019936</td>\n",
              "      <td>1.77</td>\n",
              "      <td>48173195</td>\n",
              "      <td>19</td>\n",
              "      <td>877008842</td>\n",
              "      <td>32</td>\n",
              "    </tr>\n",
              "    <tr>\n",
              "      <th>66</th>\n",
              "      <td>1954</td>\n",
              "      <td>2724846741</td>\n",
              "      <td>1.76</td>\n",
              "      <td>47237781</td>\n",
              "      <td>18</td>\n",
              "      <td>850179106</td>\n",
              "      <td>31</td>\n",
              "    </tr>\n",
              "    <tr>\n",
              "      <th>67</th>\n",
              "      <td>1953</td>\n",
              "      <td>2677608960</td>\n",
              "      <td>1.78</td>\n",
              "      <td>46747398</td>\n",
              "      <td>18</td>\n",
              "      <td>824289989</td>\n",
              "      <td>31</td>\n",
              "    </tr>\n",
              "    <tr>\n",
              "      <th>68</th>\n",
              "      <td>1952</td>\n",
              "      <td>2630861562</td>\n",
              "      <td>1.81</td>\n",
              "      <td>46827301</td>\n",
              "      <td>18</td>\n",
              "      <td>799282533</td>\n",
              "      <td>30</td>\n",
              "    </tr>\n",
              "    <tr>\n",
              "      <th>69</th>\n",
              "      <td>1951</td>\n",
              "      <td>2584034261</td>\n",
              "      <td>1.88</td>\n",
              "      <td>47603112</td>\n",
              "      <td>17</td>\n",
              "      <td>775067697</td>\n",
              "      <td>30</td>\n",
              "    </tr>\n",
              "  </tbody>\n",
              "</table>\n",
              "<p>70 rows × 7 columns</p>\n",
              "</div>"
            ],
            "text/plain": [
              "    Year  Population  ChangePerc  NetChange  Density       Urban  UrbanPerc\n",
              "0   2020  7794798739        1.05   81330639       52  4378993944         56\n",
              "1   2019  7713468100        1.08   82377060       52  4299438618         56\n",
              "2   2018  7631091040        1.10   83232115       51  4219817318         55\n",
              "3   2017  7547858925        1.12   83836876       51  4140188594         55\n",
              "4   2016  7464022049        1.14   84224910       50  4060652683         54\n",
              "..   ...         ...         ...        ...      ...         ...        ...\n",
              "65  1955  2773019936        1.77   48173195       19   877008842         32\n",
              "66  1954  2724846741        1.76   47237781       18   850179106         31\n",
              "67  1953  2677608960        1.78   46747398       18   824289989         31\n",
              "68  1952  2630861562        1.81   46827301       18   799282533         30\n",
              "69  1951  2584034261        1.88   47603112       17   775067697         30\n",
              "\n",
              "[70 rows x 7 columns]"
            ]
          },
          "metadata": {
            "tags": []
          },
          "execution_count": 43
        }
      ]
    },
    {
      "cell_type": "code",
      "metadata": {
        "colab": {
          "base_uri": "https://localhost:8080/",
          "height": 282
        },
        "id": "drhvT0qHovEc",
        "outputId": "cf575993-7996-43a0-dbe5-2c85efc0883a"
      },
      "source": [
        "df.describe()"
      ],
      "execution_count": null,
      "outputs": [
        {
          "output_type": "execute_result",
          "data": {
            "text/html": [
              "<div>\n",
              "<style scoped>\n",
              "    .dataframe tbody tr th:only-of-type {\n",
              "        vertical-align: middle;\n",
              "    }\n",
              "\n",
              "    .dataframe tbody tr th {\n",
              "        vertical-align: top;\n",
              "    }\n",
              "\n",
              "    .dataframe thead th {\n",
              "        text-align: right;\n",
              "    }\n",
              "</style>\n",
              "<table border=\"1\" class=\"dataframe\">\n",
              "  <thead>\n",
              "    <tr style=\"text-align: right;\">\n",
              "      <th></th>\n",
              "      <th>Year</th>\n",
              "      <th>Population</th>\n",
              "      <th>ChangePerc</th>\n",
              "      <th>NetChange</th>\n",
              "      <th>Density</th>\n",
              "      <th>Urban</th>\n",
              "      <th>UrbanPerc</th>\n",
              "    </tr>\n",
              "  </thead>\n",
              "  <tbody>\n",
              "    <tr>\n",
              "      <th>count</th>\n",
              "      <td>70.000000</td>\n",
              "      <td>7.000000e+01</td>\n",
              "      <td>70.000000</td>\n",
              "      <td>7.000000e+01</td>\n",
              "      <td>70.000000</td>\n",
              "      <td>7.000000e+01</td>\n",
              "      <td>70.000000</td>\n",
              "    </tr>\n",
              "    <tr>\n",
              "      <th>mean</th>\n",
              "      <td>1985.500000</td>\n",
              "      <td>5.002010e+09</td>\n",
              "      <td>1.616429</td>\n",
              "      <td>7.511954e+07</td>\n",
              "      <td>33.557143</td>\n",
              "      <td>2.226815e+09</td>\n",
              "      <td>42.200000</td>\n",
              "    </tr>\n",
              "    <tr>\n",
              "      <th>std</th>\n",
              "      <td>20.351085</td>\n",
              "      <td>1.594877e+09</td>\n",
              "      <td>0.321288</td>\n",
              "      <td>1.256972e+07</td>\n",
              "      <td>10.723989</td>\n",
              "      <td>1.070191e+09</td>\n",
              "      <td>7.447595</td>\n",
              "    </tr>\n",
              "    <tr>\n",
              "      <th>min</th>\n",
              "      <td>1951.000000</td>\n",
              "      <td>2.584034e+09</td>\n",
              "      <td>1.050000</td>\n",
              "      <td>4.674740e+07</td>\n",
              "      <td>17.000000</td>\n",
              "      <td>7.750677e+08</td>\n",
              "      <td>30.000000</td>\n",
              "    </tr>\n",
              "    <tr>\n",
              "      <th>25%</th>\n",
              "      <td>1968.250000</td>\n",
              "      <td>3.570120e+09</td>\n",
              "      <td>1.262500</td>\n",
              "      <td>7.314225e+07</td>\n",
              "      <td>24.000000</td>\n",
              "      <td>1.294408e+09</td>\n",
              "      <td>36.000000</td>\n",
              "    </tr>\n",
              "    <tr>\n",
              "      <th>50%</th>\n",
              "      <td>1985.500000</td>\n",
              "      <td>4.915745e+09</td>\n",
              "      <td>1.770000</td>\n",
              "      <td>7.942852e+07</td>\n",
              "      <td>33.000000</td>\n",
              "      <td>2.035272e+09</td>\n",
              "      <td>41.500000</td>\n",
              "    </tr>\n",
              "    <tr>\n",
              "      <th>75%</th>\n",
              "      <td>2002.750000</td>\n",
              "      <td>6.361332e+09</td>\n",
              "      <td>1.847500</td>\n",
              "      <td>8.356683e+07</td>\n",
              "      <td>42.750000</td>\n",
              "      <td>3.054260e+09</td>\n",
              "      <td>48.000000</td>\n",
              "    </tr>\n",
              "    <tr>\n",
              "      <th>max</th>\n",
              "      <td>2020.000000</td>\n",
              "      <td>7.794799e+09</td>\n",
              "      <td>2.090000</td>\n",
              "      <td>9.290386e+07</td>\n",
              "      <td>52.000000</td>\n",
              "      <td>4.378994e+09</td>\n",
              "      <td>56.000000</td>\n",
              "    </tr>\n",
              "  </tbody>\n",
              "</table>\n",
              "</div>"
            ],
            "text/plain": [
              "              Year    Population  ...         Urban  UrbanPerc\n",
              "count    70.000000  7.000000e+01  ...  7.000000e+01  70.000000\n",
              "mean   1985.500000  5.002010e+09  ...  2.226815e+09  42.200000\n",
              "std      20.351085  1.594877e+09  ...  1.070191e+09   7.447595\n",
              "min    1951.000000  2.584034e+09  ...  7.750677e+08  30.000000\n",
              "25%    1968.250000  3.570120e+09  ...  1.294408e+09  36.000000\n",
              "50%    1985.500000  4.915745e+09  ...  2.035272e+09  41.500000\n",
              "75%    2002.750000  6.361332e+09  ...  3.054260e+09  48.000000\n",
              "max    2020.000000  7.794799e+09  ...  4.378994e+09  56.000000\n",
              "\n",
              "[8 rows x 7 columns]"
            ]
          },
          "metadata": {
            "tags": []
          },
          "execution_count": 44
        }
      ]
    },
    {
      "cell_type": "code",
      "metadata": {
        "colab": {
          "base_uri": "https://localhost:8080/"
        },
        "id": "9hLNuGWXovB2",
        "outputId": "c2028549-17fc-40d5-954c-322a1d775c96"
      },
      "source": [
        "df.info()"
      ],
      "execution_count": null,
      "outputs": [
        {
          "output_type": "stream",
          "text": [
            "<class 'pandas.core.frame.DataFrame'>\n",
            "RangeIndex: 70 entries, 0 to 69\n",
            "Data columns (total 7 columns):\n",
            " #   Column      Non-Null Count  Dtype  \n",
            "---  ------      --------------  -----  \n",
            " 0   Year        70 non-null     int64  \n",
            " 1   Population  70 non-null     int64  \n",
            " 2   ChangePerc  70 non-null     float64\n",
            " 3   NetChange   70 non-null     int64  \n",
            " 4   Density     70 non-null     int64  \n",
            " 5   Urban       70 non-null     int64  \n",
            " 6   UrbanPerc   70 non-null     int64  \n",
            "dtypes: float64(1), int64(6)\n",
            "memory usage: 4.0 KB\n"
          ],
          "name": "stdout"
        }
      ]
    },
    {
      "cell_type": "code",
      "metadata": {
        "colab": {
          "base_uri": "https://localhost:8080/"
        },
        "id": "OxyByXEVou_r",
        "outputId": "f0ce81d5-b63e-40f5-fb4a-5737ececf592"
      },
      "source": [
        "df.shape"
      ],
      "execution_count": null,
      "outputs": [
        {
          "output_type": "execute_result",
          "data": {
            "text/plain": [
              "(70, 7)"
            ]
          },
          "metadata": {
            "tags": []
          },
          "execution_count": 46
        }
      ]
    },
    {
      "cell_type": "code",
      "metadata": {
        "colab": {
          "base_uri": "https://localhost:8080/",
          "height": 252
        },
        "id": "SesH2nWepxaE",
        "outputId": "6623be86-7bb9-470d-9320-16c545989bc2"
      },
      "source": [
        "df.corr()"
      ],
      "execution_count": null,
      "outputs": [
        {
          "output_type": "execute_result",
          "data": {
            "text/html": [
              "<div>\n",
              "<style scoped>\n",
              "    .dataframe tbody tr th:only-of-type {\n",
              "        vertical-align: middle;\n",
              "    }\n",
              "\n",
              "    .dataframe tbody tr th {\n",
              "        vertical-align: top;\n",
              "    }\n",
              "\n",
              "    .dataframe thead th {\n",
              "        text-align: right;\n",
              "    }\n",
              "</style>\n",
              "<table border=\"1\" class=\"dataframe\">\n",
              "  <thead>\n",
              "    <tr style=\"text-align: right;\">\n",
              "      <th></th>\n",
              "      <th>Year</th>\n",
              "      <th>Population</th>\n",
              "      <th>ChangePerc</th>\n",
              "      <th>NetChange</th>\n",
              "      <th>Density</th>\n",
              "      <th>Urban</th>\n",
              "      <th>UrbanPerc</th>\n",
              "    </tr>\n",
              "  </thead>\n",
              "  <tbody>\n",
              "    <tr>\n",
              "      <th>Year</th>\n",
              "      <td>1.000000</td>\n",
              "      <td>0.998403</td>\n",
              "      <td>-0.887211</td>\n",
              "      <td>0.797789</td>\n",
              "      <td>0.997915</td>\n",
              "      <td>0.987119</td>\n",
              "      <td>0.994349</td>\n",
              "    </tr>\n",
              "    <tr>\n",
              "      <th>Population</th>\n",
              "      <td>0.998403</td>\n",
              "      <td>1.000000</td>\n",
              "      <td>-0.907773</td>\n",
              "      <td>0.768659</td>\n",
              "      <td>0.999640</td>\n",
              "      <td>0.993085</td>\n",
              "      <td>0.995669</td>\n",
              "    </tr>\n",
              "    <tr>\n",
              "      <th>ChangePerc</th>\n",
              "      <td>-0.887211</td>\n",
              "      <td>-0.907773</td>\n",
              "      <td>1.000000</td>\n",
              "      <td>-0.451671</td>\n",
              "      <td>-0.908100</td>\n",
              "      <td>-0.924174</td>\n",
              "      <td>-0.899791</td>\n",
              "    </tr>\n",
              "    <tr>\n",
              "      <th>NetChange</th>\n",
              "      <td>0.797789</td>\n",
              "      <td>0.768659</td>\n",
              "      <td>-0.451671</td>\n",
              "      <td>1.000000</td>\n",
              "      <td>0.767797</td>\n",
              "      <td>0.706693</td>\n",
              "      <td>0.753161</td>\n",
              "    </tr>\n",
              "    <tr>\n",
              "      <th>Density</th>\n",
              "      <td>0.997915</td>\n",
              "      <td>0.999640</td>\n",
              "      <td>-0.908100</td>\n",
              "      <td>0.767797</td>\n",
              "      <td>1.000000</td>\n",
              "      <td>0.992816</td>\n",
              "      <td>0.995339</td>\n",
              "    </tr>\n",
              "    <tr>\n",
              "      <th>Urban</th>\n",
              "      <td>0.987119</td>\n",
              "      <td>0.993085</td>\n",
              "      <td>-0.924174</td>\n",
              "      <td>0.706693</td>\n",
              "      <td>0.992816</td>\n",
              "      <td>1.000000</td>\n",
              "      <td>0.995454</td>\n",
              "    </tr>\n",
              "    <tr>\n",
              "      <th>UrbanPerc</th>\n",
              "      <td>0.994349</td>\n",
              "      <td>0.995669</td>\n",
              "      <td>-0.899791</td>\n",
              "      <td>0.753161</td>\n",
              "      <td>0.995339</td>\n",
              "      <td>0.995454</td>\n",
              "      <td>1.000000</td>\n",
              "    </tr>\n",
              "  </tbody>\n",
              "</table>\n",
              "</div>"
            ],
            "text/plain": [
              "                Year  Population  ChangePerc  ...   Density     Urban  UrbanPerc\n",
              "Year        1.000000    0.998403   -0.887211  ...  0.997915  0.987119   0.994349\n",
              "Population  0.998403    1.000000   -0.907773  ...  0.999640  0.993085   0.995669\n",
              "ChangePerc -0.887211   -0.907773    1.000000  ... -0.908100 -0.924174  -0.899791\n",
              "NetChange   0.797789    0.768659   -0.451671  ...  0.767797  0.706693   0.753161\n",
              "Density     0.997915    0.999640   -0.908100  ...  1.000000  0.992816   0.995339\n",
              "Urban       0.987119    0.993085   -0.924174  ...  0.992816  1.000000   0.995454\n",
              "UrbanPerc   0.994349    0.995669   -0.899791  ...  0.995339  0.995454   1.000000\n",
              "\n",
              "[7 rows x 7 columns]"
            ]
          },
          "metadata": {
            "tags": []
          },
          "execution_count": 47
        }
      ]
    },
    {
      "cell_type": "code",
      "metadata": {
        "colab": {
          "base_uri": "https://localhost:8080/",
          "height": 194
        },
        "id": "2FjBZRLQp-gI",
        "outputId": "2b67713b-b881-4d5c-f8ba-ad08c337369d"
      },
      "source": [
        "df.drop('ChangePerc',axis=1,inplace=True)\n",
        "df.head()"
      ],
      "execution_count": null,
      "outputs": [
        {
          "output_type": "execute_result",
          "data": {
            "text/html": [
              "<div>\n",
              "<style scoped>\n",
              "    .dataframe tbody tr th:only-of-type {\n",
              "        vertical-align: middle;\n",
              "    }\n",
              "\n",
              "    .dataframe tbody tr th {\n",
              "        vertical-align: top;\n",
              "    }\n",
              "\n",
              "    .dataframe thead th {\n",
              "        text-align: right;\n",
              "    }\n",
              "</style>\n",
              "<table border=\"1\" class=\"dataframe\">\n",
              "  <thead>\n",
              "    <tr style=\"text-align: right;\">\n",
              "      <th></th>\n",
              "      <th>Year</th>\n",
              "      <th>Population</th>\n",
              "      <th>NetChange</th>\n",
              "      <th>Density</th>\n",
              "      <th>Urban</th>\n",
              "      <th>UrbanPerc</th>\n",
              "    </tr>\n",
              "  </thead>\n",
              "  <tbody>\n",
              "    <tr>\n",
              "      <th>0</th>\n",
              "      <td>2020</td>\n",
              "      <td>7794798739</td>\n",
              "      <td>81330639</td>\n",
              "      <td>52</td>\n",
              "      <td>4378993944</td>\n",
              "      <td>56</td>\n",
              "    </tr>\n",
              "    <tr>\n",
              "      <th>1</th>\n",
              "      <td>2019</td>\n",
              "      <td>7713468100</td>\n",
              "      <td>82377060</td>\n",
              "      <td>52</td>\n",
              "      <td>4299438618</td>\n",
              "      <td>56</td>\n",
              "    </tr>\n",
              "    <tr>\n",
              "      <th>2</th>\n",
              "      <td>2018</td>\n",
              "      <td>7631091040</td>\n",
              "      <td>83232115</td>\n",
              "      <td>51</td>\n",
              "      <td>4219817318</td>\n",
              "      <td>55</td>\n",
              "    </tr>\n",
              "    <tr>\n",
              "      <th>3</th>\n",
              "      <td>2017</td>\n",
              "      <td>7547858925</td>\n",
              "      <td>83836876</td>\n",
              "      <td>51</td>\n",
              "      <td>4140188594</td>\n",
              "      <td>55</td>\n",
              "    </tr>\n",
              "    <tr>\n",
              "      <th>4</th>\n",
              "      <td>2016</td>\n",
              "      <td>7464022049</td>\n",
              "      <td>84224910</td>\n",
              "      <td>50</td>\n",
              "      <td>4060652683</td>\n",
              "      <td>54</td>\n",
              "    </tr>\n",
              "  </tbody>\n",
              "</table>\n",
              "</div>"
            ],
            "text/plain": [
              "   Year  Population  NetChange  Density       Urban  UrbanPerc\n",
              "0  2020  7794798739   81330639       52  4378993944         56\n",
              "1  2019  7713468100   82377060       52  4299438618         56\n",
              "2  2018  7631091040   83232115       51  4219817318         55\n",
              "3  2017  7547858925   83836876       51  4140188594         55\n",
              "4  2016  7464022049   84224910       50  4060652683         54"
            ]
          },
          "metadata": {
            "tags": []
          },
          "execution_count": 48
        }
      ]
    },
    {
      "cell_type": "code",
      "metadata": {
        "colab": {
          "base_uri": "https://localhost:8080/",
          "height": 487
        },
        "id": "f3Ctaz7Dou9e",
        "outputId": "aaaa169e-27e7-4dca-afb1-7c8eabee0adb"
      },
      "source": [
        "plt.figure(figsize=(15,8))\n",
        "sns.heatmap(df.corr(),annot=True)\n",
        "plt.show()"
      ],
      "execution_count": null,
      "outputs": [
        {
          "output_type": "display_data",
          "data": {
            "image/png": "[encoded data removed]",
            "text/plain": [
              "<Figure size 1080x576 with 2 Axes>"
            ]
          },
          "metadata": {
            "tags": [],
            "needs_background": "light"
          }
        }
      ]
    },
    {
      "cell_type": "code",
      "metadata": {
        "colab": {
          "base_uri": "https://localhost:8080/"
        },
        "id": "ZjA_3NLFou7b",
        "outputId": "aae07ba6-8773-4942-e4b0-f59f1292bbd5"
      },
      "source": [
        "df.isnull().sum()"
      ],
      "execution_count": null,
      "outputs": [
        {
          "output_type": "execute_result",
          "data": {
            "text/plain": [
              "Year          0\n",
              "Population    0\n",
              "NetChange     0\n",
              "Density       0\n",
              "Urban         0\n",
              "UrbanPerc     0\n",
              "dtype: int64"
            ]
          },
          "metadata": {
            "tags": []
          },
          "execution_count": 50
        }
      ]
    },
    {
      "cell_type": "code",
      "metadata": {
        "colab": {
          "base_uri": "https://localhost:8080/",
          "height": 232
        },
        "id": "zMft2yDTou5z",
        "outputId": "0c8b9a0e-07d0-476b-e732-e21d4f964b57"
      },
      "source": [
        "plt.figure(figsize=(550,8))\n",
        "plt.subplot(1,5,1)\n",
        "sns.countplot(df['Urban'])"
      ],
      "execution_count": null,
      "outputs": [
        {
          "output_type": "stream",
          "text": [
            "/usr/local/lib/python3.7/dist-packages/seaborn/_decorators.py:43: FutureWarning: Pass the following variable as a keyword arg: x. From version 0.12, the only valid positional argument will be `data`, and passing other arguments without an explicit keyword will result in an error or misinterpretation.\n",
            "  FutureWarning\n"
          ],
          "name": "stderr"
        },
        {
          "output_type": "execute_result",
          "data": {
            "text/plain": [
              "<matplotlib.axes._subplots.AxesSubplot at 0x7fab7a084b10>"
            ]
          },
          "metadata": {
            "tags": []
          },
          "execution_count": 51
        },
        {
          "output_type": "display_data",
          "data": {
            "image/png": "[encoded data removed]",
            "text/plain": [
              "<Figure size 39600x576 with 1 Axes>"
            ]
          },
          "metadata": {
            "tags": [],
            "needs_background": "light"
          }
        }
      ]
    },
    {
      "cell_type": "code",
      "metadata": {
        "colab": {
          "base_uri": "https://localhost:8080/",
          "height": 399
        },
        "id": "8UCX8L0mou3M",
        "outputId": "0891d616-3f1b-4948-e911-2d51ce5c9d7c"
      },
      "source": [
        "df=pd.get_dummies(df,drop_first=True)\n",
        "df"
      ],
      "execution_count": null,
      "outputs": [
        {
          "output_type": "execute_result",
          "data": {
            "text/html": [
              "<div>\n",
              "<style scoped>\n",
              "    .dataframe tbody tr th:only-of-type {\n",
              "        vertical-align: middle;\n",
              "    }\n",
              "\n",
              "    .dataframe tbody tr th {\n",
              "        vertical-align: top;\n",
              "    }\n",
              "\n",
              "    .dataframe thead th {\n",
              "        text-align: right;\n",
              "    }\n",
              "</style>\n",
              "<table border=\"1\" class=\"dataframe\">\n",
              "  <thead>\n",
              "    <tr style=\"text-align: right;\">\n",
              "      <th></th>\n",
              "      <th>Year</th>\n",
              "      <th>Population</th>\n",
              "      <th>NetChange</th>\n",
              "      <th>Density</th>\n",
              "      <th>Urban</th>\n",
              "      <th>UrbanPerc</th>\n",
              "    </tr>\n",
              "  </thead>\n",
              "  <tbody>\n",
              "    <tr>\n",
              "      <th>0</th>\n",
              "      <td>2020</td>\n",
              "      <td>7794798739</td>\n",
              "      <td>81330639</td>\n",
              "      <td>52</td>\n",
              "      <td>4378993944</td>\n",
              "      <td>56</td>\n",
              "    </tr>\n",
              "    <tr>\n",
              "      <th>1</th>\n",
              "      <td>2019</td>\n",
              "      <td>7713468100</td>\n",
              "      <td>82377060</td>\n",
              "      <td>52</td>\n",
              "      <td>4299438618</td>\n",
              "      <td>56</td>\n",
              "    </tr>\n",
              "    <tr>\n",
              "      <th>2</th>\n",
              "      <td>2018</td>\n",
              "      <td>7631091040</td>\n",
              "      <td>83232115</td>\n",
              "      <td>51</td>\n",
              "      <td>4219817318</td>\n",
              "      <td>55</td>\n",
              "    </tr>\n",
              "    <tr>\n",
              "      <th>3</th>\n",
              "      <td>2017</td>\n",
              "      <td>7547858925</td>\n",
              "      <td>83836876</td>\n",
              "      <td>51</td>\n",
              "      <td>4140188594</td>\n",
              "      <td>55</td>\n",
              "    </tr>\n",
              "    <tr>\n",
              "      <th>4</th>\n",
              "      <td>2016</td>\n",
              "      <td>7464022049</td>\n",
              "      <td>84224910</td>\n",
              "      <td>50</td>\n",
              "      <td>4060652683</td>\n",
              "      <td>54</td>\n",
              "    </tr>\n",
              "    <tr>\n",
              "      <th>...</th>\n",
              "      <td>...</td>\n",
              "      <td>...</td>\n",
              "      <td>...</td>\n",
              "      <td>...</td>\n",
              "      <td>...</td>\n",
              "      <td>...</td>\n",
              "    </tr>\n",
              "    <tr>\n",
              "      <th>65</th>\n",
              "      <td>1955</td>\n",
              "      <td>2773019936</td>\n",
              "      <td>48173195</td>\n",
              "      <td>19</td>\n",
              "      <td>877008842</td>\n",
              "      <td>32</td>\n",
              "    </tr>\n",
              "    <tr>\n",
              "      <th>66</th>\n",
              "      <td>1954</td>\n",
              "      <td>2724846741</td>\n",
              "      <td>47237781</td>\n",
              "      <td>18</td>\n",
              "      <td>850179106</td>\n",
              "      <td>31</td>\n",
              "    </tr>\n",
              "    <tr>\n",
              "      <th>67</th>\n",
              "      <td>1953</td>\n",
              "      <td>2677608960</td>\n",
              "      <td>46747398</td>\n",
              "      <td>18</td>\n",
              "      <td>824289989</td>\n",
              "      <td>31</td>\n",
              "    </tr>\n",
              "    <tr>\n",
              "      <th>68</th>\n",
              "      <td>1952</td>\n",
              "      <td>2630861562</td>\n",
              "      <td>46827301</td>\n",
              "      <td>18</td>\n",
              "      <td>799282533</td>\n",
              "      <td>30</td>\n",
              "    </tr>\n",
              "    <tr>\n",
              "      <th>69</th>\n",
              "      <td>1951</td>\n",
              "      <td>2584034261</td>\n",
              "      <td>47603112</td>\n",
              "      <td>17</td>\n",
              "      <td>775067697</td>\n",
              "      <td>30</td>\n",
              "    </tr>\n",
              "  </tbody>\n",
              "</table>\n",
              "<p>70 rows × 6 columns</p>\n",
              "</div>"
            ],
            "text/plain": [
              "    Year  Population  NetChange  Density       Urban  UrbanPerc\n",
              "0   2020  7794798739   81330639       52  4378993944         56\n",
              "1   2019  7713468100   82377060       52  4299438618         56\n",
              "2   2018  7631091040   83232115       51  4219817318         55\n",
              "3   2017  7547858925   83836876       51  4140188594         55\n",
              "4   2016  7464022049   84224910       50  4060652683         54\n",
              "..   ...         ...        ...      ...         ...        ...\n",
              "65  1955  2773019936   48173195       19   877008842         32\n",
              "66  1954  2724846741   47237781       18   850179106         31\n",
              "67  1953  2677608960   46747398       18   824289989         31\n",
              "68  1952  2630861562   46827301       18   799282533         30\n",
              "69  1951  2584034261   47603112       17   775067697         30\n",
              "\n",
              "[70 rows x 6 columns]"
            ]
          },
          "metadata": {
            "tags": []
          },
          "execution_count": 52
        }
      ]
    },
    {
      "cell_type": "code",
      "metadata": {
        "id": "dvM0eYkkou0m"
      },
      "source": [
        "x=df.iloc[:,1:].values\n",
        "y=df.iloc[:,:1].values"
      ],
      "execution_count": null,
      "outputs": []
    },
    {
      "cell_type": "code",
      "metadata": {
        "colab": {
          "base_uri": "https://localhost:8080/",
          "height": 399
        },
        "id": "quWxusXCtckS",
        "outputId": "c4fa1349-2e4d-45aa-c637-e32ed3772d49"
      },
      "source": [
        "x=df.iloc[:,1:]\n",
        "x"
      ],
      "execution_count": null,
      "outputs": [
        {
          "output_type": "execute_result",
          "data": {
            "text/html": [
              "<div>\n",
              "<style scoped>\n",
              "    .dataframe tbody tr th:only-of-type {\n",
              "        vertical-align: middle;\n",
              "    }\n",
              "\n",
              "    .dataframe tbody tr th {\n",
              "        vertical-align: top;\n",
              "    }\n",
              "\n",
              "    .dataframe thead th {\n",
              "        text-align: right;\n",
              "    }\n",
              "</style>\n",
              "<table border=\"1\" class=\"dataframe\">\n",
              "  <thead>\n",
              "    <tr style=\"text-align: right;\">\n",
              "      <th></th>\n",
              "      <th>Population</th>\n",
              "      <th>NetChange</th>\n",
              "      <th>Density</th>\n",
              "      <th>Urban</th>\n",
              "      <th>UrbanPerc</th>\n",
              "    </tr>\n",
              "  </thead>\n",
              "  <tbody>\n",
              "    <tr>\n",
              "      <th>0</th>\n",
              "      <td>7794798739</td>\n",
              "      <td>81330639</td>\n",
              "      <td>52</td>\n",
              "      <td>4378993944</td>\n",
              "      <td>56</td>\n",
              "    </tr>\n",
              "    <tr>\n",
              "      <th>1</th>\n",
              "      <td>7713468100</td>\n",
              "      <td>82377060</td>\n",
              "      <td>52</td>\n",
              "      <td>4299438618</td>\n",
              "      <td>56</td>\n",
              "    </tr>\n",
              "    <tr>\n",
              "      <th>2</th>\n",
              "      <td>7631091040</td>\n",
              "      <td>83232115</td>\n",
              "      <td>51</td>\n",
              "      <td>4219817318</td>\n",
              "      <td>55</td>\n",
              "    </tr>\n",
              "    <tr>\n",
              "      <th>3</th>\n",
              "      <td>7547858925</td>\n",
              "      <td>83836876</td>\n",
              "      <td>51</td>\n",
              "      <td>4140188594</td>\n",
              "      <td>55</td>\n",
              "    </tr>\n",
              "    <tr>\n",
              "      <th>4</th>\n",
              "      <td>7464022049</td>\n",
              "      <td>84224910</td>\n",
              "      <td>50</td>\n",
              "      <td>4060652683</td>\n",
              "      <td>54</td>\n",
              "    </tr>\n",
              "    <tr>\n",
              "      <th>...</th>\n",
              "      <td>...</td>\n",
              "      <td>...</td>\n",
              "      <td>...</td>\n",
              "      <td>...</td>\n",
              "      <td>...</td>\n",
              "    </tr>\n",
              "    <tr>\n",
              "      <th>65</th>\n",
              "      <td>2773019936</td>\n",
              "      <td>48173195</td>\n",
              "      <td>19</td>\n",
              "      <td>877008842</td>\n",
              "      <td>32</td>\n",
              "    </tr>\n",
              "    <tr>\n",
              "      <th>66</th>\n",
              "      <td>2724846741</td>\n",
              "      <td>47237781</td>\n",
              "      <td>18</td>\n",
              "      <td>850179106</td>\n",
              "      <td>31</td>\n",
              "    </tr>\n",
              "    <tr>\n",
              "      <th>67</th>\n",
              "      <td>2677608960</td>\n",
              "      <td>46747398</td>\n",
              "      <td>18</td>\n",
              "      <td>824289989</td>\n",
              "      <td>31</td>\n",
              "    </tr>\n",
              "    <tr>\n",
              "      <th>68</th>\n",
              "      <td>2630861562</td>\n",
              "      <td>46827301</td>\n",
              "      <td>18</td>\n",
              "      <td>799282533</td>\n",
              "      <td>30</td>\n",
              "    </tr>\n",
              "    <tr>\n",
              "      <th>69</th>\n",
              "      <td>2584034261</td>\n",
              "      <td>47603112</td>\n",
              "      <td>17</td>\n",
              "      <td>775067697</td>\n",
              "      <td>30</td>\n",
              "    </tr>\n",
              "  </tbody>\n",
              "</table>\n",
              "<p>70 rows × 5 columns</p>\n",
              "</div>"
            ],
            "text/plain": [
              "    Population  NetChange  Density       Urban  UrbanPerc\n",
              "0   7794798739   81330639       52  4378993944         56\n",
              "1   7713468100   82377060       52  4299438618         56\n",
              "2   7631091040   83232115       51  4219817318         55\n",
              "3   7547858925   83836876       51  4140188594         55\n",
              "4   7464022049   84224910       50  4060652683         54\n",
              "..         ...        ...      ...         ...        ...\n",
              "65  2773019936   48173195       19   877008842         32\n",
              "66  2724846741   47237781       18   850179106         31\n",
              "67  2677608960   46747398       18   824289989         31\n",
              "68  2630861562   46827301       18   799282533         30\n",
              "69  2584034261   47603112       17   775067697         30\n",
              "\n",
              "[70 rows x 5 columns]"
            ]
          },
          "metadata": {
            "tags": []
          },
          "execution_count": 81
        }
      ]
    },
    {
      "cell_type": "code",
      "metadata": {
        "colab": {
          "base_uri": "https://localhost:8080/",
          "height": 399
        },
        "id": "vgYEZ0Q1tmgv",
        "outputId": "9ea06ff3-4ee3-4d31-e87a-90540b4965eb"
      },
      "source": [
        "y=df.iloc[:,:1]\n",
        "y"
      ],
      "execution_count": null,
      "outputs": [
        {
          "output_type": "execute_result",
          "data": {
            "text/html": [
              "<div>\n",
              "<style scoped>\n",
              "    .dataframe tbody tr th:only-of-type {\n",
              "        vertical-align: middle;\n",
              "    }\n",
              "\n",
              "    .dataframe tbody tr th {\n",
              "        vertical-align: top;\n",
              "    }\n",
              "\n",
              "    .dataframe thead th {\n",
              "        text-align: right;\n",
              "    }\n",
              "</style>\n",
              "<table border=\"1\" class=\"dataframe\">\n",
              "  <thead>\n",
              "    <tr style=\"text-align: right;\">\n",
              "      <th></th>\n",
              "      <th>Year</th>\n",
              "    </tr>\n",
              "  </thead>\n",
              "  <tbody>\n",
              "    <tr>\n",
              "      <th>0</th>\n",
              "      <td>2020</td>\n",
              "    </tr>\n",
              "    <tr>\n",
              "      <th>1</th>\n",
              "      <td>2019</td>\n",
              "    </tr>\n",
              "    <tr>\n",
              "      <th>2</th>\n",
              "      <td>2018</td>\n",
              "    </tr>\n",
              "    <tr>\n",
              "      <th>3</th>\n",
              "      <td>2017</td>\n",
              "    </tr>\n",
              "    <tr>\n",
              "      <th>4</th>\n",
              "      <td>2016</td>\n",
              "    </tr>\n",
              "    <tr>\n",
              "      <th>...</th>\n",
              "      <td>...</td>\n",
              "    </tr>\n",
              "    <tr>\n",
              "      <th>65</th>\n",
              "      <td>1955</td>\n",
              "    </tr>\n",
              "    <tr>\n",
              "      <th>66</th>\n",
              "      <td>1954</td>\n",
              "    </tr>\n",
              "    <tr>\n",
              "      <th>67</th>\n",
              "      <td>1953</td>\n",
              "    </tr>\n",
              "    <tr>\n",
              "      <th>68</th>\n",
              "      <td>1952</td>\n",
              "    </tr>\n",
              "    <tr>\n",
              "      <th>69</th>\n",
              "      <td>1951</td>\n",
              "    </tr>\n",
              "  </tbody>\n",
              "</table>\n",
              "<p>70 rows × 1 columns</p>\n",
              "</div>"
            ],
            "text/plain": [
              "    Year\n",
              "0   2020\n",
              "1   2019\n",
              "2   2018\n",
              "3   2017\n",
              "4   2016\n",
              "..   ...\n",
              "65  1955\n",
              "66  1954\n",
              "67  1953\n",
              "68  1952\n",
              "69  1951\n",
              "\n",
              "[70 rows x 1 columns]"
            ]
          },
          "metadata": {
            "tags": []
          },
          "execution_count": 87
        }
      ]
    },
    {
      "cell_type": "code",
      "metadata": {
        "id": "rGVGZG3uouyY"
      },
      "source": [
        "from sklearn.model_selection import train_test_split\n",
        "x_train,x_test,y_train,y_test=train_test_split(x,y,test_size=0.3,random_state=0)"
      ],
      "execution_count": null,
      "outputs": []
    },
    {
      "cell_type": "code",
      "metadata": {
        "colab": {
          "base_uri": "https://localhost:8080/"
        },
        "id": "XLyYQ2t6ouvr",
        "outputId": "da8cc18c-d0f9-4728-b382-d5b7aa5d595f"
      },
      "source": [
        "x_train"
      ],
      "execution_count": null,
      "outputs": [
        {
          "output_type": "execute_result",
          "data": {
            "text/plain": [
              "array([[3700437046,   74756419,         25, 1354215496,         37],\n",
              "       [7631091040,   83232115,         51, 4219817318,         55],\n",
              "       [4458003514,   77497414,         30, 1754201029,         39],\n",
              "       [6872767093,   83678407,         46, 3516830263,         51],\n",
              "       [7547858925,   83836876,         51, 4140188594,         55],\n",
              "       [3407922630,   68339033,         23, 1219993032,         36],\n",
              "       [4079480606,   75686434,         27, 1538624994,         38],\n",
              "       [6956823603,   84056510,         47, 3594868146,         52],\n",
              "       [4380506100,   75972599,         29, 1706021638,         39],\n",
              "       [3775759617,   75322571,         25, 1388834099,         37],\n",
              "       [3478769962,   70847332,         23, 1252566565,         36],\n",
              "       [3211001009,   60580214,         22, 1122561940,         35],\n",
              "       [5145426008,   92903861,         35, 2176126537,         42],\n",
              "       [6623517833,   81610806,         44, 3289446226,         50],\n",
              "       [2677608960,   46747398,         18,  824289989,         31],\n",
              "       [6222626606,   79132783,         42, 2933078510,         47],\n",
              "       [5414289444,   87058383,         36, 2347462336,         43],\n",
              "       [3551599127,   72829165,         24, 1285933432,         36],\n",
              "       [4870921740,   86910119,         33, 2007939063,         41],\n",
              "       [6301773188,   79146582,         42, 3001808223,         48],\n",
              "       [7794798739,   81330639,         52, 4378993944,         56],\n",
              "       [6541907027,   80747638,         44, 3215905863,         49],\n",
              "       [7379797139,   84506374,         50, 3981497663,         54],\n",
              "       [6461159389,   79974275,         43, 3143044892,         49],\n",
              "       [6143493823,   79254768,         41, 2868307513,         47],\n",
              "       [2724846741,   47237781,         18,  850179106,         31],\n",
              "       [7125828059,   84633758,         48, 3747842586,         53],\n",
              "       [6705946610,   82428777,         45, 3363609560,         50],\n",
              "       [5744212979,   81062552,         39, 2575505235,         45],\n",
              "       [4699569304,   82182762,         32, 1903822436,         41],\n",
              "       [6381185114,   79411926,         43, 3071743997,         48],\n",
              "       [3034949748,   55373563,         20, 1023845517,         34],\n",
              "       [4003794172,   76013934,         27, 1501134655,         37],\n",
              "       [2873306090,   50862808,         19,  933113168,         32],\n",
              "       [4536996762,   78993248,         30, 1804215203,         40],\n",
              "       [4617386542,   80389780,         31, 1854134229,         40],\n",
              "       [7713468100,   82377060,         52, 4299438618,         56],\n",
              "       [3150420795,   58577288,         21, 1088376703,         35],\n",
              "       [6789088686,   83142076,         46, 3439719128,         51],\n",
              "       [2979576185,   53889480,         20,  992820546,         33],\n",
              "       [5824891951,   80678972,         39, 2632941583,         45],\n",
              "       [7295290765,   84708789,         49, 3902831934,         53],\n",
              "       [5905045788,   80153837,         40, 2690813541,         46],\n",
              "       [4784011621,   84442317,         32, 1955106433,         41],\n",
              "       [6064239055,   79445113,         41, 2808231655,         46],\n",
              "       [7041194301,   84370698,         47, 3671423872,         52],\n",
              "       [2822443282,   49423346,         19,  904685164,         32],\n",
              "       [3927780238,   76129993,         26, 1462178370,         37],\n",
              "       [4154666864,   75186258,         28, 1577376141,         38]])"
            ]
          },
          "metadata": {
            "tags": []
          },
          "execution_count": 90
        }
      ]
    },
    {
      "cell_type": "code",
      "metadata": {
        "colab": {
          "base_uri": "https://localhost:8080/"
        },
        "id": "FFJmEyj_rs0R",
        "outputId": "dc4773b6-2042-4996-a9b9-1c29cdaaa3a2"
      },
      "source": [
        "y_train"
      ],
      "execution_count": null,
      "outputs": [
        {
          "output_type": "execute_result",
          "data": {
            "text/plain": [
              "array([[1970],\n",
              "       [2018],\n",
              "       [1980],\n",
              "       [2009],\n",
              "       [2017],\n",
              "       [1966],\n",
              "       [1975],\n",
              "       [2010],\n",
              "       [1979],\n",
              "       [1971],\n",
              "       [1967],\n",
              "       [1963],\n",
              "       [1988],\n",
              "       [2006],\n",
              "       [1953],\n",
              "       [2001],\n",
              "       [1991],\n",
              "       [1968],\n",
              "       [1985],\n",
              "       [2002],\n",
              "       [2020],\n",
              "       [2005],\n",
              "       [2015],\n",
              "       [2004],\n",
              "       [2000],\n",
              "       [1954],\n",
              "       [2012],\n",
              "       [2007],\n",
              "       [1995],\n",
              "       [1983],\n",
              "       [2003],\n",
              "       [1960],\n",
              "       [1974],\n",
              "       [1957],\n",
              "       [1981],\n",
              "       [1982],\n",
              "       [2019],\n",
              "       [1962],\n",
              "       [2008],\n",
              "       [1959],\n",
              "       [1996],\n",
              "       [2014],\n",
              "       [1997],\n",
              "       [1984],\n",
              "       [1999],\n",
              "       [2011],\n",
              "       [1956],\n",
              "       [1973],\n",
              "       [1976]])"
            ]
          },
          "metadata": {
            "tags": []
          },
          "execution_count": 91
        }
      ]
    },
    {
      "cell_type": "code",
      "metadata": {
        "id": "EkbJLdi0rsx4"
      },
      "source": [
        "from sklearn.preprocessing import MinMaxScaler\n",
        "sc1=MinMaxScaler()\n",
        "x_train=sc1.fit_transform(x_train)\n",
        "x_test=sc1.fit_transform(x_test)"
      ],
      "execution_count": null,
      "outputs": []
    },
    {
      "cell_type": "code",
      "metadata": {
        "colab": {
          "base_uri": "https://localhost:8080/"
        },
        "id": "DZx37-4drsvb",
        "outputId": "52ce270b-6f51-4812-9505-04f42fce0d3f"
      },
      "source": [
        "x_train"
      ],
      "execution_count": null,
      "outputs": [
        {
          "output_type": "execute_result",
          "data": {
            "text/plain": [
              "array([[0.19988082, 0.60682772, 0.20588235, 0.14907725, 0.24      ],\n",
              "       [0.96800828, 0.79045738, 0.97058824, 0.95522085, 0.96      ],\n",
              "       [0.34792428, 0.66621257, 0.35294118, 0.26160014, 0.32      ],\n",
              "       [0.8198168 , 0.8001265 , 0.82352941, 0.75745837, 0.8       ],\n",
              "       [0.95174308, 0.8035598 , 0.97058824, 0.9328199 , 0.96      ],\n",
              "       [0.14271772, 0.46779224, 0.14705882, 0.11131814, 0.2       ],\n",
              "       [0.27395342, 0.6269769 , 0.26470588, 0.20095485, 0.28      ],\n",
              "       [0.8362431 , 0.80831826, 0.85294118, 0.77941179, 0.84      ],\n",
              "       [0.33277975, 0.63317679, 0.32352941, 0.24804644, 0.32      ],\n",
              "       [0.21460034, 0.61909365, 0.20588235, 0.15881607, 0.24      ],\n",
              "       [0.15656269, 0.52213563, 0.14705882, 0.12048164, 0.2       ],\n",
              "       [0.10423535, 0.29969402, 0.11764706, 0.08390908, 0.16      ],\n",
              "       [0.48226022, 1.        , 0.5       , 0.38029511, 0.44      ],\n",
              "       [0.77110857, 0.75533101, 0.76470588, 0.69349129, 0.76      ],\n",
              "       [0.        , 0.        , 0.        , 0.        , 0.        ],\n",
              "       [0.6927665 , 0.70164356, 0.70588235, 0.59323886, 0.64      ],\n",
              "       [0.53480144, 0.87335516, 0.52941176, 0.42849485, 0.48      ],\n",
              "       [0.17079495, 0.56507291, 0.17647059, 0.12986832, 0.2       ],\n",
              "       [0.42861666, 0.87014295, 0.44117647, 0.33298106, 0.4       ],\n",
              "       [0.7082333 , 0.70194252, 0.70588235, 0.61257372, 0.68      ],\n",
              "       [1.        , 0.74926107, 1.        , 1.        , 1.        ],\n",
              "       [0.7551602 , 0.7366301 , 0.76470588, 0.67280311, 0.72      ],\n",
              "       [0.91890049, 0.81806476, 0.94117647, 0.88817739, 0.92      ],\n",
              "       [0.73938052, 0.71987485, 0.73529412, 0.65230605, 0.72      ],\n",
              "       [0.67730239, 0.70428642, 0.67647059, 0.57501765, 0.64      ],\n",
              "       [0.0092312 , 0.01062436, 0.        , 0.00728306, 0.        ],\n",
              "       [0.86926991, 0.82082459, 0.88235294, 0.82244615, 0.88      ],\n",
              "       [0.78721678, 0.77305271, 0.79411765, 0.71435473, 0.76      ],\n",
              "       [0.59927502, 0.74345285, 0.61764706, 0.49264728, 0.56      ],\n",
              "       [0.39513101, 0.76772269, 0.41176471, 0.30369124, 0.4       ],\n",
              "       [0.72375196, 0.70769132, 0.73529412, 0.63224787, 0.68      ],\n",
              "       [0.06983145, 0.18688965, 0.05882353, 0.05613844, 0.12      ],\n",
              "       [0.2591628 , 0.63407233, 0.26470588, 0.19040817, 0.24      ],\n",
              "       [0.03824309, 0.08916216, 0.02941176, 0.03061385, 0.04      ],\n",
              "       [0.36336112, 0.69862047, 0.35294118, 0.27566999, 0.36      ],\n",
              "       [0.37907087, 0.72887695, 0.38235294, 0.28971308, 0.36      ],\n",
              "       [0.98410639, 0.77193224, 1.        , 0.9776197 , 1.        ],\n",
              "       [0.09239678, 0.25629975, 0.08823529, 0.07429218, 0.16      ],\n",
              "       [0.80346438, 0.78850665, 0.82352941, 0.73576567, 0.8       ],\n",
              "       [0.05901036, 0.15473634, 0.05882353, 0.04741057, 0.08      ],\n",
              "       [0.61504129, 0.73514242, 0.61764706, 0.50880513, 0.56      ],\n",
              "       [0.90238627, 0.82245017, 0.91176471, 0.86604735, 0.88      ],\n",
              "       [0.63070493, 0.72376514, 0.64705882, 0.52508551, 0.6       ],\n",
              "       [0.4116327 , 0.81667694, 0.41176471, 0.31811832, 0.4       ],\n",
              "       [0.66181444, 0.70841033, 0.67647059, 0.55811727, 0.6       ],\n",
              "       [0.8527308 , 0.81512528, 0.85294118, 0.80094824, 0.84      ],\n",
              "       [0.02830349, 0.05797559, 0.02941176, 0.02261656, 0.04      ],\n",
              "       [0.24430817, 0.6365868 , 0.23529412, 0.17944909, 0.24      ],\n",
              "       [0.2886463 , 0.61614037, 0.29411765, 0.21185622, 0.28      ]])"
            ]
          },
          "metadata": {
            "tags": []
          },
          "execution_count": 93
        }
      ]
    },
    {
      "cell_type": "code",
      "metadata": {
        "colab": {
          "base_uri": "https://localhost:8080/"
        },
        "id": "gWVcTH63rstH",
        "outputId": "62a14e10-dc33-4d24-efe0-d0d81e10332a"
      },
      "source": [
        "y_train"
      ],
      "execution_count": null,
      "outputs": [
        {
          "output_type": "execute_result",
          "data": {
            "text/plain": [
              "array([[1970],\n",
              "       [2018],\n",
              "       [1980],\n",
              "       [2009],\n",
              "       [2017],\n",
              "       [1966],\n",
              "       [1975],\n",
              "       [2010],\n",
              "       [1979],\n",
              "       [1971],\n",
              "       [1967],\n",
              "       [1963],\n",
              "       [1988],\n",
              "       [2006],\n",
              "       [1953],\n",
              "       [2001],\n",
              "       [1991],\n",
              "       [1968],\n",
              "       [1985],\n",
              "       [2002],\n",
              "       [2020],\n",
              "       [2005],\n",
              "       [2015],\n",
              "       [2004],\n",
              "       [2000],\n",
              "       [1954],\n",
              "       [2012],\n",
              "       [2007],\n",
              "       [1995],\n",
              "       [1983],\n",
              "       [2003],\n",
              "       [1960],\n",
              "       [1974],\n",
              "       [1957],\n",
              "       [1981],\n",
              "       [1982],\n",
              "       [2019],\n",
              "       [1962],\n",
              "       [2008],\n",
              "       [1959],\n",
              "       [1996],\n",
              "       [2014],\n",
              "       [1997],\n",
              "       [1984],\n",
              "       [1999],\n",
              "       [2011],\n",
              "       [1956],\n",
              "       [1973],\n",
              "       [1976]])"
            ]
          },
          "metadata": {
            "tags": []
          },
          "execution_count": 94
        }
      ]
    },
    {
      "cell_type": "code",
      "metadata": {
        "colab": {
          "base_uri": "https://localhost:8080/"
        },
        "id": "If03zvAersqk",
        "outputId": "0775ceaf-d644-4855-c864-de3aab08428d"
      },
      "source": [
        "from sklearn.linear_model import LinearRegression\n",
        "model=LinearRegression()\n",
        "model.fit(x_train,y_train)"
      ],
      "execution_count": null,
      "outputs": [
        {
          "output_type": "execute_result",
          "data": {
            "text/plain": [
              "LinearRegression(copy_X=True, fit_intercept=True, n_jobs=None, normalize=False)"
            ]
          },
          "metadata": {
            "tags": []
          },
          "execution_count": 96
        }
      ]
    },
    {
      "cell_type": "code",
      "metadata": {
        "id": "T_WR46qysMfU"
      },
      "source": [
        "y_pred=model.predict(x_test)"
      ],
      "execution_count": null,
      "outputs": []
    },
    {
      "cell_type": "code",
      "metadata": {
        "id": "2XKieR6CsMdT"
      },
      "source": [
        "result_data=pd.DataFrame()\n",
        "result_data['Actual']=y_test\n",
        "result_data['Predict']=y_pred\n",
        "result_data"
      ],
      "execution_count": null,
      "outputs": []
    },
    {
      "cell_type": "code",
      "metadata": {
        "id": "EYPM42s9sMbD"
      },
      "source": [
        "plt.plot(result_data['Actual'], label='Actual ')\n",
        "plt.plot(result_data['Predict'],label='Predicted ')\n",
        "plt.title(\"Actual and Prdited  Comparision\")\n",
        "plt.legend()\n",
        "plt.show()"
      ],
      "execution_count": null,
      "outputs": []
    },
    {
      "cell_type": "code",
      "metadata": {
        "id": "r1cMY5txsMYx",
        "colab": {
          "base_uri": "https://localhost:8080/"
        },
        "outputId": "ab2b76e2-1906-4281-8611-082245b93b35"
      },
      "source": [
        "from sklearn.metrics import r2_score\n",
        "r2_score(y_test, y_pred)*100"
      ],
      "execution_count": null,
      "outputs": [
        {
          "output_type": "execute_result",
          "data": {
            "text/plain": [
              "97.81828359026193"
            ]
          },
          "metadata": {
            "tags": []
          },
          "execution_count": 78
        }
      ]
    }
  ]
}